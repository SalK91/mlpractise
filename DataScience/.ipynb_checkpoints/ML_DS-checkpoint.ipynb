{
 "cells": [
  {
   "cell_type": "markdown",
   "metadata": {
    "id": "lHIF13AT9H7h"
   },
   "source": [
    "# Online Shopping behavior."
   ]
  },
  {
   "cell_type": "markdown",
   "metadata": {
    "id": "CmZ2yqbH9H7m"
   },
   "source": [
    "## The data set for this assignment is from \"Online Shoppers Purchasing Intention Dataset Data Set\" https://www.kaggle.com/henrysue/online-shoppers-intention"
   ]
  },
  {
   "cell_type": "code",
   "execution_count": null,
   "metadata": {
    "id": "8H0WJQSrU_Xo"
   },
   "outputs": [],
   "source": [
    "## Importing required Libraries\n",
    "import os\n",
    "import tensorflow as tf\n",
    "import numpy as np\n",
    "import pandas as pd\n",
    "import seaborn as sns\n",
    "import matplotlib.pyplot as plt"
   ]
  },
  {
   "cell_type": "markdown",
   "metadata": {
    "id": "8ywEPdUiAMAE"
   },
   "source": [
    "# TASK -1\n",
    "## Data Preprocessing\n",
    "\n",
    "Discard features which we can't use in models e.g. features which only have one-category in train set and Month as train and test have distinct set of Months.\n",
    "\n",
    "Further more we are implementing standard-scaling on all numberical features, while categorical features are being encoding via One_hot encoding."
   ]
  },
  {
   "cell_type": "code",
   "execution_count": 3,
   "metadata": {
    "colab": {
     "base_uri": "https://localhost:8080/"
    },
    "executionInfo": {
     "elapsed": 887,
     "status": "ok",
     "timestamp": 1627113745085,
     "user": {
      "displayName": "Salman",
      "photoUrl": "",
      "userId": "12336350671635365797"
     },
     "user_tz": -60
    },
    "id": "Af2od7eRAa-6",
    "outputId": "1099a1bb-90c0-4192-9bde-221593a64459"
   },
   "outputs": [
    {
     "name": "stdout",
     "output_type": "stream",
     "text": [
      "   Administrative  Administrative_Duration  ...  Weekend  Revenue\n",
      "0               0                      0.0  ...        0        0\n",
      "1               0                      0.0  ...        0        0\n",
      "2               0                      0.0  ...        0        0\n",
      "3               0                      0.0  ...        0        0\n",
      "4               0                      0.0  ...        1        0\n",
      "\n",
      "[5 rows x 18 columns]\n",
      "<class 'pandas.core.frame.DataFrame'>\n",
      "RangeIndex: 12330 entries, 0 to 12329\n",
      "Data columns (total 18 columns):\n",
      " #   Column                   Non-Null Count  Dtype  \n",
      "---  ------                   --------------  -----  \n",
      " 0   Administrative           12330 non-null  int64  \n",
      " 1   Administrative_Duration  12330 non-null  float64\n",
      " 2   Informational            12330 non-null  int64  \n",
      " 3   Informational_Duration   12330 non-null  float64\n",
      " 4   ProductRelated           12330 non-null  int64  \n",
      " 5   ProductRelated_Duration  12330 non-null  float64\n",
      " 6   BounceRates              12330 non-null  float64\n",
      " 7   ExitRates                12330 non-null  float64\n",
      " 8   PageValues               12330 non-null  float64\n",
      " 9   SpecialDay               12330 non-null  float64\n",
      " 10  Month                    12330 non-null  object \n",
      " 11  OperatingSystems         12330 non-null  object \n",
      " 12  Browser                  12330 non-null  object \n",
      " 13  Region                   12330 non-null  object \n",
      " 14  TrafficType              12330 non-null  object \n",
      " 15  VisitorType              12330 non-null  object \n",
      " 16  Weekend                  12330 non-null  int64  \n",
      " 17  Revenue                  12330 non-null  int64  \n",
      "dtypes: float64(7), int64(5), object(6)\n",
      "memory usage: 1.7+ MB\n",
      "None\n"
     ]
    }
   ],
   "source": [
    "#LOAD DATA AND CORRECT DATA TYPES\n",
    "url = './online_shoppers_intention.csv'\n",
    "df = pd.read_csv(url, error_bad_lines=False)\n",
    "df['Revenue'] = df['Revenue'].map({False: 0, True: 1})\n",
    "df['Weekend'] = df['Weekend'].map({False: 0, True: 1})\n",
    "\n",
    "#Correcting data type to object for operating system, browser, region, traffic type  feature as they lack any hierarchy or order:\n",
    "feature_dtype_obj = ['OperatingSystems','Browser','Region','TrafficType']\n",
    "df[feature_dtype_obj] = df[feature_dtype_obj].astype(object)\n",
    "\n",
    "print(df.head())\n",
    "print(df.info())"
   ]
  },
  {
   "cell_type": "code",
   "execution_count": 4,
   "metadata": {
    "colab": {
     "base_uri": "https://localhost:8080/"
    },
    "executionInfo": {
     "elapsed": 201,
     "status": "ok",
     "timestamp": 1627113749781,
     "user": {
      "displayName": "Salman",
      "photoUrl": "",
      "userId": "12336350671635365797"
     },
     "user_tz": -60
    },
    "id": "BPIaiig4XFz8",
    "outputId": "9663882e-dec1-4b94-d58b-44b566e45c07"
   },
   "outputs": [
    {
     "name": "stdout",
     "output_type": "stream",
     "text": [
      "Train Distribution = 0.19607272727272726\n",
      "Test Distribution  = 0.09325681492109039\n",
      "Train and Test Distribution seem very different \n",
      "\n",
      "Administrative               27\n",
      "Administrative_Duration    2504\n",
      "Informational                14\n",
      "Informational_Duration      964\n",
      "ProductRelated              302\n",
      "ProductRelated_Duration    6046\n",
      "BounceRates                1438\n",
      "ExitRates                  3268\n",
      "PageValues                 1673\n",
      "OperatingSystems              8\n",
      "Browser                      12\n",
      "Region                        9\n",
      "TrafficType                  15\n",
      "VisitorType                   3\n",
      "Weekend                       2\n",
      "dtype: int64\n",
      "\n",
      "Based on Above - we are discarding SpecialDay from the feature set as it only has 1 unique value in training set.\n",
      "(6875, 57)\n"
     ]
    }
   ],
   "source": [
    "#Split Data in Train and Test Set\n",
    "df_train =  df[df['Month'].isin(['June','Jul','Aug','Sep','Oct','Nov','Dec'])]\n",
    "df_test  =  df[df['Month'].isin(['Feb','Mar'])]\n",
    "\n",
    "df.head()\n",
    "\n",
    "#Train \n",
    "X_train = df_train.drop(['Month', 'Revenue','SpecialDay'], axis=1)\n",
    "X_test  = df_test.drop(['Month', 'Revenue','SpecialDay'], axis=1)\n",
    "\n",
    "y_train = df_train['Revenue']\n",
    "y_test = df_test['Revenue']\n",
    "\n",
    "print(f'Train Distribution = {y_train.mean()}')\n",
    "print(f'Test Distribution  = {y_test.mean()}')\n",
    "print('Train and Test Distribution seem very different \\n')\n",
    "\n",
    "\n",
    "#Unique Count for Each Columns\n",
    "print(X_train.apply(lambda col: len(col.unique())))\n",
    "\n",
    "\n",
    "\n",
    "# #Non-numeric Features\n",
    "non_numeric_columns = [col_i for col_i in X_train.columns if X_train[col_i].dtype in ['object']]\n",
    "# print('')\n",
    "# print('Object Features')\n",
    "# for col_i in non_numeric_columns:\n",
    "#   print(X_train[col_i].value_counts())\n",
    "#   print('*****')\n",
    "\n",
    "# #Integer Features\n",
    "int_columns = [col_i for col_i in X_train.columns if X_train[col_i].dtype in ['int64']]\n",
    "# print('')\n",
    "# print('Integer Features')\n",
    "# for col_i in int_columns:\n",
    "#   print(X_train[col_i].value_counts())\n",
    "#   print('*****')\n",
    "\n",
    "# #Numeric Features \n",
    "float_columns = [col_i for col_i in X_train.columns if X_train[col_i].dtype in ['float64']]\n",
    "# print('')\n",
    "# print('Integer Features')\n",
    "# float_columns.append('Revenue')\n",
    "# float_columns\n",
    "\n",
    "# sns.pairplot(df_train[float_columns], hue=\"Revenue\") \n",
    "\n",
    "print('\\nBased on Above - we are discarding SpecialDay from the feature set as it only has 1 unique value in training set.')\n",
    "\n",
    "X_train.reset_index(drop=True, inplace=True)\n",
    "X_test.reset_index(drop=True, inplace=True)\n",
    "\n",
    "y_train.reset_index(drop=True, inplace=True)\n",
    "y_test.reset_index(drop=True, inplace=True)\n",
    "\n",
    "#X_train.head()\n",
    "\n",
    "\n",
    "#Pre-Processing \n",
    "from sklearn.preprocessing import OneHotEncoder\n",
    "from sklearn.preprocessing import StandardScaler\n",
    "\n",
    "non_numeric_columns = [col_i for col_i in X_train.columns if X_train[col_i].dtype in ['object']]\n",
    "float_columns = [col_i for col_i in X_train.columns if X_train[col_i].dtype in ['float64']]\n",
    "int_columns = [col_i for col_i in X_train.columns if X_train[col_i].dtype in ['int64']]\n",
    "int_float_cols = float_columns + int_columns\n",
    "\n",
    "#Standard Scaling for real and integer value variables.\n",
    "for col_i in int_float_cols:\n",
    "  #print(col_i)\n",
    "  scaler = StandardScaler()\n",
    "  scaler.fit(X_train[[col_i]])\n",
    "\n",
    "  X_train_scaled = pd.DataFrame(scaler.transform(X_train[[col_i]]))\n",
    "  X_train[[col_i]]= X_train_scaled\n",
    "\n",
    "  X_test_scaled = pd.DataFrame(scaler.transform(X_test[[col_i]]))\n",
    "  X_test[[col_i]]= X_test_scaled\n",
    "\n",
    "#non_numeric_columns to one-hot encoding\n",
    "for col_i in non_numeric_columns:\n",
    "  #print(col_i)\n",
    "  enc = OneHotEncoder(handle_unknown='ignore')\n",
    "  enc.fit(X_train[[col_i]])\n",
    "\n",
    "  X_train_onhot = pd.DataFrame(enc.transform(X_train[[col_i]]).toarray())\n",
    "  X_train_onhot.columns = enc.get_feature_names([col_i])\n",
    "  X_train.drop([col_i] ,axis=1, inplace=True)\n",
    "  X_train= pd.concat([X_train, X_train_onhot ], axis=1)\n",
    "\n",
    "  X_test_onhot = pd.DataFrame(enc.transform(X_test[[col_i]]).toarray())\n",
    "  X_test_onhot.columns = enc.get_feature_names([col_i])\n",
    "  X_test.drop([col_i] ,axis=1, inplace=True)\n",
    "  X_test= pd.concat([X_test, X_test_onhot ], axis=1)\n",
    "\n",
    "#list(X_train.columns)\n",
    "print(X_train.shape)"
   ]
  },
  {
   "cell_type": "markdown",
   "metadata": {
    "id": "wcWwTxShAyP1"
   },
   "source": [
    "## Task 1 - a. Feature Correlation\n",
    "Identify and Eliminate one of the features if feature correlation exceeds by over 0.80."
   ]
  },
  {
   "cell_type": "code",
   "execution_count": 5,
   "metadata": {
    "colab": {
     "base_uri": "https://localhost:8080/",
     "height": 927
    },
    "executionInfo": {
     "elapsed": 1160,
     "status": "ok",
     "timestamp": 1627113756953,
     "user": {
      "displayName": "Salman",
      "photoUrl": "",
      "userId": "12336350671635365797"
     },
     "user_tz": -60
    },
    "id": "FKD-tJ-PdDTh",
    "outputId": "ccb72837-67b2-4f86-b794-7adba16a9289"
   },
   "outputs": [
    {
     "data": {
      "image/png": "[encoded data removed]",
      "text/plain": [
       "<Figure size 864x720 with 2 Axes>"
      ]
     },
     "metadata": {
      "needs_background": "light",
      "tags": []
     },
     "output_type": "display_data"
    },
    {
     "name": "stdout",
     "output_type": "stream",
     "text": [
      "ProductRelated_Duration\n",
      "ExitRates\n",
      "Browser_1\n",
      "Browser_11\n",
      "Browser_13\n",
      "VisitorType_Other\n",
      "\n",
      "The following columns are present in the new data:\n",
      "['Administrative', 'Administrative_Duration', 'Informational', 'Informational_Duration', 'ProductRelated', 'BounceRates', 'PageValues', 'Weekend', 'OperatingSystems_1', 'OperatingSystems_2', 'OperatingSystems_3', 'OperatingSystems_4', 'OperatingSystems_5', 'OperatingSystems_6', 'OperatingSystems_7', 'OperatingSystems_8', 'Browser_2', 'Browser_3', 'Browser_4', 'Browser_5', 'Browser_6', 'Browser_7', 'Browser_8', 'Browser_10', 'Browser_12', 'Region_1', 'Region_2', 'Region_3', 'Region_4', 'Region_5', 'Region_6', 'Region_7', 'Region_8', 'Region_9', 'TrafficType_1', 'TrafficType_2', 'TrafficType_3', 'TrafficType_4', 'TrafficType_5', 'TrafficType_6', 'TrafficType_7', 'TrafficType_8', 'TrafficType_10', 'TrafficType_11', 'TrafficType_13', 'TrafficType_14', 'TrafficType_15', 'TrafficType_16', 'TrafficType_20', 'VisitorType_New_Visitor', 'VisitorType_Returning_Visitor']\n",
      "The old data had 57 features. The new df has 51 features.\n"
     ]
    }
   ],
   "source": [
    "#Identify High Correlation Features\n",
    "plt.figure(figsize=(12,10))\n",
    "cor = X_train.corr(method='pearson')\n",
    "sns.heatmap(cor)\n",
    "plt.show()\n",
    "cor = cor.fillna(value=1)\n",
    "\n",
    "#Eliminate one of the feature if correlation above 0.70\n",
    "keep_columns = list(X_train.columns)\n",
    "for i in range(0,cor.columns.shape[0]-1):\n",
    "    for j in range(i+1,cor.columns.shape[0]-1):\n",
    "        if abs(cor.iloc[i,j]) >= 0.70:\n",
    "            if cor.columns[j] in keep_columns:\n",
    "                print(cor.columns[j])\n",
    "                keep_columns.remove(cor.columns[j])\n",
    "selected_columns = keep_columns\n",
    "X_train_relevant = X_train[selected_columns]\n",
    "X_test_relevant  = X_test[selected_columns]\n",
    "\n",
    "print('')\n",
    "print('The following columns are present in the new data:')\n",
    "print(selected_columns)\n",
    "print(f'The old data had {X_train.shape[1]} features. The new df has {X_train_relevant.shape[1]} features.')"
   ]
  },
  {
   "cell_type": "markdown",
   "metadata": {
    "id": "2S6ypvLKBCyv"
   },
   "source": [
    "# Task 1 - a.Feature Selection\n",
    "For feature selection we are using random forrest."
   ]
  },
  {
   "cell_type": "code",
   "execution_count": 6,
   "metadata": {
    "colab": {
     "base_uri": "https://localhost:8080/",
     "height": 648
    },
    "executionInfo": {
     "elapsed": 11704,
     "status": "ok",
     "timestamp": 1627113772117,
     "user": {
      "displayName": "Salman",
      "photoUrl": "",
      "userId": "12336350671635365797"
     },
     "user_tz": -60
    },
    "id": "e96NffA_fth7",
    "outputId": "e071197c-5350-4bd2-bdb4-e836e4d6a125"
   },
   "outputs": [
    {
     "name": "stderr",
     "output_type": "stream",
     "text": [
      "/usr/local/lib/python3.7/dist-packages/sklearn/utils/deprecation.py:144: FutureWarning: The sklearn.ensemble.forest module is  deprecated in version 0.22 and will be removed in version 0.24. The corresponding classes / functions should instead be imported from sklearn.ensemble. Anything that cannot be imported from sklearn.ensemble is now part of the private API.\n",
      "  warnings.warn(message, FutureWarning)\n"
     ]
    },
    {
     "data": {
      "image/png": "[encoded data removed]",
      "text/plain": [
       "<Figure size 432x288 with 1 Axes>"
      ]
     },
     "metadata": {
      "needs_background": "light",
      "tags": []
     },
     "output_type": "display_data"
    },
    {
     "name": "stdout",
     "output_type": "stream",
     "text": [
      "Index(['Administrative', 'Administrative_Duration', 'Informational',\n",
      "       'Informational_Duration', 'ProductRelated', 'BounceRates', 'PageValues',\n",
      "       'Weekend', 'OperatingSystems_1', 'OperatingSystems_2',\n",
      "       'OperatingSystems_3', 'Browser_2', 'Browser_4', 'Region_1', 'Region_3',\n",
      "       'TrafficType_1', 'TrafficType_2', 'TrafficType_3', 'TrafficType_4',\n",
      "       'TrafficType_5', 'TrafficType_8', 'TrafficType_10', 'TrafficType_11',\n",
      "       'TrafficType_13', 'VisitorType_New_Visitor',\n",
      "       'VisitorType_Returning_Visitor'],\n",
      "      dtype='object')\n",
      "26\n"
     ]
    }
   ],
   "source": [
    "#Feature Selection via Random Forest\n",
    "from sklearn.ensemble.forest import RandomForestClassifier\n",
    "from sklearn.feature_selection import SelectFromModel\n",
    "\n",
    "clf = RandomForestClassifier(n_estimators=2000,min_samples_split=0.025, random_state=0, class_weight = 'balanced')\n",
    "sfm = SelectFromModel(clf, threshold='median')\n",
    "sfm.fit(X_train_relevant, y_train)\n",
    "\n",
    "selected_feat = X_train_relevant.columns[(sfm.get_support())]\n",
    "importances = sfm.estimator_.feature_importances_\n",
    "indices = np.argsort(importances)[::-1]\n",
    "plt.figure()\n",
    "plt.title(\"Feature importances\")\n",
    "plt.bar(X_train_relevant.columns[indices], importances[indices],\n",
    "       color=\"r\", align=\"center\")\n",
    "plt.xticks(rotation=90)\n",
    "plt.show()\n",
    "\n",
    "print(selected_feat) \n",
    "print(len(selected_feat))\n",
    "\n",
    "X_train_important = X_train[selected_columns]\n",
    "X_test_important  = X_test[selected_columns]"
   ]
  },
  {
   "cell_type": "markdown",
   "metadata": {
    "id": "RGvefFRuBXON"
   },
   "source": [
    "#Visualize selected features.\n",
    "Selected features are being visualized via Pair-plots."
   ]
  },
  {
   "cell_type": "code",
   "execution_count": 7,
   "metadata": {
    "colab": {
     "base_uri": "https://localhost:8080/",
     "height": 1000,
     "output_embedded_package_id": "1_P95K2Pv7NR0krTQ3JpBrM_DqBGGNAKN"
    },
    "executionInfo": {
     "elapsed": 6592741,
     "status": "ok",
     "timestamp": 1627120364848,
     "user": {
      "displayName": "Salman",
      "photoUrl": "",
      "userId": "12336350671635365797"
     },
     "user_tz": -60
    },
    "id": "G9GjeTSFZHOR",
    "outputId": "92395955-be15-4f73-a2e6-2b3df87a728a"
   },
   "outputs": [
    {
     "data": {
      "text/plain": [
       "Output hidden; open in https://colab.research.google.com to view."
      ]
     },
     "metadata": {},
     "output_type": "display_data"
    }
   ],
   "source": [
    "#Pairs Plot for selected Features\n",
    "PairsPlotData = X_train_important.copy(deep=True)\n",
    "PairsPlotData['Revenue'] = y_train\n",
    "sns.pairplot(PairsPlotData, hue=\"Revenue\") "
   ]
  },
  {
   "cell_type": "code",
   "execution_count": 8,
   "metadata": {
    "executionInfo": {
     "elapsed": 20,
     "status": "ok",
     "timestamp": 1627120364850,
     "user": {
      "displayName": "Salman",
      "photoUrl": "",
      "userId": "12336350671635365797"
     },
     "user_tz": -60
    },
    "id": "xh4usrBD82Wi"
   },
   "outputs": [],
   "source": [
    "import warnings\n",
    "warnings.filterwarnings('ignore')"
   ]
  },
  {
   "cell_type": "markdown",
   "metadata": {
    "id": "QFwhxJNU-WEI"
   },
   "source": [
    "#Task 1 - b.Model Search And Hyper-parameter Tunning.\n",
    "For our training set ~20% of customers convert. For the problem its seems we want to be sure that customers are correctly identified as convertable and non-convertable. For our grid serach we will review model optimal for all precision, recall and f1-score. Model of choice will be one with highest f1-score."
   ]
  },
  {
   "cell_type": "code",
   "execution_count": 9,
   "metadata": {
    "colab": {
     "base_uri": "https://localhost:8080/"
    },
    "executionInfo": {
     "elapsed": 98915,
     "status": "ok",
     "timestamp": 1627120463751,
     "user": {
      "displayName": "Salman",
      "photoUrl": "",
      "userId": "12336350671635365797"
     },
     "user_tz": -60
    },
    "id": "0p6UEI6JHpch",
    "outputId": "0a141697-1eda-4482-e758-0b42e2852dda"
   },
   "outputs": [
    {
     "name": "stdout",
     "output_type": "stream",
     "text": [
      "0.0000 (+/-0.0000) for {'C': 0.0001, 'penalty': 'l1', 'solver': 'liblinear'}\n",
      "0.0000 (+/-0.0000) for {'C': 0.0001, 'penalty': 'l1', 'solver': 'saga'}\n",
      "0.1025 (+/-0.0666) for {'C': 0.0001, 'penalty': 'l2', 'solver': 'liblinear'}\n",
      "0.0029 (+/-0.0118) for {'C': 0.0001, 'penalty': 'l2', 'solver': 'saga'}\n",
      "0.0000 (+/-0.0000) for {'C': 0.00026366508987303583, 'penalty': 'l1', 'solver': 'liblinear'}\n",
      "0.0000 (+/-0.0000) for {'C': 0.00026366508987303583, 'penalty': 'l1', 'solver': 'saga'}\n",
      "0.1514 (+/-0.0553) for {'C': 0.00026366508987303583, 'penalty': 'l2', 'solver': 'liblinear'}\n",
      "0.0190 (+/-0.0148) for {'C': 0.00026366508987303583, 'penalty': 'l2', 'solver': 'saga'}\n",
      "0.0000 (+/-0.0000) for {'C': 0.0006951927961775605, 'penalty': 'l1', 'solver': 'liblinear'}\n",
      "0.0000 (+/-0.0000) for {'C': 0.0006951927961775605, 'penalty': 'l1', 'solver': 'saga'}\n",
      "0.2311 (+/-0.0636) for {'C': 0.0006951927961775605, 'penalty': 'l2', 'solver': 'liblinear'}\n",
      "0.1030 (+/-0.0730) for {'C': 0.0006951927961775605, 'penalty': 'l2', 'solver': 'saga'}\n",
      "0.2045 (+/-0.0640) for {'C': 0.0018329807108324356, 'penalty': 'l1', 'solver': 'liblinear'}\n",
      "0.0982 (+/-0.0744) for {'C': 0.0018329807108324356, 'penalty': 'l1', 'solver': 'saga'}\n",
      "0.3247 (+/-0.0194) for {'C': 0.0018329807108324356, 'penalty': 'l2', 'solver': 'liblinear'}\n",
      "0.2470 (+/-0.0527) for {'C': 0.0018329807108324356, 'penalty': 'l2', 'solver': 'saga'}\n",
      "0.3706 (+/-0.0309) for {'C': 0.004832930238571752, 'penalty': 'l1', 'solver': 'liblinear'}\n",
      "0.3296 (+/-0.0305) for {'C': 0.004832930238571752, 'penalty': 'l1', 'solver': 'saga'}\n",
      "0.3843 (+/-0.0406) for {'C': 0.004832930238571752, 'penalty': 'l2', 'solver': 'liblinear'}\n",
      "0.3586 (+/-0.0241) for {'C': 0.004832930238571752, 'penalty': 'l2', 'solver': 'saga'}\n",
      "0.4151 (+/-0.0397) for {'C': 0.012742749857031334, 'penalty': 'l1', 'solver': 'liblinear'}\n",
      "0.3990 (+/-0.0290) for {'C': 0.012742749857031334, 'penalty': 'l1', 'solver': 'saga'}\n",
      "0.4196 (+/-0.0393) for {'C': 0.012742749857031334, 'penalty': 'l2', 'solver': 'liblinear'}\n",
      "0.4074 (+/-0.0309) for {'C': 0.012742749857031334, 'penalty': 'l2', 'solver': 'saga'}\n",
      "0.4287 (+/-0.0416) for {'C': 0.03359818286283781, 'penalty': 'l1', 'solver': 'liblinear'}\n",
      "0.4244 (+/-0.0305) for {'C': 0.03359818286283781, 'penalty': 'l1', 'solver': 'saga'}\n",
      "0.4320 (+/-0.0376) for {'C': 0.03359818286283781, 'penalty': 'l2', 'solver': 'liblinear'}\n",
      "0.4295 (+/-0.0446) for {'C': 0.03359818286283781, 'penalty': 'l2', 'solver': 'saga'}\n",
      "0.4350 (+/-0.0505) for {'C': 0.08858667904100823, 'penalty': 'l1', 'solver': 'liblinear'}\n",
      "0.4364 (+/-0.0510) for {'C': 0.08858667904100823, 'penalty': 'l1', 'solver': 'saga'}\n",
      "0.4403 (+/-0.0439) for {'C': 0.08858667904100823, 'penalty': 'l2', 'solver': 'liblinear'}\n",
      "0.4406 (+/-0.0406) for {'C': 0.08858667904100823, 'penalty': 'l2', 'solver': 'saga'}\n",
      "0.4400 (+/-0.0455) for {'C': 0.23357214690901212, 'penalty': 'l1', 'solver': 'liblinear'}\n",
      "0.4403 (+/-0.0451) for {'C': 0.23357214690901212, 'penalty': 'l1', 'solver': 'saga'}\n",
      "0.4446 (+/-0.0361) for {'C': 0.23357214690901212, 'penalty': 'l2', 'solver': 'liblinear'}\n",
      "0.4446 (+/-0.0325) for {'C': 0.23357214690901212, 'penalty': 'l2', 'solver': 'saga'}\n",
      "0.4428 (+/-0.0318) for {'C': 0.615848211066026, 'penalty': 'l1', 'solver': 'liblinear'}\n",
      "0.4446 (+/-0.0372) for {'C': 0.615848211066026, 'penalty': 'l1', 'solver': 'saga'}\n",
      "0.4448 (+/-0.0280) for {'C': 0.615848211066026, 'penalty': 'l2', 'solver': 'liblinear'}\n",
      "0.4434 (+/-0.0305) for {'C': 0.615848211066026, 'penalty': 'l2', 'solver': 'saga'}\n",
      "0.4432 (+/-0.0274) for {'C': 1.623776739188721, 'penalty': 'l1', 'solver': 'liblinear'}\n",
      "0.4428 (+/-0.0307) for {'C': 1.623776739188721, 'penalty': 'l1', 'solver': 'saga'}\n",
      "0.4475 (+/-0.0251) for {'C': 1.623776739188721, 'penalty': 'l2', 'solver': 'liblinear'}\n",
      "0.4459 (+/-0.0262) for {'C': 1.623776739188721, 'penalty': 'l2', 'solver': 'saga'}\n",
      "0.4478 (+/-0.0251) for {'C': 4.281332398719396, 'penalty': 'l1', 'solver': 'liblinear'}\n",
      "0.4459 (+/-0.0262) for {'C': 4.281332398719396, 'penalty': 'l1', 'solver': 'saga'}\n",
      "0.4476 (+/-0.0250) for {'C': 4.281332398719396, 'penalty': 'l2', 'solver': 'liblinear'}\n",
      "0.4456 (+/-0.0260) for {'C': 4.281332398719396, 'penalty': 'l2', 'solver': 'saga'}\n",
      "0.4467 (+/-0.0252) for {'C': 11.288378916846883, 'penalty': 'l1', 'solver': 'liblinear'}\n",
      "0.4456 (+/-0.0260) for {'C': 11.288378916846883, 'penalty': 'l1', 'solver': 'saga'}\n",
      "0.4469 (+/-0.0253) for {'C': 11.288378916846883, 'penalty': 'l2', 'solver': 'liblinear'}\n",
      "0.4452 (+/-0.0266) for {'C': 11.288378916846883, 'penalty': 'l2', 'solver': 'saga'}\n",
      "0.4475 (+/-0.0264) for {'C': 29.763514416313132, 'penalty': 'l1', 'solver': 'liblinear'}\n",
      "0.4452 (+/-0.0266) for {'C': 29.763514416313132, 'penalty': 'l1', 'solver': 'saga'}\n",
      "0.4464 (+/-0.0249) for {'C': 29.763514416313132, 'penalty': 'l2', 'solver': 'liblinear'}\n",
      "0.4452 (+/-0.0266) for {'C': 29.763514416313132, 'penalty': 'l2', 'solver': 'saga'}\n",
      "0.4472 (+/-0.0260) for {'C': 78.47599703514607, 'penalty': 'l1', 'solver': 'liblinear'}\n",
      "0.4452 (+/-0.0266) for {'C': 78.47599703514607, 'penalty': 'l1', 'solver': 'saga'}\n",
      "0.4472 (+/-0.0260) for {'C': 78.47599703514607, 'penalty': 'l2', 'solver': 'liblinear'}\n",
      "0.4452 (+/-0.0266) for {'C': 78.47599703514607, 'penalty': 'l2', 'solver': 'saga'}\n",
      "0.4472 (+/-0.0260) for {'C': 206.913808111479, 'penalty': 'l1', 'solver': 'liblinear'}\n",
      "0.4452 (+/-0.0266) for {'C': 206.913808111479, 'penalty': 'l1', 'solver': 'saga'}\n",
      "0.4472 (+/-0.0260) for {'C': 206.913808111479, 'penalty': 'l2', 'solver': 'liblinear'}\n",
      "0.4452 (+/-0.0266) for {'C': 206.913808111479, 'penalty': 'l2', 'solver': 'saga'}\n",
      "0.4472 (+/-0.0260) for {'C': 545.5594781168514, 'penalty': 'l1', 'solver': 'liblinear'}\n",
      "0.4452 (+/-0.0266) for {'C': 545.5594781168514, 'penalty': 'l1', 'solver': 'saga'}\n",
      "0.4472 (+/-0.0260) for {'C': 545.5594781168514, 'penalty': 'l2', 'solver': 'liblinear'}\n",
      "0.4452 (+/-0.0266) for {'C': 545.5594781168514, 'penalty': 'l2', 'solver': 'saga'}\n",
      "0.4472 (+/-0.0260) for {'C': 1438.44988828766, 'penalty': 'l1', 'solver': 'liblinear'}\n",
      "0.4452 (+/-0.0266) for {'C': 1438.44988828766, 'penalty': 'l1', 'solver': 'saga'}\n",
      "0.4472 (+/-0.0260) for {'C': 1438.44988828766, 'penalty': 'l2', 'solver': 'liblinear'}\n",
      "0.4452 (+/-0.0266) for {'C': 1438.44988828766, 'penalty': 'l2', 'solver': 'saga'}\n",
      "0.4472 (+/-0.0260) for {'C': 3792.690190732246, 'penalty': 'l1', 'solver': 'liblinear'}\n",
      "0.4460 (+/-0.0271) for {'C': 3792.690190732246, 'penalty': 'l1', 'solver': 'saga'}\n",
      "0.4472 (+/-0.0260) for {'C': 3792.690190732246, 'penalty': 'l2', 'solver': 'liblinear'}\n",
      "0.4452 (+/-0.0266) for {'C': 3792.690190732246, 'penalty': 'l2', 'solver': 'saga'}\n",
      "0.4472 (+/-0.0260) for {'C': 10000.0, 'penalty': 'l1', 'solver': 'liblinear'}\n",
      "0.4452 (+/-0.0266) for {'C': 10000.0, 'penalty': 'l1', 'solver': 'saga'}\n",
      "0.4472 (+/-0.0260) for {'C': 10000.0, 'penalty': 'l2', 'solver': 'liblinear'}\n",
      "0.4452 (+/-0.0266) for {'C': 10000.0, 'penalty': 'l2', 'solver': 'saga'}\n",
      "Best Logistic Regression Model\n",
      "{'C': 4.281332398719396, 'penalty': 'l1', 'solver': 'liblinear'}\n",
      "0.44783373144537925\n"
     ]
    }
   ],
   "source": [
    "#Grid-Search for Logistic Regression:\n",
    "from sklearn.model_selection import GridSearchCV\n",
    "from sklearn.linear_model import LogisticRegression\n",
    "\n",
    "tuned_parameters = [{'penalty' : ['l1', 'l2'], 'C' : np.logspace(-4, 4, 20),'solver':['liblinear','saga']},]\n",
    "\n",
    "clf = GridSearchCV(LogisticRegression(), tuned_parameters, scoring='f1')\n",
    "clf.fit(X_train_important, y_train)\n",
    "\n",
    "means = clf.cv_results_['mean_test_score']\n",
    "stds = clf.cv_results_['std_test_score']\n",
    "for mean, std, params in zip(means, stds, clf.cv_results_['params']):\n",
    "  print(\"%0.4f (+/-%0.04f) for %r\" % (mean, std * 2, params))\n",
    "\n",
    "print('Best Logistic Regression Model')\n",
    "print(clf.best_params_)\n",
    "print(clf.best_score_)"
   ]
  },
  {
   "cell_type": "code",
   "execution_count": 10,
   "metadata": {
    "colab": {
     "base_uri": "https://localhost:8080/"
    },
    "executionInfo": {
     "elapsed": 174133,
     "status": "ok",
     "timestamp": 1627120637872,
     "user": {
      "displayName": "Salman",
      "photoUrl": "",
      "userId": "12336350671635365797"
     },
     "user_tz": -60
    },
    "id": "5wQQq9dHJQCh",
    "outputId": "5cf28d37-e90f-4a65-f1b7-efe381303afa"
   },
   "outputs": [
    {
     "name": "stdout",
     "output_type": "stream",
     "text": [
      "0.5273 (+/-0.0999) for {'class_weight': 'balanced', 'criterion': 'gini', 'max_features': 5, 'n_estimators': 100}\n",
      "0.5284 (+/-0.0981) for {'class_weight': 'balanced', 'criterion': 'gini', 'max_features': 5, 'n_estimators': 200}\n",
      "0.5455 (+/-0.0804) for {'class_weight': 'balanced', 'criterion': 'gini', 'max_features': 10, 'n_estimators': 100}\n",
      "0.5567 (+/-0.0899) for {'class_weight': 'balanced', 'criterion': 'gini', 'max_features': 10, 'n_estimators': 200}\n",
      "0.5286 (+/-0.0986) for {'class_weight': 'balanced', 'criterion': 'entropy', 'max_features': 5, 'n_estimators': 100}\n",
      "0.5313 (+/-0.0942) for {'class_weight': 'balanced', 'criterion': 'entropy', 'max_features': 5, 'n_estimators': 200}\n",
      "0.5622 (+/-0.0873) for {'class_weight': 'balanced', 'criterion': 'entropy', 'max_features': 10, 'n_estimators': 100}\n",
      "0.5635 (+/-0.1046) for {'class_weight': 'balanced', 'criterion': 'entropy', 'max_features': 10, 'n_estimators': 200}\n",
      "0.5175 (+/-0.0852) for {'class_weight': 'balanced_subsample', 'criterion': 'gini', 'max_features': 5, 'n_estimators': 100}\n",
      "0.5287 (+/-0.1052) for {'class_weight': 'balanced_subsample', 'criterion': 'gini', 'max_features': 5, 'n_estimators': 200}\n",
      "0.5479 (+/-0.0871) for {'class_weight': 'balanced_subsample', 'criterion': 'gini', 'max_features': 10, 'n_estimators': 100}\n",
      "0.5583 (+/-0.0840) for {'class_weight': 'balanced_subsample', 'criterion': 'gini', 'max_features': 10, 'n_estimators': 200}\n",
      "0.5281 (+/-0.0859) for {'class_weight': 'balanced_subsample', 'criterion': 'entropy', 'max_features': 5, 'n_estimators': 100}\n",
      "0.5277 (+/-0.0886) for {'class_weight': 'balanced_subsample', 'criterion': 'entropy', 'max_features': 5, 'n_estimators': 200}\n",
      "0.5656 (+/-0.1007) for {'class_weight': 'balanced_subsample', 'criterion': 'entropy', 'max_features': 10, 'n_estimators': 100}\n",
      "0.5638 (+/-0.0865) for {'class_weight': 'balanced_subsample', 'criterion': 'entropy', 'max_features': 10, 'n_estimators': 200}\n",
      "0.5199 (+/-0.1029) for {'class_weight': None, 'criterion': 'gini', 'max_features': 5, 'n_estimators': 100}\n",
      "0.5356 (+/-0.0861) for {'class_weight': None, 'criterion': 'gini', 'max_features': 5, 'n_estimators': 200}\n",
      "0.5619 (+/-0.0810) for {'class_weight': None, 'criterion': 'gini', 'max_features': 10, 'n_estimators': 100}\n",
      "0.5680 (+/-0.0810) for {'class_weight': None, 'criterion': 'gini', 'max_features': 10, 'n_estimators': 200}\n",
      "0.5355 (+/-0.0880) for {'class_weight': None, 'criterion': 'entropy', 'max_features': 5, 'n_estimators': 100}\n",
      "0.5375 (+/-0.0822) for {'class_weight': None, 'criterion': 'entropy', 'max_features': 5, 'n_estimators': 200}\n",
      "0.5667 (+/-0.0825) for {'class_weight': None, 'criterion': 'entropy', 'max_features': 10, 'n_estimators': 100}\n",
      "0.5620 (+/-0.0850) for {'class_weight': None, 'criterion': 'entropy', 'max_features': 10, 'n_estimators': 200}\n",
      "Best Logistic Regression Model\n",
      "{'class_weight': None, 'criterion': 'gini', 'max_features': 10, 'n_estimators': 200}\n",
      "0.5680463844591822\n"
     ]
    }
   ],
   "source": [
    "#Grid-Search for Random Forest:\n",
    "from sklearn.model_selection import GridSearchCV\n",
    "from sklearn.ensemble.forest import RandomForestClassifier\n",
    "\n",
    "tuned_parameters = [{'n_estimators' : list(range(100,300,100)), 'max_features' : list(range(5,15,5)), \n",
    "                     'criterion': ['gini', 'entropy'], \n",
    "                     'class_weight': ['balanced', 'balanced_subsample',None]}]\n",
    "\n",
    "clf = GridSearchCV(RandomForestClassifier(), tuned_parameters, scoring='f1')\n",
    "clf.fit(X_train_important, y_train)\n",
    "\n",
    "means = clf.cv_results_['mean_test_score']\n",
    "stds = clf.cv_results_['std_test_score']\n",
    "for mean, std, params in zip(means, stds, clf.cv_results_['params']):\n",
    "  print(\"%0.4f (+/-%0.04f) for %r\" % (mean, std * 2, params))\n",
    "\n",
    "print('Best Logistic Regression Model')\n",
    "print(clf.best_params_)\n",
    "print(clf.best_score_)"
   ]
  },
  {
   "cell_type": "code",
   "execution_count": 11,
   "metadata": {
    "colab": {
     "base_uri": "https://localhost:8080/"
    },
    "executionInfo": {
     "elapsed": 26663,
     "status": "ok",
     "timestamp": 1627120664523,
     "user": {
      "displayName": "Salman",
      "photoUrl": "",
      "userId": "12336350671635365797"
     },
     "user_tz": -60
    },
    "id": "PgjpHo61Ewn1",
    "outputId": "30d3fe92-a40b-460c-e8af-0e97fcc90a69"
   },
   "outputs": [
    {
     "name": "stdout",
     "output_type": "stream",
     "text": [
      "0.5844 (+/-0.0571) for {'C': 1, 'class_weight': 'balanced', 'penalty': 'l2'}\n",
      "nan (+/-nan) for {'C': 1, 'class_weight': 'balanced', 'penalty': 'l1'}\n",
      "0.4129 (+/-0.0299) for {'C': 1, 'class_weight': None, 'penalty': 'l2'}\n",
      "nan (+/-nan) for {'C': 1, 'class_weight': None, 'penalty': 'l1'}\n",
      "0.5821 (+/-0.0536) for {'C': 2, 'class_weight': 'balanced', 'penalty': 'l2'}\n",
      "nan (+/-nan) for {'C': 2, 'class_weight': 'balanced', 'penalty': 'l1'}\n",
      "0.4150 (+/-0.0331) for {'C': 2, 'class_weight': None, 'penalty': 'l2'}\n",
      "nan (+/-nan) for {'C': 2, 'class_weight': None, 'penalty': 'l1'}\n",
      "0.5845 (+/-0.0524) for {'C': 5, 'class_weight': 'balanced', 'penalty': 'l2'}\n",
      "nan (+/-nan) for {'C': 5, 'class_weight': 'balanced', 'penalty': 'l1'}\n",
      "0.4210 (+/-0.0357) for {'C': 5, 'class_weight': None, 'penalty': 'l2'}\n",
      "nan (+/-nan) for {'C': 5, 'class_weight': None, 'penalty': 'l1'}\n",
      "0.5873 (+/-0.0377) for {'C': 10, 'class_weight': 'balanced', 'penalty': 'l2'}\n",
      "nan (+/-nan) for {'C': 10, 'class_weight': 'balanced', 'penalty': 'l1'}\n",
      "0.4324 (+/-0.0575) for {'C': 10, 'class_weight': None, 'penalty': 'l2'}\n",
      "nan (+/-nan) for {'C': 10, 'class_weight': None, 'penalty': 'l1'}\n",
      "0.4698 (+/-0.0676) for {'C': 100, 'class_weight': 'balanced', 'penalty': 'l2'}\n",
      "nan (+/-nan) for {'C': 100, 'class_weight': 'balanced', 'penalty': 'l1'}\n",
      "0.4722 (+/-0.0605) for {'C': 100, 'class_weight': None, 'penalty': 'l2'}\n",
      "nan (+/-nan) for {'C': 100, 'class_weight': None, 'penalty': 'l1'}\n",
      "Best Linear Kernel SVM Model\n",
      "{'C': 10, 'class_weight': 'balanced', 'penalty': 'l2'}\n",
      "0.5873343797250399\n"
     ]
    }
   ],
   "source": [
    "#Grid-Search for Linear SVM\n",
    "from sklearn.model_selection import GridSearchCV\n",
    "from sklearn.svm import SVC\n",
    "from sklearn.svm import LinearSVC\n",
    "\n",
    "#{'kernel': ['rbf'], 'gamma': [1e-3, 1e-4],'C': [1, 10, 100, 1000],'class_weight':['balanced', None]},\n",
    "#tuned_parameters = [{'kernel': ['linear'], 'C': [1, 10, 100, 1000],'class_weight':['balanced', None]}]\n",
    "tuned_parameters = [{'C': [1,2, 5, 10, 100],'penalty': ['l2','l1'],'class_weight':['balanced', None]}]\n",
    "\n",
    "#clf = GridSearchCV(SVC(), tuned_parameters, scoring='f1')\n",
    "clf = GridSearchCV(LinearSVC(), tuned_parameters, scoring='f1')\n",
    "clf.fit(X_train_important, y_train)\n",
    "\n",
    "means = clf.cv_results_['mean_test_score']\n",
    "stds = clf.cv_results_['std_test_score']\n",
    "for mean, std, params in zip(means, stds, clf.cv_results_['params']):\n",
    "  print(\"%0.4f (+/-%0.04f) for %r\" % (mean, std * 2, params))\n",
    "\n",
    "print('Best Linear Kernel SVM Model')\n",
    "print(clf.best_params_)\n",
    "print(clf.best_score_)"
   ]
  },
  {
   "cell_type": "code",
   "execution_count": 12,
   "metadata": {
    "colab": {
     "base_uri": "https://localhost:8080/"
    },
    "executionInfo": {
     "elapsed": 11,
     "status": "ok",
     "timestamp": 1627120664523,
     "user": {
      "displayName": "Salman",
      "photoUrl": "",
      "userId": "12336350671635365797"
     },
     "user_tz": -60
    },
    "id": "97HjMsFcnn3G",
    "outputId": "402187a3-90e3-4b38-af57-7236d13626d4"
   },
   "outputs": [
    {
     "name": "stdout",
     "output_type": "stream",
     "text": [
      "              precision    recall  f1-score   support\n",
      "\n",
      "           0       0.98      0.95      0.96      1896\n",
      "           1       0.61      0.76      0.68       195\n",
      "\n",
      "    accuracy                           0.93      2091\n",
      "   macro avg       0.79      0.86      0.82      2091\n",
      "weighted avg       0.94      0.93      0.94      2091\n",
      "\n",
      "Accuracy = 0.9330463892874223, Precision = 0.6131687242798354, Recall = 0.764102564102564, F1-score = 0.6803652968036529\n",
      "Confusion Matrix is:\n",
      "[[1802   94]\n",
      " [  46  149]]\n"
     ]
    }
   ],
   "source": [
    "#Based on above results Linear SVC is the best classifier\n",
    "from sklearn.metrics import classification_report\n",
    "from sklearn.metrics import confusion_matrix\n",
    "from sklearn.metrics import accuracy_score as accuracy\n",
    "from sklearn.metrics import recall_score as recall\n",
    "from sklearn.metrics import precision_score as precision\n",
    "from sklearn.metrics import f1_score\n",
    "\n",
    "## Results on Test Set\n",
    "y_true, y_pred = y_test, clf.predict(X_test_important)\n",
    "print(classification_report(y_true, y_pred))\n",
    "\n",
    "cmlog = confusion_matrix(y_test, y_pred)\n",
    "acc   = accuracy(y_test, y_pred)\n",
    "rec   = recall(y_test, y_pred)\n",
    "prec  = precision(y_test, y_pred)\n",
    "f1    = f1_score(y_test, y_pred)\n",
    "\n",
    "# Print the metrics, display the confusion matrix, and visualize the model\n",
    "print(f'Accuracy = {acc}, Precision = {prec}, Recall = {rec}, F1-score = {f1}')\n",
    "print('Confusion Matrix is:')\n",
    "print(cmlog)"
   ]
  },
  {
   "cell_type": "code",
   "execution_count": 13,
   "metadata": {
    "colab": {
     "base_uri": "https://localhost:8080/"
    },
    "executionInfo": {
     "elapsed": 508165,
     "status": "ok",
     "timestamp": 1627121172679,
     "user": {
      "displayName": "Salman",
      "photoUrl": "",
      "userId": "12336350671635365797"
     },
     "user_tz": -60
    },
    "id": "z3v2UsKDuGlC",
    "outputId": "c30954b8-5e09-46b1-f897-1f1a46af905f"
   },
   "outputs": [
    {
     "name": "stdout",
     "output_type": "stream",
     "text": [
      "0.5685 (+/-0.0532) for {'C': 1, 'class_weight': 'balanced', 'gamma': 0.001, 'kernel': 'rbf'}\n",
      "0.4600 (+/-0.0758) for {'C': 1, 'class_weight': 'balanced', 'gamma': 0.0001, 'kernel': 'rbf'}\n",
      "0.6029 (+/-0.0533) for {'C': 1, 'class_weight': 'balanced', 'gamma': 0.01, 'kernel': 'rbf'}\n",
      "0.3804 (+/-0.0502) for {'C': 1, 'class_weight': None, 'gamma': 0.001, 'kernel': 'rbf'}\n",
      "0.0276 (+/-0.0231) for {'C': 1, 'class_weight': None, 'gamma': 0.0001, 'kernel': 'rbf'}\n",
      "0.4841 (+/-0.1070) for {'C': 1, 'class_weight': None, 'gamma': 0.01, 'kernel': 'rbf'}\n",
      "0.6058 (+/-0.0556) for {'C': 10, 'class_weight': 'balanced', 'gamma': 0.001, 'kernel': 'rbf'}\n",
      "0.5660 (+/-0.0531) for {'C': 10, 'class_weight': 'balanced', 'gamma': 0.0001, 'kernel': 'rbf'}\n",
      "0.6113 (+/-0.0389) for {'C': 10, 'class_weight': 'balanced', 'gamma': 0.01, 'kernel': 'rbf'}\n",
      "0.4716 (+/-0.0906) for {'C': 10, 'class_weight': None, 'gamma': 0.001, 'kernel': 'rbf'}\n",
      "0.3792 (+/-0.0499) for {'C': 10, 'class_weight': None, 'gamma': 0.0001, 'kernel': 'rbf'}\n",
      "0.5292 (+/-0.0946) for {'C': 10, 'class_weight': None, 'gamma': 0.01, 'kernel': 'rbf'}\n",
      "0.6128 (+/-0.0452) for {'C': 100, 'class_weight': 'balanced', 'gamma': 0.001, 'kernel': 'rbf'}\n",
      "0.6056 (+/-0.0564) for {'C': 100, 'class_weight': 'balanced', 'gamma': 0.0001, 'kernel': 'rbf'}\n",
      "0.5961 (+/-0.0447) for {'C': 100, 'class_weight': 'balanced', 'gamma': 0.01, 'kernel': 'rbf'}\n",
      "0.4909 (+/-0.0984) for {'C': 100, 'class_weight': None, 'gamma': 0.001, 'kernel': 'rbf'}\n",
      "0.4627 (+/-0.0898) for {'C': 100, 'class_weight': None, 'gamma': 0.0001, 'kernel': 'rbf'}\n",
      "0.5491 (+/-0.0676) for {'C': 100, 'class_weight': None, 'gamma': 0.01, 'kernel': 'rbf'}\n",
      "0.6063 (+/-0.0442) for {'C': 500, 'class_weight': 'balanced', 'gamma': 0.001, 'kernel': 'rbf'}\n",
      "0.6161 (+/-0.0619) for {'C': 500, 'class_weight': 'balanced', 'gamma': 0.0001, 'kernel': 'rbf'}\n",
      "0.5670 (+/-0.0479) for {'C': 500, 'class_weight': 'balanced', 'gamma': 0.01, 'kernel': 'rbf'}\n",
      "0.5065 (+/-0.0938) for {'C': 500, 'class_weight': None, 'gamma': 0.001, 'kernel': 'rbf'}\n",
      "0.4737 (+/-0.0889) for {'C': 500, 'class_weight': None, 'gamma': 0.0001, 'kernel': 'rbf'}\n",
      "0.5490 (+/-0.0637) for {'C': 500, 'class_weight': None, 'gamma': 0.01, 'kernel': 'rbf'}\n",
      "0.6079 (+/-0.0400) for {'C': 1000, 'class_weight': 'balanced', 'gamma': 0.001, 'kernel': 'rbf'}\n",
      "0.6174 (+/-0.0564) for {'C': 1000, 'class_weight': 'balanced', 'gamma': 0.0001, 'kernel': 'rbf'}\n",
      "0.5593 (+/-0.0358) for {'C': 1000, 'class_weight': 'balanced', 'gamma': 0.01, 'kernel': 'rbf'}\n",
      "0.5169 (+/-0.0913) for {'C': 1000, 'class_weight': None, 'gamma': 0.001, 'kernel': 'rbf'}\n",
      "0.4759 (+/-0.0919) for {'C': 1000, 'class_weight': None, 'gamma': 0.0001, 'kernel': 'rbf'}\n",
      "0.5368 (+/-0.0764) for {'C': 1000, 'class_weight': None, 'gamma': 0.01, 'kernel': 'rbf'}\n",
      "Best RBF Kernel SVM Model\n",
      "{'C': 1000, 'class_weight': 'balanced', 'gamma': 0.0001, 'kernel': 'rbf'}\n",
      "0.6174283331820151\n"
     ]
    }
   ],
   "source": [
    "#Grid-Search for Non-Linear SVM\n",
    "from sklearn.model_selection import GridSearchCV\n",
    "from sklearn.svm import SVC\n",
    "\n",
    "tuned_parameters = [{'kernel': ['rbf'],'gamma': [1e-3, 1e-4, 1e-2],'C': [1, 10, 100, 500,1000],'class_weight':['balanced', None]}]\n",
    " \n",
    "clf = GridSearchCV(SVC(), tuned_parameters, scoring='f1')\n",
    "clf.fit(X_train_important, y_train)\n",
    "\n",
    "means = clf.cv_results_['mean_test_score']\n",
    "stds = clf.cv_results_['std_test_score']\n",
    "for mean, std, params in zip(means, stds, clf.cv_results_['params']):\n",
    "  print(\"%0.4f (+/-%0.04f) for %r\" % (mean, std * 2, params))\n",
    "\n",
    "print('Best RBF Kernel SVM Model')\n",
    "print(clf.best_params_)\n",
    "print(clf.best_score_)"
   ]
  },
  {
   "cell_type": "code",
   "execution_count": 14,
   "metadata": {
    "colab": {
     "base_uri": "https://localhost:8080/"
    },
    "executionInfo": {
     "elapsed": 759,
     "status": "ok",
     "timestamp": 1627121173430,
     "user": {
      "displayName": "Salman",
      "photoUrl": "",
      "userId": "12336350671635365797"
     },
     "user_tz": -60
    },
    "id": "TrOiYvkZuqpZ",
    "outputId": "217a191d-6795-49ba-e5df-144a1b7b062a"
   },
   "outputs": [
    {
     "name": "stdout",
     "output_type": "stream",
     "text": [
      "              precision    recall  f1-score   support\n",
      "\n",
      "           0       0.98      0.96      0.97      1896\n",
      "           1       0.67      0.83      0.74       195\n",
      "\n",
      "    accuracy                           0.95      2091\n",
      "   macro avg       0.82      0.89      0.85      2091\n",
      "weighted avg       0.95      0.95      0.95      2091\n",
      "\n",
      "Accuracy = 0.945480631276901, Precision = 0.6680497925311203, Recall = 0.8256410256410256, F1-score = 0.738532110091743\n",
      "Confusion Matrix is:\n",
      "[[1816   80]\n",
      " [  34  161]]\n"
     ]
    }
   ],
   "source": [
    "#Based on above results NON-Linear SVM\n",
    "from sklearn.metrics import classification_report\n",
    "from sklearn.metrics import confusion_matrix\n",
    "from sklearn.metrics import accuracy_score as accuracy\n",
    "from sklearn.metrics import recall_score as recall\n",
    "from sklearn.metrics import precision_score as precision\n",
    "from sklearn.metrics import f1_score\n",
    "\n",
    "## Results on Test Set\n",
    "y_true, y_pred = y_test, clf.predict(X_test_important)\n",
    "print(classification_report(y_true, y_pred))\n",
    "\n",
    "cmlog = confusion_matrix(y_test, y_pred)\n",
    "acc   = accuracy(y_test, y_pred)\n",
    "rec   = recall(y_test, y_pred)\n",
    "prec  = precision(y_test, y_pred)\n",
    "f1    = f1_score(y_test, y_pred)\n",
    "\n",
    "# Print the metrics, display the confusion matrix, and visualize the model\n",
    "print(f'Accuracy = {acc}, Precision = {prec}, Recall = {rec}, F1-score = {f1}')\n",
    "print('Confusion Matrix is:')\n",
    "print(cmlog)"
   ]
  },
  {
   "cell_type": "markdown",
   "metadata": {
    "id": "2XrfgKJ5xWJt"
   },
   "source": [
    "#Task 1 - c.Comparison with T-POT Search\n",
    "\n"
   ]
  },
  {
   "cell_type": "code",
   "execution_count": 15,
   "metadata": {
    "colab": {
     "base_uri": "https://localhost:8080/",
     "height": 1000,
     "referenced_widgets": [
      "a6c2ecb92dec45e88b429df44fcc1e36",
      "ba9c169b9cbe4f3c9584eacffa59b461",
      "539b083b05dc47c6964892e2b8ecd26b",
      "a8bb0a6a8d78473383b7442d342f2680",
      "a1e8ccb322124f3fabd68d0c6c47b5b6",
      "437e20613bd14a77a2b7638427b6adb1",
      "06fb4fc6bf174e7ab4c99a3b687c42a9",
      "26e6a06d32a343b9a2bf4319056262d4"
     ]
    },
    "executionInfo": {
     "elapsed": 1476056,
     "status": "ok",
     "timestamp": 1627122649482,
     "user": {
      "displayName": "Salman",
      "photoUrl": "",
      "userId": "12336350671635365797"
     },
     "user_tz": -60
    },
    "id": "GU1IMqDfqv_H",
    "outputId": "c3d45e70-dcaf-4ecc-8d4e-bc480a9675a3"
   },
   "outputs": [
    {
     "name": "stdout",
     "output_type": "stream",
     "text": [
      "Collecting tpot\n",
      "  Downloading TPOT-0.11.7-py3-none-any.whl (87 kB)\n",
      "\u001b[?25l\r",
      "\u001b[K     |███▊                            | 10 kB 22.7 MB/s eta 0:00:01\r",
      "\u001b[K     |███████▌                        | 20 kB 26.8 MB/s eta 0:00:01\r",
      "\u001b[K     |███████████▎                    | 30 kB 14.0 MB/s eta 0:00:01\r",
      "\u001b[K     |███████████████                 | 40 kB 13.2 MB/s eta 0:00:01\r",
      "\u001b[K     |██████████████████▉             | 51 kB 5.7 MB/s eta 0:00:01\r",
      "\u001b[K     |██████████████████████▋         | 61 kB 5.7 MB/s eta 0:00:01\r",
      "\u001b[K     |██████████████████████████▎     | 71 kB 6.2 MB/s eta 0:00:01\r",
      "\u001b[K     |██████████████████████████████  | 81 kB 6.3 MB/s eta 0:00:01\r",
      "\u001b[K     |████████████████████████████████| 87 kB 3.1 MB/s \n",
      "\u001b[?25hRequirement already satisfied: scipy>=1.3.1 in /usr/local/lib/python3.7/dist-packages (from tpot) (1.4.1)\n",
      "Collecting update-checker>=0.16\n",
      "  Downloading update_checker-0.18.0-py3-none-any.whl (7.0 kB)\n",
      "Collecting stopit>=1.1.1\n",
      "  Downloading stopit-1.1.2.tar.gz (18 kB)\n",
      "Requirement already satisfied: numpy>=1.16.3 in /usr/local/lib/python3.7/dist-packages (from tpot) (1.19.5)\n",
      "Collecting xgboost>=1.1.0\n",
      "  Downloading xgboost-1.4.2-py3-none-manylinux2010_x86_64.whl (166.7 MB)\n",
      "\u001b[K     |████████████████████████████████| 166.7 MB 11 kB/s \n",
      "\u001b[?25hRequirement already satisfied: scikit-learn>=0.22.0 in /usr/local/lib/python3.7/dist-packages (from tpot) (0.22.2.post1)\n",
      "Requirement already satisfied: tqdm>=4.36.1 in /usr/local/lib/python3.7/dist-packages (from tpot) (4.41.1)\n",
      "Requirement already satisfied: joblib>=0.13.2 in /usr/local/lib/python3.7/dist-packages (from tpot) (1.0.1)\n",
      "Requirement already satisfied: pandas>=0.24.2 in /usr/local/lib/python3.7/dist-packages (from tpot) (1.1.5)\n",
      "Collecting deap>=1.2\n",
      "  Downloading deap-1.3.1-cp37-cp37m-manylinux_2_5_x86_64.manylinux1_x86_64.manylinux_2_12_x86_64.manylinux2010_x86_64.whl (160 kB)\n",
      "\u001b[K     |████████████████████████████████| 160 kB 51.3 MB/s \n",
      "\u001b[?25hRequirement already satisfied: python-dateutil>=2.7.3 in /usr/local/lib/python3.7/dist-packages (from pandas>=0.24.2->tpot) (2.8.1)\n",
      "Requirement already satisfied: pytz>=2017.2 in /usr/local/lib/python3.7/dist-packages (from pandas>=0.24.2->tpot) (2018.9)\n",
      "Requirement already satisfied: six>=1.5 in /usr/local/lib/python3.7/dist-packages (from python-dateutil>=2.7.3->pandas>=0.24.2->tpot) (1.15.0)\n",
      "Requirement already satisfied: requests>=2.3.0 in /usr/local/lib/python3.7/dist-packages (from update-checker>=0.16->tpot) (2.23.0)\n",
      "Requirement already satisfied: chardet<4,>=3.0.2 in /usr/local/lib/python3.7/dist-packages (from requests>=2.3.0->update-checker>=0.16->tpot) (3.0.4)\n",
      "Requirement already satisfied: idna<3,>=2.5 in /usr/local/lib/python3.7/dist-packages (from requests>=2.3.0->update-checker>=0.16->tpot) (2.10)\n",
      "Requirement already satisfied: certifi>=2017.4.17 in /usr/local/lib/python3.7/dist-packages (from requests>=2.3.0->update-checker>=0.16->tpot) (2021.5.30)\n",
      "Requirement already satisfied: urllib3!=1.25.0,!=1.25.1,<1.26,>=1.21.1 in /usr/local/lib/python3.7/dist-packages (from requests>=2.3.0->update-checker>=0.16->tpot) (1.24.3)\n",
      "Building wheels for collected packages: stopit\n",
      "  Building wheel for stopit (setup.py) ... \u001b[?25l\u001b[?25hdone\n",
      "  Created wheel for stopit: filename=stopit-1.1.2-py3-none-any.whl size=11955 sha256=1dd416bcbae2f3a5fb24e5a2f9a918ff5650e3078e27182ec835f79adb59d226\n",
      "  Stored in directory: /root/.cache/pip/wheels/e2/d2/79/eaf81edb391e27c87f51b8ef901ecc85a5363dc96b8b8d71e3\n",
      "Successfully built stopit\n",
      "Installing collected packages: xgboost, update-checker, stopit, deap, tpot\n",
      "  Attempting uninstall: xgboost\n",
      "    Found existing installation: xgboost 0.90\n",
      "    Uninstalling xgboost-0.90:\n",
      "      Successfully uninstalled xgboost-0.90\n",
      "Successfully installed deap-1.3.1 stopit-1.1.2 tpot-0.11.7 update-checker-0.18.0 xgboost-1.4.2\n"
     ]
    },
    {
     "data": {
      "application/vnd.jupyter.widget-view+json": {
       "model_id": "a6c2ecb92dec45e88b429df44fcc1e36",
       "version_major": 2,
       "version_minor": 0
      },
      "text/plain": [
       "HBox(children=(FloatProgress(value=0.0, description='Optimization Progress', max=120.0, style=ProgressStyle(de…"
      ]
     },
     "metadata": {
      "tags": []
     },
     "output_type": "display_data"
    },
    {
     "name": "stdout",
     "output_type": "stream",
     "text": [
      "\r\n",
      "Generation 1 - Current best internal CV score: 0.8609454545454547\n",
      "\n",
      "Generation 2 - Current best internal CV score: 0.8609454545454547\n",
      "\n",
      "Best pipeline: XGBClassifier(BernoulliNB(input_matrix, alpha=0.001, fit_prior=False), learning_rate=0.1, max_depth=5, min_child_weight=12, n_estimators=100, n_jobs=1, subsample=0.8500000000000001, verbosity=0)\n",
      "              precision    recall  f1-score   support\n",
      "\n",
      "           0       0.97      0.97      0.97      1896\n",
      "           1       0.71      0.68      0.69       195\n",
      "\n",
      "    accuracy                           0.94      2091\n",
      "   macro avg       0.84      0.82      0.83      2091\n",
      "weighted avg       0.94      0.94      0.94      2091\n",
      "\n",
      "TPOT-Accuracy = 0.9445241511238642, Precision = 0.7135135135135136, Recall = 0.676923076923077, F1-score = 0.6947368421052632\n",
      "Confusion Matrix is:\n",
      "[[1843   53]\n",
      " [  63  132]]\n"
     ]
    }
   ],
   "source": [
    "#Baseline Results from T-POT\n",
    "# TPOT for classification\n",
    "!pip install tpot\n",
    "from tpot import TPOTClassifier\n",
    "### START CODE HERE ###\n",
    "# Instantiate and train a TPOT auto-ML classifier\n",
    "# Set generations to 5, population_size to 40, and verbosity to 2 (so you can see each generation's performance)\n",
    "# Use random_state as 42 to get the same results.\n",
    "tpot = TPOTClassifier(generations=2, population_size=40, verbosity=2, random_state=42)\n",
    "tpot.fit(X_train_important, y_train)\n",
    "\n",
    "# Evaluate the classifier on the test data\n",
    "# By default, the scoring function is accuracy\n",
    "y_true, y_pred = y_test, tpot.predict(X_test_important)\n",
    "print(classification_report(y_true, y_pred))\n",
    "\n",
    "\n",
    "cmlog = confusion_matrix(y_test, y_pred)\n",
    "acc   = accuracy(y_test, y_pred)\n",
    "rec   = recall(y_test, y_pred)\n",
    "prec  = precision(y_test, y_pred)\n",
    "f1    = f1_score(y_test, y_pred)\n",
    "\n",
    "# Print the metrics, display the confusion matrix, and visualize the model\n",
    "print(f'TPOT-Accuracy = {acc}, Precision = {prec}, Recall = {rec}, F1-score = {f1}')\n",
    "print('Confusion Matrix is:')\n",
    "print(cmlog)\n",
    "\n",
    "tpot.export('tpot_baseline_pipeline.py')"
   ]
  },
  {
   "cell_type": "markdown",
   "metadata": {
    "id": "eKd-MP5gKM9e"
   },
   "source": [
    "# Task 1 - Summary: Model Selection, Grid Search and Results\n",
    "The training data after feature selection has m ~30 features and number of training records n ~ 7K. For this scale of data and features generarlly logistic regression and SVM are advised. \n",
    "\n",
    "For the problem we would like to accurate in terms of prediction of right classes an would like a model which is reasonable in both precision and recall and hence **f1-score** is the choice of metric for the most optimal model.\n",
    "\n",
    "So for our model search three set of Models are selected for this problems. For each we are ran 5 cross-validations sets across set of values of hyper-parameters to find an optimal model.\n",
    "\n",
    "\n",
    "## Model - 1 Logistic Regression:\n",
    "*   Params = {{'C': 4.281332398719396, 'penalty': 'l1', 'solver': 'liblinear'}\n",
    "*   Best F1 Score = 0.448\n",
    " \n",
    "## Model - 2 Random Forest Classifier\n",
    "*   Params = {'class_weight': None, 'criterion': 'entropy', 'max_features': 10, 'n_estimators': 200}\n",
    "*   Best F1 Score = 0.567\n",
    "\n",
    "## Model - 3 Linear SVM [BEST LINEAR MODEL ON CVs]\n",
    "*   Params = {'C': 2, 'class_weight': 'balanced', 'penalty': 'l2'}\n",
    "*   Best F1 Score = 0.585\n",
    "\n",
    "## Results of the best linear model on the test-set\n",
    "Based on CV results Model 3 - Linear SVM was found as the best model for this problem. Result of that models on thes test set are as follows:\n",
    "\n",
    "* Accuracy = 0.930 \n",
    "* Precision = 0.597\n",
    "* Recall = 0.759\n",
    "* F1-score = 0.668\n",
    "* Confusion Matrix is: [[1796  100] [  47  148]]\n",
    "\n",
    "## Model - 4 Non-Linear SVM [BEST NON-LINEAR MODEL ON CVs]\n",
    "*   {'C': 1000, 'class_weight': 'balanced', 'gamma': 0.0001, 'kernel': 'rbf'}\n",
    "*   Best F1 Score = 0.617\n",
    "\n",
    "## Results of the best non-linear SVM on the test-set \n",
    "\n",
    "Based on CV results Model 4 - Linear SVM was found as the best model for this problem. Result of that models on thes test set are as follows:\n",
    "\n",
    "* Accuracy = 0.945\n",
    "* Precision = 0.668\n",
    "* Recall = 0.826\n",
    "* F1-score = 0.739\n",
    "* Confusion Matrix is: [[1816   80] [34  161]]\n",
    "\n",
    "# Comparison with T-POT Grid Search \n",
    "TPOT - Pipeline:\n",
    "* MinMaxScaler(),\n",
    "* RandomForestClassifier(bootstrap=True, criterion=\"entropy\", max_features=0.6, min_samples_leaf=8, min_samples_split=12, n_estimators=100)\n",
    "\n",
    "Results on Test-set:\n",
    "* Accuracy = 0.945, \n",
    "* Precision = 0.713,\n",
    "* Recall = 0.677, \n",
    "* F1-score = 0.695\n",
    "* Confusion Matrix: [[1843   53] [  63  132]]"
   ]
  },
  {
   "cell_type": "markdown",
   "metadata": {
    "id": "CLbio4a303nG"
   },
   "source": [
    "# Task 2 Clustering\n",
    "In Task 1 we shortlisted top 15 features in terms o their abilitty to classify sales. \n",
    "\n",
    "These features are:\n",
    "\n",
    "\n",
    "\n",
    "```\n",
    "(['Administrative', 'Administrative_Duration', 'Informational',\n",
    "  'Informational_Duration', 'ProductRelated', 'BounceRates', 'PageValues',\n",
    "  'Weekend', 'OperatingSystems_1', 'OperatingSystems_2',\n",
    "  'OperatingSystems_3', 'Browser_2', 'Browser_4', 'Region_1', 'Region_3',\n",
    "  'TrafficType_1', 'TrafficType_2', 'TrafficType_3', 'TrafficType_4',\n",
    "  'TrafficType_5', 'TrafficType_8', 'TrafficType_10', 'TrafficType_11',\n",
    "  'TrafficType_13', 'VisitorType_New_Visitor',\n",
    " 'VisitorType_Returning_Visitor']\n",
    "```\n",
    "\n",
    "\n",
    "For the clustering task we will start from these features and will be using a combinataion of PCA and K-Means. PCA will reduce dimenstion of data and k-means will be executed on the reduced data."
   ]
  },
  {
   "cell_type": "code",
   "execution_count": 16,
   "metadata": {
    "executionInfo": {
     "elapsed": 268,
     "status": "ok",
     "timestamp": 1627122674246,
     "user": {
      "displayName": "Salman",
      "photoUrl": "",
      "userId": "12336350671635365797"
     },
     "user_tz": -60
    },
    "id": "nEuniaMQ5517"
   },
   "outputs": [],
   "source": [
    "import warnings\n",
    "warnings.filterwarnings('ignore')"
   ]
  },
  {
   "cell_type": "code",
   "execution_count": 17,
   "metadata": {
    "colab": {
     "base_uri": "https://localhost:8080/",
     "height": 222
    },
    "executionInfo": {
     "elapsed": 326,
     "status": "ok",
     "timestamp": 1627122676107,
     "user": {
      "displayName": "Salman",
      "photoUrl": "",
      "userId": "12336350671635365797"
     },
     "user_tz": -60
    },
    "id": "bOl7aHGY9H7p",
    "outputId": "bc5c4dd4-7751-4da0-f4e9-d0064b7689dc"
   },
   "outputs": [
    {
     "data": {
      "text/html": [
       "<div>\n",
       "<style scoped>\n",
       "    .dataframe tbody tr th:only-of-type {\n",
       "        vertical-align: middle;\n",
       "    }\n",
       "\n",
       "    .dataframe tbody tr th {\n",
       "        vertical-align: top;\n",
       "    }\n",
       "\n",
       "    .dataframe thead th {\n",
       "        text-align: right;\n",
       "    }\n",
       "</style>\n",
       "<table border=\"1\" class=\"dataframe\">\n",
       "  <thead>\n",
       "    <tr style=\"text-align: right;\">\n",
       "      <th></th>\n",
       "      <th>Administrative</th>\n",
       "      <th>Administrative_Duration</th>\n",
       "      <th>Informational</th>\n",
       "      <th>Informational_Duration</th>\n",
       "      <th>ProductRelated</th>\n",
       "      <th>BounceRates</th>\n",
       "      <th>PageValues</th>\n",
       "      <th>Weekend</th>\n",
       "      <th>OperatingSystems_1</th>\n",
       "      <th>OperatingSystems_2</th>\n",
       "      <th>OperatingSystems_3</th>\n",
       "      <th>Browser_2</th>\n",
       "      <th>Browser_4</th>\n",
       "      <th>Region_1</th>\n",
       "      <th>Region_3</th>\n",
       "      <th>TrafficType_1</th>\n",
       "      <th>TrafficType_2</th>\n",
       "      <th>TrafficType_3</th>\n",
       "      <th>TrafficType_4</th>\n",
       "      <th>TrafficType_5</th>\n",
       "      <th>TrafficType_8</th>\n",
       "      <th>TrafficType_10</th>\n",
       "      <th>TrafficType_11</th>\n",
       "      <th>TrafficType_13</th>\n",
       "      <th>VisitorType_New_Visitor</th>\n",
       "      <th>VisitorType_Returning_Visitor</th>\n",
       "    </tr>\n",
       "  </thead>\n",
       "  <tbody>\n",
       "    <tr>\n",
       "      <th>0</th>\n",
       "      <td>0.0</td>\n",
       "      <td>0.0</td>\n",
       "      <td>0.0</td>\n",
       "      <td>0.0</td>\n",
       "      <td>0.001418</td>\n",
       "      <td>1.00</td>\n",
       "      <td>0.0</td>\n",
       "      <td>0.0</td>\n",
       "      <td>1.0</td>\n",
       "      <td>0.0</td>\n",
       "      <td>0.0</td>\n",
       "      <td>0.0</td>\n",
       "      <td>0.0</td>\n",
       "      <td>1.0</td>\n",
       "      <td>0.0</td>\n",
       "      <td>1.0</td>\n",
       "      <td>0.0</td>\n",
       "      <td>0.0</td>\n",
       "      <td>0.0</td>\n",
       "      <td>0.0</td>\n",
       "      <td>0.0</td>\n",
       "      <td>0.0</td>\n",
       "      <td>0.0</td>\n",
       "      <td>0.0</td>\n",
       "      <td>0.0</td>\n",
       "      <td>1.0</td>\n",
       "    </tr>\n",
       "    <tr>\n",
       "      <th>1</th>\n",
       "      <td>0.0</td>\n",
       "      <td>0.0</td>\n",
       "      <td>0.0</td>\n",
       "      <td>0.0</td>\n",
       "      <td>0.002837</td>\n",
       "      <td>0.00</td>\n",
       "      <td>0.0</td>\n",
       "      <td>0.0</td>\n",
       "      <td>0.0</td>\n",
       "      <td>1.0</td>\n",
       "      <td>0.0</td>\n",
       "      <td>1.0</td>\n",
       "      <td>0.0</td>\n",
       "      <td>1.0</td>\n",
       "      <td>0.0</td>\n",
       "      <td>0.0</td>\n",
       "      <td>1.0</td>\n",
       "      <td>0.0</td>\n",
       "      <td>0.0</td>\n",
       "      <td>0.0</td>\n",
       "      <td>0.0</td>\n",
       "      <td>0.0</td>\n",
       "      <td>0.0</td>\n",
       "      <td>0.0</td>\n",
       "      <td>0.0</td>\n",
       "      <td>1.0</td>\n",
       "    </tr>\n",
       "    <tr>\n",
       "      <th>2</th>\n",
       "      <td>0.0</td>\n",
       "      <td>0.0</td>\n",
       "      <td>0.0</td>\n",
       "      <td>0.0</td>\n",
       "      <td>0.001418</td>\n",
       "      <td>1.00</td>\n",
       "      <td>0.0</td>\n",
       "      <td>0.0</td>\n",
       "      <td>0.0</td>\n",
       "      <td>0.0</td>\n",
       "      <td>0.0</td>\n",
       "      <td>0.0</td>\n",
       "      <td>0.0</td>\n",
       "      <td>0.0</td>\n",
       "      <td>0.0</td>\n",
       "      <td>0.0</td>\n",
       "      <td>0.0</td>\n",
       "      <td>1.0</td>\n",
       "      <td>0.0</td>\n",
       "      <td>0.0</td>\n",
       "      <td>0.0</td>\n",
       "      <td>0.0</td>\n",
       "      <td>0.0</td>\n",
       "      <td>0.0</td>\n",
       "      <td>0.0</td>\n",
       "      <td>1.0</td>\n",
       "    </tr>\n",
       "    <tr>\n",
       "      <th>3</th>\n",
       "      <td>0.0</td>\n",
       "      <td>0.0</td>\n",
       "      <td>0.0</td>\n",
       "      <td>0.0</td>\n",
       "      <td>0.002837</td>\n",
       "      <td>0.25</td>\n",
       "      <td>0.0</td>\n",
       "      <td>0.0</td>\n",
       "      <td>0.0</td>\n",
       "      <td>0.0</td>\n",
       "      <td>1.0</td>\n",
       "      <td>1.0</td>\n",
       "      <td>0.0</td>\n",
       "      <td>0.0</td>\n",
       "      <td>0.0</td>\n",
       "      <td>0.0</td>\n",
       "      <td>0.0</td>\n",
       "      <td>0.0</td>\n",
       "      <td>1.0</td>\n",
       "      <td>0.0</td>\n",
       "      <td>0.0</td>\n",
       "      <td>0.0</td>\n",
       "      <td>0.0</td>\n",
       "      <td>0.0</td>\n",
       "      <td>0.0</td>\n",
       "      <td>1.0</td>\n",
       "    </tr>\n",
       "    <tr>\n",
       "      <th>4</th>\n",
       "      <td>0.0</td>\n",
       "      <td>0.0</td>\n",
       "      <td>0.0</td>\n",
       "      <td>0.0</td>\n",
       "      <td>0.014184</td>\n",
       "      <td>0.10</td>\n",
       "      <td>0.0</td>\n",
       "      <td>1.0</td>\n",
       "      <td>0.0</td>\n",
       "      <td>0.0</td>\n",
       "      <td>1.0</td>\n",
       "      <td>0.0</td>\n",
       "      <td>0.0</td>\n",
       "      <td>1.0</td>\n",
       "      <td>0.0</td>\n",
       "      <td>0.0</td>\n",
       "      <td>0.0</td>\n",
       "      <td>0.0</td>\n",
       "      <td>1.0</td>\n",
       "      <td>0.0</td>\n",
       "      <td>0.0</td>\n",
       "      <td>0.0</td>\n",
       "      <td>0.0</td>\n",
       "      <td>0.0</td>\n",
       "      <td>0.0</td>\n",
       "      <td>1.0</td>\n",
       "    </tr>\n",
       "  </tbody>\n",
       "</table>\n",
       "</div>"
      ],
      "text/plain": [
       "   Administrative  ...  VisitorType_Returning_Visitor\n",
       "0             0.0  ...                            1.0\n",
       "1             0.0  ...                            1.0\n",
       "2             0.0  ...                            1.0\n",
       "3             0.0  ...                            1.0\n",
       "4             0.0  ...                            1.0\n",
       "\n",
       "[5 rows x 26 columns]"
      ]
     },
     "execution_count": 17,
     "metadata": {
      "tags": []
     },
     "output_type": "execute_result"
    }
   ],
   "source": [
    "url = './online_shoppers_intention.csv'\n",
    "df = pd.read_csv(url, error_bad_lines=False)\n",
    "df.head()\n",
    "df['Revenue'] = df['Revenue'].map({False: 0, True: 1})\n",
    "df['Weekend'] = df['Weekend'].map({False: 0, True: 1})\n",
    "\n",
    "#Correcting data type to object for operating system, browser, region, traffic type  feature as they lack any hierarchy or order:\n",
    "feature_dtype_obj = ['OperatingSystems','Browser','Region','TrafficType']\n",
    "df[feature_dtype_obj] = df[feature_dtype_obj].astype(object)\n",
    "\n",
    "non_numeric_columns = [col_i for col_i in df.columns if df[col_i].dtype in ['object']]\n",
    "\n",
    "for col_i in non_numeric_columns:\n",
    "  #print(col_i)\n",
    "  enc = OneHotEncoder(handle_unknown='ignore')\n",
    "  enc.fit(df[[col_i]])\n",
    "\n",
    "  df_onhot = pd.DataFrame(enc.transform(df[[col_i]]).toarray())\n",
    "  df_onhot.columns = enc.get_feature_names([col_i])\n",
    "  df.drop([col_i] ,axis=1, inplace=True)\n",
    "  df= pd.concat([df, df_onhot ], axis=1)\n",
    "\n",
    "relevant_columns = ['Administrative', 'Administrative_Duration', 'Informational',\n",
    "       'Informational_Duration', 'ProductRelated', 'BounceRates', 'PageValues',\n",
    "       'Weekend', 'OperatingSystems_1', 'OperatingSystems_2',\n",
    "       'OperatingSystems_3', 'Browser_2', 'Browser_4', 'Region_1', 'Region_3',\n",
    "       'TrafficType_1', 'TrafficType_2', 'TrafficType_3', 'TrafficType_4',\n",
    "       'TrafficType_5', 'TrafficType_8', 'TrafficType_10', 'TrafficType_11',\n",
    "       'TrafficType_13', 'VisitorType_New_Visitor',\n",
    "       'VisitorType_Returning_Visitor']\n",
    "df_relevant = df[relevant_columns]\n",
    " \n",
    "#Min-Max Sacling of all int64 and float64 features\n",
    "from sklearn.preprocessing import MinMaxScaler\n",
    "scaler = MinMaxScaler()\n",
    "df_relevant[df_relevant.columns] = scaler.fit_transform(df_relevant[df_relevant.columns])\n",
    "df_relevant.head()\n"
   ]
  },
  {
   "cell_type": "markdown",
   "metadata": {
    "id": "kyLex7fjyLNW"
   },
   "source": [
    "# PCA - reduce data dimenstion with PCA such that 90% variance is retained."
   ]
  },
  {
   "cell_type": "code",
   "execution_count": 18,
   "metadata": {
    "colab": {
     "base_uri": "https://localhost:8080/",
     "height": 312
    },
    "executionInfo": {
     "elapsed": 569,
     "status": "ok",
     "timestamp": 1627122679994,
     "user": {
      "displayName": "Salman",
      "photoUrl": "",
      "userId": "12336350671635365797"
     },
     "user_tz": -60
    },
    "id": "gLtCgDXa5wBT",
    "outputId": "f5f153af-6e7c-4b87-da7c-ae51fee7e6f0"
   },
   "outputs": [
    {
     "data": {
      "text/plain": [
       "Text(0.5, 1.0, 'Number of PCA components needed to explain 90% variance')"
      ]
     },
     "execution_count": 18,
     "metadata": {
      "tags": []
     },
     "output_type": "execute_result"
    },
    {
     "data": {
      "image/png": "[encoded data removed]",
      "text/plain": [
       "<Figure size 432x288 with 1 Axes>"
      ]
     },
     "metadata": {
      "needs_background": "light",
      "tags": []
     },
     "output_type": "display_data"
    }
   ],
   "source": [
    "#PCA -  reduce data dimenstion with PCA such that 90% variance is retained.\n",
    "from sklearn.decomposition import PCA\n",
    "pca = PCA().fit(df_relevant)\n",
    "\n",
    "x = np.arange(1, len(pca.explained_variance_ratio_)+1, step=1)\n",
    "y = np.cumsum(pca.explained_variance_ratio_)\n",
    "\n",
    "fig, ax = plt.subplots()\n",
    "plt.plot(x, y, marker='o', linestyle='-', color='b')\n",
    "plt.axhline(y=0.90, color='r', linestyle='--')\n",
    "plt.text(0.5, 0.90, '90% cut-off', color = 'red', fontsize=16)\n",
    "plt.xlabel('Number of PCA Components')\n",
    "plt.ylabel('Variance Explained(%)')\n",
    "plt.title('Number of PCA components needed to explain 90% variance')"
   ]
  },
  {
   "cell_type": "code",
   "execution_count": 19,
   "metadata": {
    "colab": {
     "base_uri": "https://localhost:8080/"
    },
    "executionInfo": {
     "elapsed": 288,
     "status": "ok",
     "timestamp": 1627122684477,
     "user": {
      "displayName": "Salman",
      "photoUrl": "",
      "userId": "12336350671635365797"
     },
     "user_tz": -60
    },
    "id": "kd1sMiiL8r55",
    "outputId": "b66de142-7bc2-4984-e63a-9152cef4002a"
   },
   "outputs": [
    {
     "name": "stdout",
     "output_type": "stream",
     "text": [
      "(12330, 11)\n"
     ]
    }
   ],
   "source": [
    "# PCA with 11 components\n",
    "pca = PCA(n_components=11).fit(df_relevant)\n",
    "df_red = pca.transform(df_relevant)\n",
    "print(df_red.shape)"
   ]
  },
  {
   "cell_type": "code",
   "execution_count": 20,
   "metadata": {
    "colab": {
     "base_uri": "https://localhost:8080/"
    },
    "executionInfo": {
     "elapsed": 4007,
     "status": "ok",
     "timestamp": 1627122691017,
     "user": {
      "displayName": "Salman",
      "photoUrl": "",
      "userId": "12336350671635365797"
     },
     "user_tz": -60
    },
    "id": "1rKKLUVd9ZqN",
    "outputId": "ca64d905-c432-4908-f5db-8833637bc2b7"
   },
   "outputs": [
    {
     "name": "stdout",
     "output_type": "stream",
     "text": [
      "Requirement already satisfied: yellowbrick in /usr/local/lib/python3.7/dist-packages (0.9.1)\n",
      "Collecting yellowbrick\n",
      "  Downloading yellowbrick-1.3.post1-py3-none-any.whl (271 kB)\n",
      "\u001b[K     |████████████████████████████████| 271 kB 4.9 MB/s \n",
      "\u001b[?25hRequirement already satisfied: matplotlib!=3.0.0,>=2.0.2 in /usr/local/lib/python3.7/dist-packages (from yellowbrick) (3.2.2)\n",
      "Requirement already satisfied: cycler>=0.10.0 in /usr/local/lib/python3.7/dist-packages (from yellowbrick) (0.10.0)\n",
      "Requirement already satisfied: scikit-learn>=0.20 in /usr/local/lib/python3.7/dist-packages (from yellowbrick) (0.22.2.post1)\n",
      "Requirement already satisfied: scipy>=1.0.0 in /usr/local/lib/python3.7/dist-packages (from yellowbrick) (1.4.1)\n",
      "Requirement already satisfied: numpy<1.20,>=1.16.0 in /usr/local/lib/python3.7/dist-packages (from yellowbrick) (1.19.5)\n",
      "Requirement already satisfied: six in /usr/local/lib/python3.7/dist-packages (from cycler>=0.10.0->yellowbrick) (1.15.0)\n",
      "Requirement already satisfied: kiwisolver>=1.0.1 in /usr/local/lib/python3.7/dist-packages (from matplotlib!=3.0.0,>=2.0.2->yellowbrick) (1.3.1)\n",
      "Requirement already satisfied: pyparsing!=2.0.4,!=2.1.2,!=2.1.6,>=2.0.1 in /usr/local/lib/python3.7/dist-packages (from matplotlib!=3.0.0,>=2.0.2->yellowbrick) (2.4.7)\n",
      "Requirement already satisfied: python-dateutil>=2.1 in /usr/local/lib/python3.7/dist-packages (from matplotlib!=3.0.0,>=2.0.2->yellowbrick) (2.8.1)\n",
      "Requirement already satisfied: joblib>=0.11 in /usr/local/lib/python3.7/dist-packages (from scikit-learn>=0.20->yellowbrick) (1.0.1)\n",
      "Installing collected packages: yellowbrick\n",
      "  Attempting uninstall: yellowbrick\n",
      "    Found existing installation: yellowbrick 0.9.1\n",
      "    Uninstalling yellowbrick-0.9.1:\n",
      "      Successfully uninstalled yellowbrick-0.9.1\n",
      "Successfully installed yellowbrick-1.3.post1\n"
     ]
    }
   ],
   "source": [
    "pip install -U yellowbrick"
   ]
  },
  {
   "cell_type": "markdown",
   "metadata": {
    "id": "Whq_sPzIyTvr"
   },
   "source": [
    "# K-Means "
   ]
  },
  {
   "cell_type": "code",
   "execution_count": 24,
   "metadata": {
    "colab": {
     "base_uri": "https://localhost:8080/",
     "height": 393
    },
    "executionInfo": {
     "elapsed": 11786,
     "status": "ok",
     "timestamp": 1627122780268,
     "user": {
      "displayName": "Salman",
      "photoUrl": "",
      "userId": "12336350671635365797"
     },
     "user_tz": -60
    },
    "id": "793A3MkL9Nz4",
    "outputId": "7455ffed-42f8-47c6-f588-1070d370d639"
   },
   "outputs": [
    {
     "data": {
      "image/png": "[encoded data removed]",
      "text/plain": [
       "<Figure size 576x396 with 2 Axes>"
      ]
     },
     "metadata": {
      "tags": []
     },
     "output_type": "display_data"
    },
    {
     "data": {
      "text/plain": [
       "<matplotlib.axes._subplots.AxesSubplot at 0x7f9e317a8490>"
      ]
     },
     "execution_count": 24,
     "metadata": {
      "tags": []
     },
     "output_type": "execute_result"
    }
   ],
   "source": [
    "#K_Means\n",
    "from sklearn.cluster import KMeans\n",
    "from sklearn.datasets import make_blobs\n",
    "from yellowbrick.cluster import KElbowVisualizer\n",
    "\n",
    "model = KMeans()\n",
    "visualizer = KElbowVisualizer(model,k=(1,21))\n",
    "visualizer.fit(df_red)\n",
    "visualizer.show() "
   ]
  },
  {
   "cell_type": "code",
   "execution_count": 26,
   "metadata": {
    "colab": {
     "base_uri": "https://localhost:8080/",
     "height": 994
    },
    "executionInfo": {
     "elapsed": 1202,
     "status": "ok",
     "timestamp": 1627122835513,
     "user": {
      "displayName": "Salman",
      "photoUrl": "",
      "userId": "12336350671635365797"
     },
     "user_tz": -60
    },
    "id": "DlcvXbXO7PYD",
    "outputId": "a0023045-01c4-45fe-f2b3-3cd2669f76b8"
   },
   "outputs": [
    {
     "name": "stdout",
     "output_type": "stream",
     "text": [
      "Cluster Stats :\n",
      "          Revenue      \n",
      "             mean count\n",
      "Cluster                \n",
      "0        0.101695  2301\n",
      "1        0.189461  1689\n",
      "2        0.115915  1596\n",
      "3        0.147512  2793\n",
      "4        0.245482  1328\n",
      "5        0.164316  2623\n"
     ]
    },
    {
     "data": {
      "text/html": [
       "<html>\n",
       "<head><meta charset=\"utf-8\" /></head>\n",
       "<body>\n",
       "    <div>\n",
       "            <script src=\"https://cdnjs.cloudflare.com/ajax/libs/mathjax/2.7.5/MathJax.js?config=TeX-AMS-MML_SVG\"></script><script type=\"text/javascript\">if (window.MathJax) {MathJax.Hub.Config({SVG: {font: \"STIX-Web\"}});}</script>\n",
       "                <script type=\"text/javascript\">window.PlotlyConfig = {MathJaxConfig: 'local'};</script>\n",
       "        <script src=\"https://cdn.plot.ly/plotly-latest.min.js\"></script>    \n",
       "            <div id=\"395b5e35-54a5-4999-8c5e-b98a9712d364\" class=\"plotly-graph-div\" style=\"height:800px; width:1400px;\"></div>\n",
       "            <script type=\"text/javascript\">\n",
       "                \n",
       "                    window.PLOTLYENV=window.PLOTLYENV || {};\n",
       "                    \n",
       "                if (document.getElementById(\"395b5e35-54a5-4999-8c5e-b98a9712d364\")) {\n",
       "                    Plotly.newPlot(\n",
       "                        '395b5e35-54a5-4999-8c5e-b98a9712d364',\n",
       "                        [{\"hoverlabel\": {\"namelength\": 0}, \"hovertemplate\": \"Cluster=0<br>value=%{r}<br>variable=%{theta}\", \"legendgroup\": \"Cluster=0\", \"line\": {\"color\": \"#636efa\", \"dash\": \"solid\"}, \"mode\": \"lines\", \"name\": \"Cluster=0\", \"r\": [0.08567933426690577, 0.02604830613174977, 0.023956975228161627, 0.013830348381541907, 0.039826655693947347, 0.1819084672642336, 0.009287665718045979, 0.2859626249456758, 0.0, 0.0, 0.9926119078661452, 0.9508909169926119, 0.0, 0.3785310734463277, 0.20686657974793568, 0.19860930030421556, 0.21077792264232942, 0.1638418079096045, 0.09126466753585398, 0.013472403302911778, 0.015210777922642329, 0.047805302042590175, 0.02564102564102564, 0.1647109952194698, 0.000434593654932638, 0.9956540634506736, 0.08567933426690577], \"showlegend\": true, \"subplot\": \"polar\", \"theta\": [\"Administrative\", \"Administrative_Duration\", \"Informational\", \"Informational_Duration\", \"ProductRelated\", \"BounceRates\", \"PageValues\", \"Weekend\", \"OperatingSystems_1\", \"OperatingSystems_2\", \"OperatingSystems_3\", \"Browser_2\", \"Browser_4\", \"Region_1\", \"Region_3\", \"TrafficType_1\", \"TrafficType_2\", \"TrafficType_3\", \"TrafficType_4\", \"TrafficType_5\", \"TrafficType_8\", \"TrafficType_10\", \"TrafficType_11\", \"TrafficType_13\", \"VisitorType_New_Visitor\", \"VisitorType_Returning_Visitor\", \"Administrative\"], \"type\": \"scatterpolar\"}, {\"hoverlabel\": {\"namelength\": 0}, \"hovertemplate\": \"Cluster=1<br>value=%{r}<br>variable=%{theta}\", \"legendgroup\": \"Cluster=1\", \"line\": {\"color\": \"#EF553B\", \"dash\": \"solid\"}, \"mode\": \"lines\", \"name\": \"Cluster=1\", \"r\": [0.08863451965879507, 0.025178413719996018, 0.026248273139924973, 0.020179849450827965, 0.061984723849354696, 0.0849006143635286, 0.017474118862755992, 0.1586737714624038, 0.0, 0.9638839550029603, 0.0, 0.7951450562462996, 0.09887507400828893, 1.0, 0.0, 0.0, 0.41148608644168144, 0.2320899940793369, 0.11071640023682652, 0.015393724097098875, 0.019538188277087035, 0.044997039668442866, 0.014801657785671996, 0.07164002368265246, 0.0, 0.9982238010657194, 0.08863451965879507], \"showlegend\": true, \"subplot\": \"polar\", \"theta\": [\"Administrative\", \"Administrative_Duration\", \"Informational\", \"Informational_Duration\", \"ProductRelated\", \"BounceRates\", \"PageValues\", \"Weekend\", \"OperatingSystems_1\", \"OperatingSystems_2\", \"OperatingSystems_3\", \"Browser_2\", \"Browser_4\", \"Region_1\", \"Region_3\", \"TrafficType_1\", \"TrafficType_2\", \"TrafficType_3\", \"TrafficType_4\", \"TrafficType_5\", \"TrafficType_8\", \"TrafficType_10\", \"TrafficType_11\", \"TrafficType_13\", \"VisitorType_New_Visitor\", \"VisitorType_Returning_Visitor\", \"Administrative\"], \"type\": \"scatterpolar\"}, {\"hoverlabel\": {\"namelength\": 0}, \"hovertemplate\": \"Cluster=2<br>value=%{r}<br>variable=%{theta}\", \"legendgroup\": \"Cluster=2\", \"line\": {\"color\": \"#00cc96\", \"dash\": \"solid\"}, \"mode\": \"lines\", \"name\": \"Cluster=2\", \"r\": [0.07423651721897372, 0.019073282277945698, 0.016107978279030915, 0.009374246271970683, 0.05292842034163413, 0.12508956508771932, 0.01051984518650589, 0.17293233082706766, 0.008145363408521303, 0.9254385964912281, 0.0, 0.7117794486215538, 0.10588972431077694, 0.35651629072681706, 0.18796992481203006, 1.0, 0.0, 0.0, 0.0, 0.0, 0.0, 0.0, 0.0, 0.0, 0.0, 0.9981203007518797, 0.07423651721897372], \"showlegend\": true, \"subplot\": \"polar\", \"theta\": [\"Administrative\", \"Administrative_Duration\", \"Informational\", \"Informational_Duration\", \"ProductRelated\", \"BounceRates\", \"PageValues\", \"Weekend\", \"OperatingSystems_1\", \"OperatingSystems_2\", \"OperatingSystems_3\", \"Browser_2\", \"Browser_4\", \"Region_1\", \"Region_3\", \"TrafficType_1\", \"TrafficType_2\", \"TrafficType_3\", \"TrafficType_4\", \"TrafficType_5\", \"TrafficType_8\", \"TrafficType_10\", \"TrafficType_11\", \"TrafficType_13\", \"VisitorType_New_Visitor\", \"VisitorType_Returning_Visitor\", \"Administrative\"], \"type\": \"scatterpolar\"}, {\"hoverlabel\": {\"namelength\": 0}, \"hovertemplate\": \"Cluster=3<br>value=%{r}<br>variable=%{theta}\", \"legendgroup\": \"Cluster=3\", \"line\": {\"color\": \"#ab63fa\", \"dash\": \"solid\"}, \"mode\": \"lines\", \"name\": \"Cluster=3\", \"r\": [0.08085027383273118, 0.024440382640512324, 0.020065043561284135, 0.011882692891567279, 0.034511811443502335, 0.1333840453383464, 0.01617073996728469, 0.2821339061940566, 0.9047619047619048, 0.0, 0.0, 0.079484425349087, 0.0014321518080916578, 0.41245972073039744, 0.20372359470103832, 0.1313999283924096, 0.34300035803795204, 0.23594701038310062, 0.0916577157178661, 0.023630504833512353, 0.03544575725026853, 0.04582885785893305, 0.021124239169351952, 0.0021482277121374865, 0.1313999283924096, 0.8474758324382384, 0.08085027383273118], \"showlegend\": true, \"subplot\": \"polar\", \"theta\": [\"Administrative\", \"Administrative_Duration\", \"Informational\", \"Informational_Duration\", \"ProductRelated\", \"BounceRates\", \"PageValues\", \"Weekend\", \"OperatingSystems_1\", \"OperatingSystems_2\", \"OperatingSystems_3\", \"Browser_2\", \"Browser_4\", \"Region_1\", \"Region_3\", \"TrafficType_1\", \"TrafficType_2\", \"TrafficType_3\", \"TrafficType_4\", \"TrafficType_5\", \"TrafficType_8\", \"TrafficType_10\", \"TrafficType_11\", \"TrafficType_13\", \"VisitorType_New_Visitor\", \"VisitorType_Returning_Visitor\", \"Administrative\"], \"type\": \"scatterpolar\"}, {\"hoverlabel\": {\"namelength\": 0}, \"hovertemplate\": \"Cluster=4<br>value=%{r}<br>variable=%{theta}\", \"legendgroup\": \"Cluster=4\", \"line\": {\"color\": \"#FFA15A\", \"dash\": \"solid\"}, \"mode\": \"lines\", \"name\": \"Cluster=4\", \"r\": [0.09658076751450327, 0.02651268008452724, 0.014275853413654626, 0.008514271353757267, 0.02773968213278641, 0.019862534506777118, 0.030205231792347922, 0.28313253012048195, 0.0338855421686747, 0.7055722891566265, 0.20406626506024098, 0.7823795180722891, 0.09487951807228916, 0.3757530120481928, 0.18298192771084337, 0.023343373493975902, 0.5670180722891566, 0.07379518072289157, 0.05948795180722891, 0.08207831325301204, 0.10015060240963855, 0.012048192771084338, 0.030873493975903613, 0.004518072289156626, 0.9984939759036144, 0.0, 0.09658076751450327], \"showlegend\": true, \"subplot\": \"polar\", \"theta\": [\"Administrative\", \"Administrative_Duration\", \"Informational\", \"Informational_Duration\", \"ProductRelated\", \"BounceRates\", \"PageValues\", \"Weekend\", \"OperatingSystems_1\", \"OperatingSystems_2\", \"OperatingSystems_3\", \"Browser_2\", \"Browser_4\", \"Region_1\", \"Region_3\", \"TrafficType_1\", \"TrafficType_2\", \"TrafficType_3\", \"TrafficType_4\", \"TrafficType_5\", \"TrafficType_8\", \"TrafficType_10\", \"TrafficType_11\", \"TrafficType_13\", \"VisitorType_New_Visitor\", \"VisitorType_Returning_Visitor\", \"Administrative\"], \"type\": \"scatterpolar\"}, {\"hoverlabel\": {\"namelength\": 0}, \"hovertemplate\": \"Cluster=5<br>value=%{r}<br>variable=%{theta}\", \"legendgroup\": \"Cluster=5\", \"line\": {\"color\": \"#19d3f3\", \"dash\": \"solid\"}, \"mode\": \"lines\", \"name\": \"Cluster=5\", \"r\": [0.090679318281302, 0.02166177144058918, 0.022318591943067727, 0.015768600419677228, 0.0537271220490855, 0.07913383715211583, 0.01821268647793787, 0.1913839115516584, 0.0, 0.975600457491422, 0.0, 0.7750667174990469, 0.10293556995806329, 0.0, 0.3107129241326725, 0.0, 0.3896301944338544, 0.20053373999237514, 0.12847884102173085, 0.01067479984750286, 0.01639344262295082, 0.045749142203583684, 0.024018299656881435, 0.08616088448341594, 0.0, 0.9965688143347312, 0.090679318281302], \"showlegend\": true, \"subplot\": \"polar\", \"theta\": [\"Administrative\", \"Administrative_Duration\", \"Informational\", \"Informational_Duration\", \"ProductRelated\", \"BounceRates\", \"PageValues\", \"Weekend\", \"OperatingSystems_1\", \"OperatingSystems_2\", \"OperatingSystems_3\", \"Browser_2\", \"Browser_4\", \"Region_1\", \"Region_3\", \"TrafficType_1\", \"TrafficType_2\", \"TrafficType_3\", \"TrafficType_4\", \"TrafficType_5\", \"TrafficType_8\", \"TrafficType_10\", \"TrafficType_11\", \"TrafficType_13\", \"VisitorType_New_Visitor\", \"VisitorType_Returning_Visitor\", \"Administrative\"], \"type\": \"scatterpolar\"}],\n",
       "                        {\"height\": 800, \"legend\": {\"tracegroupgap\": 0}, \"margin\": {\"t\": 60}, \"polar\": {\"angularaxis\": {\"direction\": \"clockwise\", \"rotation\": 90}, \"domain\": {\"x\": [0.0, 1.0], \"y\": [0.0, 1.0]}}, \"template\": {\"data\": {\"bar\": [{\"error_x\": {\"color\": \"#2a3f5f\"}, \"error_y\": {\"color\": \"#2a3f5f\"}, \"marker\": {\"line\": {\"color\": \"#E5ECF6\", \"width\": 0.5}}, \"type\": \"bar\"}], \"barpolar\": [{\"marker\": {\"line\": {\"color\": \"#E5ECF6\", \"width\": 0.5}}, \"type\": \"barpolar\"}], \"carpet\": [{\"aaxis\": {\"endlinecolor\": \"#2a3f5f\", \"gridcolor\": \"white\", \"linecolor\": \"white\", \"minorgridcolor\": \"white\", \"startlinecolor\": \"#2a3f5f\"}, \"baxis\": {\"endlinecolor\": \"#2a3f5f\", \"gridcolor\": \"white\", \"linecolor\": \"white\", \"minorgridcolor\": \"white\", \"startlinecolor\": \"#2a3f5f\"}, \"type\": \"carpet\"}], \"choropleth\": [{\"colorbar\": {\"outlinewidth\": 0, \"ticks\": \"\"}, \"type\": \"choropleth\"}], \"contour\": [{\"colorbar\": {\"outlinewidth\": 0, \"ticks\": \"\"}, \"colorscale\": [[0.0, \"#0d0887\"], [0.1111111111111111, \"#46039f\"], [0.2222222222222222, \"#7201a8\"], [0.3333333333333333, \"#9c179e\"], [0.4444444444444444, \"#bd3786\"], [0.5555555555555556, \"#d8576b\"], [0.6666666666666666, \"#ed7953\"], [0.7777777777777778, \"#fb9f3a\"], [0.8888888888888888, \"#fdca26\"], [1.0, \"#f0f921\"]], \"type\": \"contour\"}], \"contourcarpet\": [{\"colorbar\": {\"outlinewidth\": 0, \"ticks\": \"\"}, \"type\": \"contourcarpet\"}], \"heatmap\": [{\"colorbar\": {\"outlinewidth\": 0, \"ticks\": \"\"}, \"colorscale\": [[0.0, \"#0d0887\"], [0.1111111111111111, \"#46039f\"], [0.2222222222222222, \"#7201a8\"], [0.3333333333333333, \"#9c179e\"], [0.4444444444444444, \"#bd3786\"], [0.5555555555555556, \"#d8576b\"], [0.6666666666666666, \"#ed7953\"], [0.7777777777777778, \"#fb9f3a\"], [0.8888888888888888, \"#fdca26\"], [1.0, \"#f0f921\"]], \"type\": \"heatmap\"}], \"heatmapgl\": [{\"colorbar\": {\"outlinewidth\": 0, \"ticks\": \"\"}, \"colorscale\": [[0.0, \"#0d0887\"], [0.1111111111111111, \"#46039f\"], [0.2222222222222222, \"#7201a8\"], [0.3333333333333333, \"#9c179e\"], [0.4444444444444444, \"#bd3786\"], [0.5555555555555556, \"#d8576b\"], [0.6666666666666666, \"#ed7953\"], [0.7777777777777778, \"#fb9f3a\"], [0.8888888888888888, \"#fdca26\"], [1.0, \"#f0f921\"]], \"type\": \"heatmapgl\"}], \"histogram\": [{\"marker\": {\"colorbar\": {\"outlinewidth\": 0, \"ticks\": \"\"}}, \"type\": \"histogram\"}], \"histogram2d\": [{\"colorbar\": {\"outlinewidth\": 0, \"ticks\": \"\"}, \"colorscale\": [[0.0, \"#0d0887\"], [0.1111111111111111, \"#46039f\"], [0.2222222222222222, \"#7201a8\"], [0.3333333333333333, \"#9c179e\"], [0.4444444444444444, \"#bd3786\"], [0.5555555555555556, \"#d8576b\"], [0.6666666666666666, \"#ed7953\"], [0.7777777777777778, \"#fb9f3a\"], [0.8888888888888888, \"#fdca26\"], [1.0, \"#f0f921\"]], \"type\": \"histogram2d\"}], \"histogram2dcontour\": [{\"colorbar\": {\"outlinewidth\": 0, \"ticks\": \"\"}, \"colorscale\": [[0.0, \"#0d0887\"], [0.1111111111111111, \"#46039f\"], [0.2222222222222222, \"#7201a8\"], [0.3333333333333333, \"#9c179e\"], [0.4444444444444444, \"#bd3786\"], [0.5555555555555556, \"#d8576b\"], [0.6666666666666666, \"#ed7953\"], [0.7777777777777778, \"#fb9f3a\"], [0.8888888888888888, \"#fdca26\"], [1.0, \"#f0f921\"]], \"type\": \"histogram2dcontour\"}], \"mesh3d\": [{\"colorbar\": {\"outlinewidth\": 0, \"ticks\": \"\"}, \"type\": \"mesh3d\"}], \"parcoords\": [{\"line\": {\"colorbar\": {\"outlinewidth\": 0, \"ticks\": \"\"}}, \"type\": \"parcoords\"}], \"pie\": [{\"automargin\": true, \"type\": \"pie\"}], \"scatter\": [{\"marker\": {\"colorbar\": {\"outlinewidth\": 0, \"ticks\": \"\"}}, \"type\": \"scatter\"}], \"scatter3d\": [{\"line\": {\"colorbar\": {\"outlinewidth\": 0, \"ticks\": \"\"}}, \"marker\": {\"colorbar\": {\"outlinewidth\": 0, \"ticks\": \"\"}}, \"type\": \"scatter3d\"}], \"scattercarpet\": [{\"marker\": {\"colorbar\": {\"outlinewidth\": 0, \"ticks\": \"\"}}, \"type\": \"scattercarpet\"}], \"scattergeo\": [{\"marker\": {\"colorbar\": {\"outlinewidth\": 0, \"ticks\": \"\"}}, \"type\": \"scattergeo\"}], \"scattergl\": [{\"marker\": {\"colorbar\": {\"outlinewidth\": 0, \"ticks\": \"\"}}, \"type\": \"scattergl\"}], \"scattermapbox\": [{\"marker\": {\"colorbar\": {\"outlinewidth\": 0, \"ticks\": \"\"}}, \"type\": \"scattermapbox\"}], \"scatterpolar\": [{\"marker\": {\"colorbar\": {\"outlinewidth\": 0, \"ticks\": \"\"}}, \"type\": \"scatterpolar\"}], \"scatterpolargl\": [{\"marker\": {\"colorbar\": {\"outlinewidth\": 0, \"ticks\": \"\"}}, \"type\": \"scatterpolargl\"}], \"scatterternary\": [{\"marker\": {\"colorbar\": {\"outlinewidth\": 0, \"ticks\": \"\"}}, \"type\": \"scatterternary\"}], \"surface\": [{\"colorbar\": {\"outlinewidth\": 0, \"ticks\": \"\"}, \"colorscale\": [[0.0, \"#0d0887\"], [0.1111111111111111, \"#46039f\"], [0.2222222222222222, \"#7201a8\"], [0.3333333333333333, \"#9c179e\"], [0.4444444444444444, \"#bd3786\"], [0.5555555555555556, \"#d8576b\"], [0.6666666666666666, \"#ed7953\"], [0.7777777777777778, \"#fb9f3a\"], [0.8888888888888888, \"#fdca26\"], [1.0, \"#f0f921\"]], \"type\": \"surface\"}], \"table\": [{\"cells\": {\"fill\": {\"color\": \"#EBF0F8\"}, \"line\": {\"color\": \"white\"}}, \"header\": {\"fill\": {\"color\": \"#C8D4E3\"}, \"line\": {\"color\": \"white\"}}, \"type\": \"table\"}]}, \"layout\": {\"annotationdefaults\": {\"arrowcolor\": \"#2a3f5f\", \"arrowhead\": 0, \"arrowwidth\": 1}, \"coloraxis\": {\"colorbar\": {\"outlinewidth\": 0, \"ticks\": \"\"}}, \"colorscale\": {\"diverging\": [[0, \"#8e0152\"], [0.1, \"#c51b7d\"], [0.2, \"#de77ae\"], [0.3, \"#f1b6da\"], [0.4, \"#fde0ef\"], [0.5, \"#f7f7f7\"], [0.6, \"#e6f5d0\"], [0.7, \"#b8e186\"], [0.8, \"#7fbc41\"], [0.9, \"#4d9221\"], [1, \"#276419\"]], \"sequential\": [[0.0, \"#0d0887\"], [0.1111111111111111, \"#46039f\"], [0.2222222222222222, \"#7201a8\"], [0.3333333333333333, \"#9c179e\"], [0.4444444444444444, \"#bd3786\"], [0.5555555555555556, \"#d8576b\"], [0.6666666666666666, \"#ed7953\"], [0.7777777777777778, \"#fb9f3a\"], [0.8888888888888888, \"#fdca26\"], [1.0, \"#f0f921\"]], \"sequentialminus\": [[0.0, \"#0d0887\"], [0.1111111111111111, \"#46039f\"], [0.2222222222222222, \"#7201a8\"], [0.3333333333333333, \"#9c179e\"], [0.4444444444444444, \"#bd3786\"], [0.5555555555555556, \"#d8576b\"], [0.6666666666666666, \"#ed7953\"], [0.7777777777777778, \"#fb9f3a\"], [0.8888888888888888, \"#fdca26\"], [1.0, \"#f0f921\"]]}, \"colorway\": [\"#636efa\", \"#EF553B\", \"#00cc96\", \"#ab63fa\", \"#FFA15A\", \"#19d3f3\", \"#FF6692\", \"#B6E880\", \"#FF97FF\", \"#FECB52\"], \"font\": {\"color\": \"#2a3f5f\"}, \"geo\": {\"bgcolor\": \"white\", \"lakecolor\": \"white\", \"landcolor\": \"#E5ECF6\", \"showlakes\": true, \"showland\": true, \"subunitcolor\": \"white\"}, \"hoverlabel\": {\"align\": \"left\"}, \"hovermode\": \"closest\", \"mapbox\": {\"style\": \"light\"}, \"paper_bgcolor\": \"white\", \"plot_bgcolor\": \"#E5ECF6\", \"polar\": {\"angularaxis\": {\"gridcolor\": \"white\", \"linecolor\": \"white\", \"ticks\": \"\"}, \"bgcolor\": \"#E5ECF6\", \"radialaxis\": {\"gridcolor\": \"white\", \"linecolor\": \"white\", \"ticks\": \"\"}}, \"scene\": {\"xaxis\": {\"backgroundcolor\": \"#E5ECF6\", \"gridcolor\": \"white\", \"gridwidth\": 2, \"linecolor\": \"white\", \"showbackground\": true, \"ticks\": \"\", \"zerolinecolor\": \"white\"}, \"yaxis\": {\"backgroundcolor\": \"#E5ECF6\", \"gridcolor\": \"white\", \"gridwidth\": 2, \"linecolor\": \"white\", \"showbackground\": true, \"ticks\": \"\", \"zerolinecolor\": \"white\"}, \"zaxis\": {\"backgroundcolor\": \"#E5ECF6\", \"gridcolor\": \"white\", \"gridwidth\": 2, \"linecolor\": \"white\", \"showbackground\": true, \"ticks\": \"\", \"zerolinecolor\": \"white\"}}, \"shapedefaults\": {\"line\": {\"color\": \"#2a3f5f\"}}, \"ternary\": {\"aaxis\": {\"gridcolor\": \"white\", \"linecolor\": \"white\", \"ticks\": \"\"}, \"baxis\": {\"gridcolor\": \"white\", \"linecolor\": \"white\", \"ticks\": \"\"}, \"bgcolor\": \"#E5ECF6\", \"caxis\": {\"gridcolor\": \"white\", \"linecolor\": \"white\", \"ticks\": \"\"}}, \"title\": {\"x\": 0.05}, \"xaxis\": {\"automargin\": true, \"gridcolor\": \"white\", \"linecolor\": \"white\", \"ticks\": \"\", \"title\": {\"standoff\": 15}, \"zerolinecolor\": \"white\", \"zerolinewidth\": 2}, \"yaxis\": {\"automargin\": true, \"gridcolor\": \"white\", \"linecolor\": \"white\", \"ticks\": \"\", \"title\": {\"standoff\": 15}, \"zerolinecolor\": \"white\", \"zerolinewidth\": 2}}}, \"width\": 1400},\n",
       "                        {\"responsive\": true}\n",
       "                    ).then(function(){\n",
       "                            \n",
       "var gd = document.getElementById('395b5e35-54a5-4999-8c5e-b98a9712d364');\n",
       "var x = new MutationObserver(function (mutations, observer) {{\n",
       "        var display = window.getComputedStyle(gd).display;\n",
       "        if (!display || display === 'none') {{\n",
       "            console.log([gd, 'removed!']);\n",
       "            Plotly.purge(gd);\n",
       "            observer.disconnect();\n",
       "        }}\n",
       "}});\n",
       "\n",
       "// Listen for the removal of the full notebook cells\n",
       "var notebookContainer = gd.closest('#notebook-container');\n",
       "if (notebookContainer) {{\n",
       "    x.observe(notebookContainer, {childList: true});\n",
       "}}\n",
       "\n",
       "// Listen for the clearing of the current output cell\n",
       "var outputEl = gd.closest('.output');\n",
       "if (outputEl) {{\n",
       "    x.observe(outputEl, {childList: true});\n",
       "}}\n",
       "\n",
       "                        })\n",
       "                };\n",
       "                \n",
       "            </script>\n",
       "        </div>\n",
       "</body>\n",
       "</html>"
      ]
     },
     "metadata": {
      "tags": []
     },
     "output_type": "display_data"
    }
   ],
   "source": [
    "#Optimal Clusters from Elbow Method = 6\n",
    "clusters = KMeans(n_clusters=6).fit(df_red)\n",
    "C_vals = clusters.predict(df_red)\n",
    "\n",
    "df_relevant['Cluster'] = C_vals\n",
    "df['Cluster'] = C_vals\n",
    "\n",
    "print('Cluster Stats :')\n",
    "#print(df[['Cluster', 'Revenue','Weekend','BounceRates','TrafficType_1','TrafficType_2']].groupby(['Cluster']).agg(['mean', 'count']))\n",
    "print(df[['Cluster', 'Revenue']].groupby(['Cluster']).agg(['mean', 'count']))\n",
    "\n",
    "#Visualize Clusters\n",
    "#PairsPlotData = df_relevant.copy(deep=True)\n",
    "#sns.pairplot(PairsPlotData, hue=\"Cluster\") \n",
    "\n",
    "\n",
    "import plotly.express as px\n",
    "polar=df_relevant.groupby(\"Cluster\").mean().reset_index()\n",
    "polar=pd.melt(polar,id_vars=[\"Cluster\"])\n",
    "fig4 = px.line_polar(polar, r=\"value\", theta=\"variable\", color=\"Cluster\", line_close=True,height=800,width=1400)\n",
    "fig4.show()"
   ]
  },
  {
   "cell_type": "markdown",
   "metadata": {
    "id": "XfsiyVscGnGL"
   },
   "source": [
    "## Task 2 - Summary\n",
    "\n",
    "PCA and K-Mean Clustering \n",
    "\n",
    "* As a first-step for clustering we ran PCA which helped reduced dimensionality of data from 26 to 11 while retaining more than 90% variance.\n",
    "\n",
    "* This was followed by K-Means. To find the right number of clusters, elbow method was utilized which gave the optimal numbers of clusters as 6.\n",
    "\n",
    "* Summary of 6 clusters -  average conversion rate per cluster:\n",
    "```\n",
    "Cluster  Mean Rev *Count*                                                                          \n",
    "0        0.101695  2301\n",
    "1        0.189461  1689\n",
    "2        0.115915  1596\n",
    "3        0.147512  2793\n",
    "4        0.245482  1328\n",
    "5        0.164316  2623\n",
    "```\n",
    "* Cluster Characteristics:\n",
    "  * cluster 0 resulted in a group low converting customers. This group of cusomter are 'Returning Visitor' and tend to primarliy use operating system label 2.\n",
    " * cluster 1 resulted in a group lowconverting customers. This group of cusomter are 'Returning Visitor' and tend to primarliy use operating system label 1.\n",
    " * cluster 2 resulted in a group high converting customers. This group of cusomter are 'New Visitor' and tend to primarliy use operating system label 1.\n",
    " * cluster 3 resulted in a group lowconverting customers. This group of cusomter are 'Returning Visitor' and tend to primarliy use operating system label 3 and broweser labeled 2.\n",
    " * cluster 4 resulted in a group low converting customers. This group of cusomter are 'Returning Visitor' and tend to primarliy use operating system label 2 and have traffic type of label 1.\n",
    " * cluster 5 resulted in a group high converting customers. This group of cusomter are 'Returning Visitor' and tend to primarliy use operating system label 2.\n",
    "\n",
    "\n",
    "\n",
    "\n",
    "  "
   ]
  },
  {
   "cell_type": "markdown",
   "metadata": {
    "id": "oyieE-WfL8Yc"
   },
   "source": [
    "# Task 3 - Semi-supervised Learning."
   ]
  },
  {
   "cell_type": "code",
   "execution_count": 27,
   "metadata": {
    "executionInfo": {
     "elapsed": 202,
     "status": "ok",
     "timestamp": 1627122872322,
     "user": {
      "displayName": "Salman",
      "photoUrl": "",
      "userId": "12336350671635365797"
     },
     "user_tz": -60
    },
    "id": "UCPCV14R6JiK"
   },
   "outputs": [],
   "source": [
    "import warnings\n",
    "warnings.filterwarnings('ignore')"
   ]
  },
  {
   "cell_type": "code",
   "execution_count": 28,
   "metadata": {
    "colab": {
     "base_uri": "https://localhost:8080/"
    },
    "executionInfo": {
     "elapsed": 291,
     "status": "ok",
     "timestamp": 1627122890750,
     "user": {
      "displayName": "Salman",
      "photoUrl": "",
      "userId": "12336350671635365797"
     },
     "user_tz": -60
    },
    "id": "oZZTjAnpxnbM",
    "outputId": "d2fac3fc-118f-4f7b-e7d8-501473594157"
   },
   "outputs": [
    {
     "name": "stdout",
     "output_type": "stream",
     "text": [
      "(6875, 15)\n",
      "(6875,)\n"
     ]
    },
    {
     "data": {
      "text/plain": [
       "(1601, 18)"
      ]
     },
     "execution_count": 28,
     "metadata": {
      "tags": []
     },
     "output_type": "execute_result"
    }
   ],
   "source": [
    "url = './online_shoppers_intention.csv'\n",
    "df = pd.read_csv(url, error_bad_lines=False)\n",
    "df.head()\n",
    "df['Revenue'] = df['Revenue'].map({False: 0, True: 1})\n",
    "df['Weekend'] = df['Weekend'].map({False: 0, True: 1})\n",
    "\n",
    "#Correcting data type to object for operating system, browser, region, traffic type  feature as they lack any hierarchy or order:\n",
    "feature_dtype_obj = ['OperatingSystems','Browser','Region','TrafficType']\n",
    "df[feature_dtype_obj] = df[feature_dtype_obj].astype(object)\n",
    "\n",
    "\n",
    "#Split Data in Train and Test Set\n",
    "df_train_labeled   =  df[df['Month'].isin(['June','Jul','Aug','Sep'])]\n",
    "df_train_unlabeled =  df[df['Month'].isin(['Oct','Nov','Dec'])]\n",
    "df_test  =  df[df['Month'].isin(['Feb','Mar'])]\n",
    "\n",
    "df.head()\n",
    "\n",
    "X_train = pd.concat([df_train_labeled.drop(['Month', 'Revenue','SpecialDay'], axis=1), df_train_unlabeled.drop(['Month', 'Revenue','SpecialDay'], axis=1)])\n",
    "X_test  = df_test.drop(['Month', 'Revenue','SpecialDay'], axis=1)\n",
    "\n",
    "y_train = pd.concat([df_train_labeled['Revenue'], pd.Series(-1*np.ones(shape=(df_train_unlabeled.shape[0],)))])\n",
    "y_test = df_test['Revenue']\n",
    "\n",
    "print(X_train.shape)\n",
    "print(y_train.shape)\n",
    "\n",
    "y_train.reset_index(drop=True, inplace=True)\n",
    "y_test.reset_index(drop=True, inplace=True)\n",
    "\n",
    "X_train.reset_index(drop=True, inplace=True)\n",
    "X_test.reset_index(drop=True, inplace=True)\n",
    "\n",
    "df_train_labeled.shape"
   ]
  },
  {
   "cell_type": "code",
   "execution_count": 29,
   "metadata": {
    "colab": {
     "base_uri": "https://localhost:8080/"
    },
    "executionInfo": {
     "elapsed": 280,
     "status": "ok",
     "timestamp": 1627122907564,
     "user": {
      "displayName": "Salman",
      "photoUrl": "",
      "userId": "12336350671635365797"
     },
     "user_tz": -60
    },
    "id": "-aKng-ap1V_X",
    "outputId": "89fac4a0-b980-457e-b316-8c4ad1437c5e"
   },
   "outputs": [
    {
     "name": "stdout",
     "output_type": "stream",
     "text": [
      "OperatingSystems\n",
      "Browser\n",
      "Region\n",
      "TrafficType\n",
      "VisitorType\n"
     ]
    }
   ],
   "source": [
    "#Pre-Processing \n",
    "from sklearn.preprocessing import OneHotEncoder\n",
    "from sklearn.preprocessing import StandardScaler\n",
    "from sklearn.preprocessing import MinMaxScaler\n",
    "\n",
    "non_numeric_columns = [col_i for col_i in X_train.columns if X_train[col_i].dtype in ['object']]\n",
    "float_columns = [col_i for col_i in X_train.columns if X_train[col_i].dtype in ['float64']]\n",
    "int_columns = [col_i for col_i in X_train.columns if X_train[col_i].dtype in ['int64']]\n",
    "int_float_cols = float_columns + int_columns\n",
    "\n",
    "#Standard Scaling for real and integer value variables.\n",
    "for col_i in int_float_cols:\n",
    "  #print(col_i)\n",
    "  scaler = MinMaxScaler()\n",
    "  scaler.fit(X_train[[col_i]])\n",
    "\n",
    "  X_train_scaled = pd.DataFrame(scaler.transform(X_train[[col_i]]))\n",
    "  X_train[[col_i]]= X_train_scaled\n",
    "\n",
    "  X_test_scaled = pd.DataFrame(scaler.transform(X_test[[col_i]]))\n",
    "  X_test[[col_i]]= X_test_scaled\n",
    "\n",
    "\n",
    "#non_numeric_columns to one-hot encoding\n",
    "for col_i in non_numeric_columns:\n",
    "  print(col_i)\n",
    "  enc = OneHotEncoder(handle_unknown='ignore')\n",
    "  enc.fit(X_train[[col_i]])\n",
    "\n",
    "  X_train_onhot = pd.DataFrame(enc.transform(X_train[[col_i]]).toarray())\n",
    "  X_train_onhot.columns = enc.get_feature_names([col_i])\n",
    "  X_train.drop([col_i] ,axis=1, inplace=True)\n",
    "  X_train= pd.concat([X_train, X_train_onhot ], axis=1)\n",
    "\n",
    "  X_test_onhot = pd.DataFrame(enc.transform(X_test[[col_i]]).toarray())\n",
    "  X_test_onhot.columns = enc.get_feature_names([col_i])\n",
    "  X_test.drop([col_i] ,axis=1, inplace=True)\n",
    "  X_test= pd.concat([X_test, X_test_onhot ], axis=1)\n",
    "\n",
    "\n",
    "  \n",
    "relevant_columns = ['Administrative', 'Administrative_Duration', 'Informational',\n",
    "       'Informational_Duration', 'ProductRelated', 'BounceRates', 'PageValues',\n",
    "       'Weekend', 'OperatingSystems_1', 'OperatingSystems_2',\n",
    "       'OperatingSystems_3', 'Browser_2', 'Browser_4', 'Region_1', 'Region_3',\n",
    "       'TrafficType_1', 'TrafficType_2', 'TrafficType_3', 'TrafficType_4',\n",
    "       'TrafficType_5', 'TrafficType_8', 'TrafficType_10', 'TrafficType_11',\n",
    "       'TrafficType_13', 'VisitorType_New_Visitor',\n",
    "       'VisitorType_Returning_Visitor']\n",
    "\n",
    "X_train = X_train[relevant_columns]\n",
    "X_test = X_test[relevant_columns]"
   ]
  },
  {
   "cell_type": "code",
   "execution_count": 30,
   "metadata": {
    "colab": {
     "base_uri": "https://localhost:8080/"
    },
    "executionInfo": {
     "elapsed": 360181,
     "status": "ok",
     "timestamp": 1627123271596,
     "user": {
      "displayName": "Salman",
      "photoUrl": "",
      "userId": "12336350671635365797"
     },
     "user_tz": -60
    },
    "id": "HsfOMzF990-0",
    "outputId": "1993e0ff-12ca-4085-b149-ffd69b1e5f92"
   },
   "outputs": [
    {
     "name": "stdout",
     "output_type": "stream",
     "text": [
      "0.0000 (+/-0.0000) for {'alpha': 0.05, 'gamma': 1, 'kernel': 'rbf', 'max_iter': 10, 'n_neighbors': 3}\n",
      "0.0000 (+/-0.0000) for {'alpha': 0.05, 'gamma': 1, 'kernel': 'rbf', 'max_iter': 10, 'n_neighbors': 5}\n",
      "0.0000 (+/-0.0000) for {'alpha': 0.05, 'gamma': 1, 'kernel': 'rbf', 'max_iter': 10, 'n_neighbors': 7}\n",
      "0.0000 (+/-0.0000) for {'alpha': 0.05, 'gamma': 1, 'kernel': 'rbf', 'max_iter': 10, 'n_neighbors': 11}\n",
      "0.0000 (+/-0.0000) for {'alpha': 0.05, 'gamma': 1, 'kernel': 'rbf', 'max_iter': 50, 'n_neighbors': 3}\n",
      "0.0000 (+/-0.0000) for {'alpha': 0.05, 'gamma': 1, 'kernel': 'rbf', 'max_iter': 50, 'n_neighbors': 5}\n",
      "0.0000 (+/-0.0000) for {'alpha': 0.05, 'gamma': 1, 'kernel': 'rbf', 'max_iter': 50, 'n_neighbors': 7}\n",
      "0.0000 (+/-0.0000) for {'alpha': 0.05, 'gamma': 1, 'kernel': 'rbf', 'max_iter': 50, 'n_neighbors': 11}\n",
      "0.0000 (+/-0.0000) for {'alpha': 0.05, 'gamma': 1, 'kernel': 'rbf', 'max_iter': 100, 'n_neighbors': 3}\n",
      "0.0000 (+/-0.0000) for {'alpha': 0.05, 'gamma': 1, 'kernel': 'rbf', 'max_iter': 100, 'n_neighbors': 5}\n",
      "0.0000 (+/-0.0000) for {'alpha': 0.05, 'gamma': 1, 'kernel': 'rbf', 'max_iter': 100, 'n_neighbors': 7}\n",
      "0.0000 (+/-0.0000) for {'alpha': 0.05, 'gamma': 1, 'kernel': 'rbf', 'max_iter': 100, 'n_neighbors': 11}\n",
      "0.0000 (+/-0.0000) for {'alpha': 0.05, 'gamma': 1, 'kernel': 'rbf', 'max_iter': 250, 'n_neighbors': 3}\n",
      "0.0000 (+/-0.0000) for {'alpha': 0.05, 'gamma': 1, 'kernel': 'rbf', 'max_iter': 250, 'n_neighbors': 5}\n",
      "0.0000 (+/-0.0000) for {'alpha': 0.05, 'gamma': 1, 'kernel': 'rbf', 'max_iter': 250, 'n_neighbors': 7}\n",
      "0.0000 (+/-0.0000) for {'alpha': 0.05, 'gamma': 1, 'kernel': 'rbf', 'max_iter': 250, 'n_neighbors': 11}\n",
      "0.2394 (+/-0.1086) for {'alpha': 0.05, 'gamma': 1, 'kernel': 'knn', 'max_iter': 10, 'n_neighbors': 3}\n",
      "0.2058 (+/-0.0398) for {'alpha': 0.05, 'gamma': 1, 'kernel': 'knn', 'max_iter': 10, 'n_neighbors': 5}\n",
      "0.1448 (+/-0.0763) for {'alpha': 0.05, 'gamma': 1, 'kernel': 'knn', 'max_iter': 10, 'n_neighbors': 7}\n",
      "0.0829 (+/-0.1009) for {'alpha': 0.05, 'gamma': 1, 'kernel': 'knn', 'max_iter': 10, 'n_neighbors': 11}\n",
      "0.2394 (+/-0.1086) for {'alpha': 0.05, 'gamma': 1, 'kernel': 'knn', 'max_iter': 50, 'n_neighbors': 3}\n",
      "0.2058 (+/-0.0398) for {'alpha': 0.05, 'gamma': 1, 'kernel': 'knn', 'max_iter': 50, 'n_neighbors': 5}\n",
      "0.1448 (+/-0.0763) for {'alpha': 0.05, 'gamma': 1, 'kernel': 'knn', 'max_iter': 50, 'n_neighbors': 7}\n",
      "0.0829 (+/-0.1009) for {'alpha': 0.05, 'gamma': 1, 'kernel': 'knn', 'max_iter': 50, 'n_neighbors': 11}\n",
      "0.2394 (+/-0.1086) for {'alpha': 0.05, 'gamma': 1, 'kernel': 'knn', 'max_iter': 100, 'n_neighbors': 3}\n",
      "0.2058 (+/-0.0398) for {'alpha': 0.05, 'gamma': 1, 'kernel': 'knn', 'max_iter': 100, 'n_neighbors': 5}\n",
      "0.1448 (+/-0.0763) for {'alpha': 0.05, 'gamma': 1, 'kernel': 'knn', 'max_iter': 100, 'n_neighbors': 7}\n",
      "0.0829 (+/-0.1009) for {'alpha': 0.05, 'gamma': 1, 'kernel': 'knn', 'max_iter': 100, 'n_neighbors': 11}\n",
      "0.2394 (+/-0.1086) for {'alpha': 0.05, 'gamma': 1, 'kernel': 'knn', 'max_iter': 250, 'n_neighbors': 3}\n",
      "0.2058 (+/-0.0398) for {'alpha': 0.05, 'gamma': 1, 'kernel': 'knn', 'max_iter': 250, 'n_neighbors': 5}\n",
      "0.1448 (+/-0.0763) for {'alpha': 0.05, 'gamma': 1, 'kernel': 'knn', 'max_iter': 250, 'n_neighbors': 7}\n",
      "0.0829 (+/-0.1009) for {'alpha': 0.05, 'gamma': 1, 'kernel': 'knn', 'max_iter': 250, 'n_neighbors': 11}\n",
      "0.1164 (+/-0.0255) for {'alpha': 0.05, 'gamma': 5, 'kernel': 'rbf', 'max_iter': 10, 'n_neighbors': 3}\n",
      "0.1164 (+/-0.0255) for {'alpha': 0.05, 'gamma': 5, 'kernel': 'rbf', 'max_iter': 10, 'n_neighbors': 5}\n",
      "0.1164 (+/-0.0255) for {'alpha': 0.05, 'gamma': 5, 'kernel': 'rbf', 'max_iter': 10, 'n_neighbors': 7}\n",
      "0.1164 (+/-0.0255) for {'alpha': 0.05, 'gamma': 5, 'kernel': 'rbf', 'max_iter': 10, 'n_neighbors': 11}\n",
      "0.1164 (+/-0.0255) for {'alpha': 0.05, 'gamma': 5, 'kernel': 'rbf', 'max_iter': 50, 'n_neighbors': 3}\n",
      "0.1164 (+/-0.0255) for {'alpha': 0.05, 'gamma': 5, 'kernel': 'rbf', 'max_iter': 50, 'n_neighbors': 5}\n",
      "0.1164 (+/-0.0255) for {'alpha': 0.05, 'gamma': 5, 'kernel': 'rbf', 'max_iter': 50, 'n_neighbors': 7}\n",
      "0.1164 (+/-0.0255) for {'alpha': 0.05, 'gamma': 5, 'kernel': 'rbf', 'max_iter': 50, 'n_neighbors': 11}\n",
      "0.1164 (+/-0.0255) for {'alpha': 0.05, 'gamma': 5, 'kernel': 'rbf', 'max_iter': 100, 'n_neighbors': 3}\n",
      "0.1164 (+/-0.0255) for {'alpha': 0.05, 'gamma': 5, 'kernel': 'rbf', 'max_iter': 100, 'n_neighbors': 5}\n",
      "0.1164 (+/-0.0255) for {'alpha': 0.05, 'gamma': 5, 'kernel': 'rbf', 'max_iter': 100, 'n_neighbors': 7}\n",
      "0.1164 (+/-0.0255) for {'alpha': 0.05, 'gamma': 5, 'kernel': 'rbf', 'max_iter': 100, 'n_neighbors': 11}\n",
      "0.1164 (+/-0.0255) for {'alpha': 0.05, 'gamma': 5, 'kernel': 'rbf', 'max_iter': 250, 'n_neighbors': 3}\n",
      "0.1164 (+/-0.0255) for {'alpha': 0.05, 'gamma': 5, 'kernel': 'rbf', 'max_iter': 250, 'n_neighbors': 5}\n",
      "0.1164 (+/-0.0255) for {'alpha': 0.05, 'gamma': 5, 'kernel': 'rbf', 'max_iter': 250, 'n_neighbors': 7}\n",
      "0.1164 (+/-0.0255) for {'alpha': 0.05, 'gamma': 5, 'kernel': 'rbf', 'max_iter': 250, 'n_neighbors': 11}\n",
      "0.2394 (+/-0.1086) for {'alpha': 0.05, 'gamma': 5, 'kernel': 'knn', 'max_iter': 10, 'n_neighbors': 3}\n",
      "0.2058 (+/-0.0398) for {'alpha': 0.05, 'gamma': 5, 'kernel': 'knn', 'max_iter': 10, 'n_neighbors': 5}\n",
      "0.1448 (+/-0.0763) for {'alpha': 0.05, 'gamma': 5, 'kernel': 'knn', 'max_iter': 10, 'n_neighbors': 7}\n",
      "0.0829 (+/-0.1009) for {'alpha': 0.05, 'gamma': 5, 'kernel': 'knn', 'max_iter': 10, 'n_neighbors': 11}\n",
      "0.2394 (+/-0.1086) for {'alpha': 0.05, 'gamma': 5, 'kernel': 'knn', 'max_iter': 50, 'n_neighbors': 3}\n",
      "0.2058 (+/-0.0398) for {'alpha': 0.05, 'gamma': 5, 'kernel': 'knn', 'max_iter': 50, 'n_neighbors': 5}\n",
      "0.1448 (+/-0.0763) for {'alpha': 0.05, 'gamma': 5, 'kernel': 'knn', 'max_iter': 50, 'n_neighbors': 7}\n",
      "0.0829 (+/-0.1009) for {'alpha': 0.05, 'gamma': 5, 'kernel': 'knn', 'max_iter': 50, 'n_neighbors': 11}\n",
      "0.2394 (+/-0.1086) for {'alpha': 0.05, 'gamma': 5, 'kernel': 'knn', 'max_iter': 100, 'n_neighbors': 3}\n",
      "0.2058 (+/-0.0398) for {'alpha': 0.05, 'gamma': 5, 'kernel': 'knn', 'max_iter': 100, 'n_neighbors': 5}\n",
      "0.1448 (+/-0.0763) for {'alpha': 0.05, 'gamma': 5, 'kernel': 'knn', 'max_iter': 100, 'n_neighbors': 7}\n",
      "0.0829 (+/-0.1009) for {'alpha': 0.05, 'gamma': 5, 'kernel': 'knn', 'max_iter': 100, 'n_neighbors': 11}\n",
      "0.2394 (+/-0.1086) for {'alpha': 0.05, 'gamma': 5, 'kernel': 'knn', 'max_iter': 250, 'n_neighbors': 3}\n",
      "0.2058 (+/-0.0398) for {'alpha': 0.05, 'gamma': 5, 'kernel': 'knn', 'max_iter': 250, 'n_neighbors': 5}\n",
      "0.1448 (+/-0.0763) for {'alpha': 0.05, 'gamma': 5, 'kernel': 'knn', 'max_iter': 250, 'n_neighbors': 7}\n",
      "0.0829 (+/-0.1009) for {'alpha': 0.05, 'gamma': 5, 'kernel': 'knn', 'max_iter': 250, 'n_neighbors': 11}\n",
      "0.1336 (+/-0.0417) for {'alpha': 0.05, 'gamma': 10, 'kernel': 'rbf', 'max_iter': 10, 'n_neighbors': 3}\n",
      "0.1336 (+/-0.0417) for {'alpha': 0.05, 'gamma': 10, 'kernel': 'rbf', 'max_iter': 10, 'n_neighbors': 5}\n",
      "0.1336 (+/-0.0417) for {'alpha': 0.05, 'gamma': 10, 'kernel': 'rbf', 'max_iter': 10, 'n_neighbors': 7}\n",
      "0.1336 (+/-0.0417) for {'alpha': 0.05, 'gamma': 10, 'kernel': 'rbf', 'max_iter': 10, 'n_neighbors': 11}\n",
      "0.1336 (+/-0.0417) for {'alpha': 0.05, 'gamma': 10, 'kernel': 'rbf', 'max_iter': 50, 'n_neighbors': 3}\n",
      "0.1336 (+/-0.0417) for {'alpha': 0.05, 'gamma': 10, 'kernel': 'rbf', 'max_iter': 50, 'n_neighbors': 5}\n",
      "0.1336 (+/-0.0417) for {'alpha': 0.05, 'gamma': 10, 'kernel': 'rbf', 'max_iter': 50, 'n_neighbors': 7}\n",
      "0.1336 (+/-0.0417) for {'alpha': 0.05, 'gamma': 10, 'kernel': 'rbf', 'max_iter': 50, 'n_neighbors': 11}\n",
      "0.1336 (+/-0.0417) for {'alpha': 0.05, 'gamma': 10, 'kernel': 'rbf', 'max_iter': 100, 'n_neighbors': 3}\n",
      "0.1336 (+/-0.0417) for {'alpha': 0.05, 'gamma': 10, 'kernel': 'rbf', 'max_iter': 100, 'n_neighbors': 5}\n",
      "0.1336 (+/-0.0417) for {'alpha': 0.05, 'gamma': 10, 'kernel': 'rbf', 'max_iter': 100, 'n_neighbors': 7}\n",
      "0.1336 (+/-0.0417) for {'alpha': 0.05, 'gamma': 10, 'kernel': 'rbf', 'max_iter': 100, 'n_neighbors': 11}\n",
      "0.1336 (+/-0.0417) for {'alpha': 0.05, 'gamma': 10, 'kernel': 'rbf', 'max_iter': 250, 'n_neighbors': 3}\n",
      "0.1336 (+/-0.0417) for {'alpha': 0.05, 'gamma': 10, 'kernel': 'rbf', 'max_iter': 250, 'n_neighbors': 5}\n",
      "0.1336 (+/-0.0417) for {'alpha': 0.05, 'gamma': 10, 'kernel': 'rbf', 'max_iter': 250, 'n_neighbors': 7}\n",
      "0.1336 (+/-0.0417) for {'alpha': 0.05, 'gamma': 10, 'kernel': 'rbf', 'max_iter': 250, 'n_neighbors': 11}\n",
      "0.2394 (+/-0.1086) for {'alpha': 0.05, 'gamma': 10, 'kernel': 'knn', 'max_iter': 10, 'n_neighbors': 3}\n",
      "0.2058 (+/-0.0398) for {'alpha': 0.05, 'gamma': 10, 'kernel': 'knn', 'max_iter': 10, 'n_neighbors': 5}\n",
      "0.1448 (+/-0.0763) for {'alpha': 0.05, 'gamma': 10, 'kernel': 'knn', 'max_iter': 10, 'n_neighbors': 7}\n",
      "0.0829 (+/-0.1009) for {'alpha': 0.05, 'gamma': 10, 'kernel': 'knn', 'max_iter': 10, 'n_neighbors': 11}\n",
      "0.2394 (+/-0.1086) for {'alpha': 0.05, 'gamma': 10, 'kernel': 'knn', 'max_iter': 50, 'n_neighbors': 3}\n",
      "0.2058 (+/-0.0398) for {'alpha': 0.05, 'gamma': 10, 'kernel': 'knn', 'max_iter': 50, 'n_neighbors': 5}\n",
      "0.1448 (+/-0.0763) for {'alpha': 0.05, 'gamma': 10, 'kernel': 'knn', 'max_iter': 50, 'n_neighbors': 7}\n",
      "0.0829 (+/-0.1009) for {'alpha': 0.05, 'gamma': 10, 'kernel': 'knn', 'max_iter': 50, 'n_neighbors': 11}\n",
      "0.2394 (+/-0.1086) for {'alpha': 0.05, 'gamma': 10, 'kernel': 'knn', 'max_iter': 100, 'n_neighbors': 3}\n",
      "0.2058 (+/-0.0398) for {'alpha': 0.05, 'gamma': 10, 'kernel': 'knn', 'max_iter': 100, 'n_neighbors': 5}\n",
      "0.1448 (+/-0.0763) for {'alpha': 0.05, 'gamma': 10, 'kernel': 'knn', 'max_iter': 100, 'n_neighbors': 7}\n",
      "0.0829 (+/-0.1009) for {'alpha': 0.05, 'gamma': 10, 'kernel': 'knn', 'max_iter': 100, 'n_neighbors': 11}\n",
      "0.2394 (+/-0.1086) for {'alpha': 0.05, 'gamma': 10, 'kernel': 'knn', 'max_iter': 250, 'n_neighbors': 3}\n",
      "0.2058 (+/-0.0398) for {'alpha': 0.05, 'gamma': 10, 'kernel': 'knn', 'max_iter': 250, 'n_neighbors': 5}\n",
      "0.1448 (+/-0.0763) for {'alpha': 0.05, 'gamma': 10, 'kernel': 'knn', 'max_iter': 250, 'n_neighbors': 7}\n",
      "0.0829 (+/-0.1009) for {'alpha': 0.05, 'gamma': 10, 'kernel': 'knn', 'max_iter': 250, 'n_neighbors': 11}\n",
      "0.1450 (+/-0.0626) for {'alpha': 0.05, 'gamma': 20, 'kernel': 'rbf', 'max_iter': 10, 'n_neighbors': 3}\n",
      "0.1450 (+/-0.0626) for {'alpha': 0.05, 'gamma': 20, 'kernel': 'rbf', 'max_iter': 10, 'n_neighbors': 5}\n",
      "0.1450 (+/-0.0626) for {'alpha': 0.05, 'gamma': 20, 'kernel': 'rbf', 'max_iter': 10, 'n_neighbors': 7}\n",
      "0.1450 (+/-0.0626) for {'alpha': 0.05, 'gamma': 20, 'kernel': 'rbf', 'max_iter': 10, 'n_neighbors': 11}\n",
      "0.1450 (+/-0.0626) for {'alpha': 0.05, 'gamma': 20, 'kernel': 'rbf', 'max_iter': 50, 'n_neighbors': 3}\n",
      "0.1450 (+/-0.0626) for {'alpha': 0.05, 'gamma': 20, 'kernel': 'rbf', 'max_iter': 50, 'n_neighbors': 5}\n",
      "0.1450 (+/-0.0626) for {'alpha': 0.05, 'gamma': 20, 'kernel': 'rbf', 'max_iter': 50, 'n_neighbors': 7}\n",
      "0.1450 (+/-0.0626) for {'alpha': 0.05, 'gamma': 20, 'kernel': 'rbf', 'max_iter': 50, 'n_neighbors': 11}\n",
      "0.1450 (+/-0.0626) for {'alpha': 0.05, 'gamma': 20, 'kernel': 'rbf', 'max_iter': 100, 'n_neighbors': 3}\n",
      "0.1450 (+/-0.0626) for {'alpha': 0.05, 'gamma': 20, 'kernel': 'rbf', 'max_iter': 100, 'n_neighbors': 5}\n",
      "0.1450 (+/-0.0626) for {'alpha': 0.05, 'gamma': 20, 'kernel': 'rbf', 'max_iter': 100, 'n_neighbors': 7}\n",
      "0.1450 (+/-0.0626) for {'alpha': 0.05, 'gamma': 20, 'kernel': 'rbf', 'max_iter': 100, 'n_neighbors': 11}\n",
      "0.1450 (+/-0.0626) for {'alpha': 0.05, 'gamma': 20, 'kernel': 'rbf', 'max_iter': 250, 'n_neighbors': 3}\n",
      "0.1450 (+/-0.0626) for {'alpha': 0.05, 'gamma': 20, 'kernel': 'rbf', 'max_iter': 250, 'n_neighbors': 5}\n",
      "0.1450 (+/-0.0626) for {'alpha': 0.05, 'gamma': 20, 'kernel': 'rbf', 'max_iter': 250, 'n_neighbors': 7}\n",
      "0.1450 (+/-0.0626) for {'alpha': 0.05, 'gamma': 20, 'kernel': 'rbf', 'max_iter': 250, 'n_neighbors': 11}\n",
      "0.2394 (+/-0.1086) for {'alpha': 0.05, 'gamma': 20, 'kernel': 'knn', 'max_iter': 10, 'n_neighbors': 3}\n",
      "0.2058 (+/-0.0398) for {'alpha': 0.05, 'gamma': 20, 'kernel': 'knn', 'max_iter': 10, 'n_neighbors': 5}\n",
      "0.1448 (+/-0.0763) for {'alpha': 0.05, 'gamma': 20, 'kernel': 'knn', 'max_iter': 10, 'n_neighbors': 7}\n",
      "0.0829 (+/-0.1009) for {'alpha': 0.05, 'gamma': 20, 'kernel': 'knn', 'max_iter': 10, 'n_neighbors': 11}\n",
      "0.2394 (+/-0.1086) for {'alpha': 0.05, 'gamma': 20, 'kernel': 'knn', 'max_iter': 50, 'n_neighbors': 3}\n",
      "0.2058 (+/-0.0398) for {'alpha': 0.05, 'gamma': 20, 'kernel': 'knn', 'max_iter': 50, 'n_neighbors': 5}\n",
      "0.1448 (+/-0.0763) for {'alpha': 0.05, 'gamma': 20, 'kernel': 'knn', 'max_iter': 50, 'n_neighbors': 7}\n",
      "0.0829 (+/-0.1009) for {'alpha': 0.05, 'gamma': 20, 'kernel': 'knn', 'max_iter': 50, 'n_neighbors': 11}\n",
      "0.2394 (+/-0.1086) for {'alpha': 0.05, 'gamma': 20, 'kernel': 'knn', 'max_iter': 100, 'n_neighbors': 3}\n",
      "0.2058 (+/-0.0398) for {'alpha': 0.05, 'gamma': 20, 'kernel': 'knn', 'max_iter': 100, 'n_neighbors': 5}\n",
      "0.1448 (+/-0.0763) for {'alpha': 0.05, 'gamma': 20, 'kernel': 'knn', 'max_iter': 100, 'n_neighbors': 7}\n",
      "0.0829 (+/-0.1009) for {'alpha': 0.05, 'gamma': 20, 'kernel': 'knn', 'max_iter': 100, 'n_neighbors': 11}\n",
      "0.2394 (+/-0.1086) for {'alpha': 0.05, 'gamma': 20, 'kernel': 'knn', 'max_iter': 250, 'n_neighbors': 3}\n",
      "0.2058 (+/-0.0398) for {'alpha': 0.05, 'gamma': 20, 'kernel': 'knn', 'max_iter': 250, 'n_neighbors': 5}\n",
      "0.1448 (+/-0.0763) for {'alpha': 0.05, 'gamma': 20, 'kernel': 'knn', 'max_iter': 250, 'n_neighbors': 7}\n",
      "0.0829 (+/-0.1009) for {'alpha': 0.05, 'gamma': 20, 'kernel': 'knn', 'max_iter': 250, 'n_neighbors': 11}\n",
      "0.1732 (+/-0.0592) for {'alpha': 0.05, 'gamma': 50, 'kernel': 'rbf', 'max_iter': 10, 'n_neighbors': 3}\n",
      "0.1732 (+/-0.0592) for {'alpha': 0.05, 'gamma': 50, 'kernel': 'rbf', 'max_iter': 10, 'n_neighbors': 5}\n",
      "0.1732 (+/-0.0592) for {'alpha': 0.05, 'gamma': 50, 'kernel': 'rbf', 'max_iter': 10, 'n_neighbors': 7}\n",
      "0.1732 (+/-0.0592) for {'alpha': 0.05, 'gamma': 50, 'kernel': 'rbf', 'max_iter': 10, 'n_neighbors': 11}\n",
      "0.1732 (+/-0.0592) for {'alpha': 0.05, 'gamma': 50, 'kernel': 'rbf', 'max_iter': 50, 'n_neighbors': 3}\n",
      "0.1732 (+/-0.0592) for {'alpha': 0.05, 'gamma': 50, 'kernel': 'rbf', 'max_iter': 50, 'n_neighbors': 5}\n",
      "0.1732 (+/-0.0592) for {'alpha': 0.05, 'gamma': 50, 'kernel': 'rbf', 'max_iter': 50, 'n_neighbors': 7}\n",
      "0.1732 (+/-0.0592) for {'alpha': 0.05, 'gamma': 50, 'kernel': 'rbf', 'max_iter': 50, 'n_neighbors': 11}\n",
      "0.1732 (+/-0.0592) for {'alpha': 0.05, 'gamma': 50, 'kernel': 'rbf', 'max_iter': 100, 'n_neighbors': 3}\n",
      "0.1732 (+/-0.0592) for {'alpha': 0.05, 'gamma': 50, 'kernel': 'rbf', 'max_iter': 100, 'n_neighbors': 5}\n",
      "0.1732 (+/-0.0592) for {'alpha': 0.05, 'gamma': 50, 'kernel': 'rbf', 'max_iter': 100, 'n_neighbors': 7}\n",
      "0.1732 (+/-0.0592) for {'alpha': 0.05, 'gamma': 50, 'kernel': 'rbf', 'max_iter': 100, 'n_neighbors': 11}\n",
      "0.1732 (+/-0.0592) for {'alpha': 0.05, 'gamma': 50, 'kernel': 'rbf', 'max_iter': 250, 'n_neighbors': 3}\n",
      "0.1732 (+/-0.0592) for {'alpha': 0.05, 'gamma': 50, 'kernel': 'rbf', 'max_iter': 250, 'n_neighbors': 5}\n",
      "0.1732 (+/-0.0592) for {'alpha': 0.05, 'gamma': 50, 'kernel': 'rbf', 'max_iter': 250, 'n_neighbors': 7}\n",
      "0.1732 (+/-0.0592) for {'alpha': 0.05, 'gamma': 50, 'kernel': 'rbf', 'max_iter': 250, 'n_neighbors': 11}\n",
      "0.2394 (+/-0.1086) for {'alpha': 0.05, 'gamma': 50, 'kernel': 'knn', 'max_iter': 10, 'n_neighbors': 3}\n",
      "0.2058 (+/-0.0398) for {'alpha': 0.05, 'gamma': 50, 'kernel': 'knn', 'max_iter': 10, 'n_neighbors': 5}\n",
      "0.1448 (+/-0.0763) for {'alpha': 0.05, 'gamma': 50, 'kernel': 'knn', 'max_iter': 10, 'n_neighbors': 7}\n",
      "0.0829 (+/-0.1009) for {'alpha': 0.05, 'gamma': 50, 'kernel': 'knn', 'max_iter': 10, 'n_neighbors': 11}\n",
      "0.2394 (+/-0.1086) for {'alpha': 0.05, 'gamma': 50, 'kernel': 'knn', 'max_iter': 50, 'n_neighbors': 3}\n",
      "0.2058 (+/-0.0398) for {'alpha': 0.05, 'gamma': 50, 'kernel': 'knn', 'max_iter': 50, 'n_neighbors': 5}\n",
      "0.1448 (+/-0.0763) for {'alpha': 0.05, 'gamma': 50, 'kernel': 'knn', 'max_iter': 50, 'n_neighbors': 7}\n",
      "0.0829 (+/-0.1009) for {'alpha': 0.05, 'gamma': 50, 'kernel': 'knn', 'max_iter': 50, 'n_neighbors': 11}\n",
      "0.2394 (+/-0.1086) for {'alpha': 0.05, 'gamma': 50, 'kernel': 'knn', 'max_iter': 100, 'n_neighbors': 3}\n",
      "0.2058 (+/-0.0398) for {'alpha': 0.05, 'gamma': 50, 'kernel': 'knn', 'max_iter': 100, 'n_neighbors': 5}\n",
      "0.1448 (+/-0.0763) for {'alpha': 0.05, 'gamma': 50, 'kernel': 'knn', 'max_iter': 100, 'n_neighbors': 7}\n",
      "0.0829 (+/-0.1009) for {'alpha': 0.05, 'gamma': 50, 'kernel': 'knn', 'max_iter': 100, 'n_neighbors': 11}\n",
      "0.2394 (+/-0.1086) for {'alpha': 0.05, 'gamma': 50, 'kernel': 'knn', 'max_iter': 250, 'n_neighbors': 3}\n",
      "0.2058 (+/-0.0398) for {'alpha': 0.05, 'gamma': 50, 'kernel': 'knn', 'max_iter': 250, 'n_neighbors': 5}\n",
      "0.1448 (+/-0.0763) for {'alpha': 0.05, 'gamma': 50, 'kernel': 'knn', 'max_iter': 250, 'n_neighbors': 7}\n",
      "0.0829 (+/-0.1009) for {'alpha': 0.05, 'gamma': 50, 'kernel': 'knn', 'max_iter': 250, 'n_neighbors': 11}\n",
      "0.0000 (+/-0.0000) for {'alpha': 0.1, 'gamma': 1, 'kernel': 'rbf', 'max_iter': 10, 'n_neighbors': 3}\n",
      "0.0000 (+/-0.0000) for {'alpha': 0.1, 'gamma': 1, 'kernel': 'rbf', 'max_iter': 10, 'n_neighbors': 5}\n",
      "0.0000 (+/-0.0000) for {'alpha': 0.1, 'gamma': 1, 'kernel': 'rbf', 'max_iter': 10, 'n_neighbors': 7}\n",
      "0.0000 (+/-0.0000) for {'alpha': 0.1, 'gamma': 1, 'kernel': 'rbf', 'max_iter': 10, 'n_neighbors': 11}\n",
      "0.0000 (+/-0.0000) for {'alpha': 0.1, 'gamma': 1, 'kernel': 'rbf', 'max_iter': 50, 'n_neighbors': 3}\n",
      "0.0000 (+/-0.0000) for {'alpha': 0.1, 'gamma': 1, 'kernel': 'rbf', 'max_iter': 50, 'n_neighbors': 5}\n",
      "0.0000 (+/-0.0000) for {'alpha': 0.1, 'gamma': 1, 'kernel': 'rbf', 'max_iter': 50, 'n_neighbors': 7}\n",
      "0.0000 (+/-0.0000) for {'alpha': 0.1, 'gamma': 1, 'kernel': 'rbf', 'max_iter': 50, 'n_neighbors': 11}\n",
      "0.0000 (+/-0.0000) for {'alpha': 0.1, 'gamma': 1, 'kernel': 'rbf', 'max_iter': 100, 'n_neighbors': 3}\n",
      "0.0000 (+/-0.0000) for {'alpha': 0.1, 'gamma': 1, 'kernel': 'rbf', 'max_iter': 100, 'n_neighbors': 5}\n",
      "0.0000 (+/-0.0000) for {'alpha': 0.1, 'gamma': 1, 'kernel': 'rbf', 'max_iter': 100, 'n_neighbors': 7}\n",
      "0.0000 (+/-0.0000) for {'alpha': 0.1, 'gamma': 1, 'kernel': 'rbf', 'max_iter': 100, 'n_neighbors': 11}\n",
      "0.0000 (+/-0.0000) for {'alpha': 0.1, 'gamma': 1, 'kernel': 'rbf', 'max_iter': 250, 'n_neighbors': 3}\n",
      "0.0000 (+/-0.0000) for {'alpha': 0.1, 'gamma': 1, 'kernel': 'rbf', 'max_iter': 250, 'n_neighbors': 5}\n",
      "0.0000 (+/-0.0000) for {'alpha': 0.1, 'gamma': 1, 'kernel': 'rbf', 'max_iter': 250, 'n_neighbors': 7}\n",
      "0.0000 (+/-0.0000) for {'alpha': 0.1, 'gamma': 1, 'kernel': 'rbf', 'max_iter': 250, 'n_neighbors': 11}\n",
      "0.2394 (+/-0.1086) for {'alpha': 0.1, 'gamma': 1, 'kernel': 'knn', 'max_iter': 10, 'n_neighbors': 3}\n",
      "0.2058 (+/-0.0398) for {'alpha': 0.1, 'gamma': 1, 'kernel': 'knn', 'max_iter': 10, 'n_neighbors': 5}\n",
      "0.1448 (+/-0.0763) for {'alpha': 0.1, 'gamma': 1, 'kernel': 'knn', 'max_iter': 10, 'n_neighbors': 7}\n",
      "0.0829 (+/-0.1009) for {'alpha': 0.1, 'gamma': 1, 'kernel': 'knn', 'max_iter': 10, 'n_neighbors': 11}\n",
      "0.2394 (+/-0.1086) for {'alpha': 0.1, 'gamma': 1, 'kernel': 'knn', 'max_iter': 50, 'n_neighbors': 3}\n",
      "0.2058 (+/-0.0398) for {'alpha': 0.1, 'gamma': 1, 'kernel': 'knn', 'max_iter': 50, 'n_neighbors': 5}\n",
      "0.1448 (+/-0.0763) for {'alpha': 0.1, 'gamma': 1, 'kernel': 'knn', 'max_iter': 50, 'n_neighbors': 7}\n",
      "0.0829 (+/-0.1009) for {'alpha': 0.1, 'gamma': 1, 'kernel': 'knn', 'max_iter': 50, 'n_neighbors': 11}\n",
      "0.2394 (+/-0.1086) for {'alpha': 0.1, 'gamma': 1, 'kernel': 'knn', 'max_iter': 100, 'n_neighbors': 3}\n",
      "0.2058 (+/-0.0398) for {'alpha': 0.1, 'gamma': 1, 'kernel': 'knn', 'max_iter': 100, 'n_neighbors': 5}\n",
      "0.1448 (+/-0.0763) for {'alpha': 0.1, 'gamma': 1, 'kernel': 'knn', 'max_iter': 100, 'n_neighbors': 7}\n",
      "0.0829 (+/-0.1009) for {'alpha': 0.1, 'gamma': 1, 'kernel': 'knn', 'max_iter': 100, 'n_neighbors': 11}\n",
      "0.2394 (+/-0.1086) for {'alpha': 0.1, 'gamma': 1, 'kernel': 'knn', 'max_iter': 250, 'n_neighbors': 3}\n",
      "0.2058 (+/-0.0398) for {'alpha': 0.1, 'gamma': 1, 'kernel': 'knn', 'max_iter': 250, 'n_neighbors': 5}\n",
      "0.1448 (+/-0.0763) for {'alpha': 0.1, 'gamma': 1, 'kernel': 'knn', 'max_iter': 250, 'n_neighbors': 7}\n",
      "0.0829 (+/-0.1009) for {'alpha': 0.1, 'gamma': 1, 'kernel': 'knn', 'max_iter': 250, 'n_neighbors': 11}\n",
      "0.1161 (+/-0.0245) for {'alpha': 0.1, 'gamma': 5, 'kernel': 'rbf', 'max_iter': 10, 'n_neighbors': 3}\n",
      "0.1161 (+/-0.0245) for {'alpha': 0.1, 'gamma': 5, 'kernel': 'rbf', 'max_iter': 10, 'n_neighbors': 5}\n",
      "0.1161 (+/-0.0245) for {'alpha': 0.1, 'gamma': 5, 'kernel': 'rbf', 'max_iter': 10, 'n_neighbors': 7}\n",
      "0.1161 (+/-0.0245) for {'alpha': 0.1, 'gamma': 5, 'kernel': 'rbf', 'max_iter': 10, 'n_neighbors': 11}\n",
      "0.1161 (+/-0.0245) for {'alpha': 0.1, 'gamma': 5, 'kernel': 'rbf', 'max_iter': 50, 'n_neighbors': 3}\n",
      "0.1161 (+/-0.0245) for {'alpha': 0.1, 'gamma': 5, 'kernel': 'rbf', 'max_iter': 50, 'n_neighbors': 5}\n",
      "0.1161 (+/-0.0245) for {'alpha': 0.1, 'gamma': 5, 'kernel': 'rbf', 'max_iter': 50, 'n_neighbors': 7}\n",
      "0.1161 (+/-0.0245) for {'alpha': 0.1, 'gamma': 5, 'kernel': 'rbf', 'max_iter': 50, 'n_neighbors': 11}\n",
      "0.1161 (+/-0.0245) for {'alpha': 0.1, 'gamma': 5, 'kernel': 'rbf', 'max_iter': 100, 'n_neighbors': 3}\n",
      "0.1161 (+/-0.0245) for {'alpha': 0.1, 'gamma': 5, 'kernel': 'rbf', 'max_iter': 100, 'n_neighbors': 5}\n",
      "0.1161 (+/-0.0245) for {'alpha': 0.1, 'gamma': 5, 'kernel': 'rbf', 'max_iter': 100, 'n_neighbors': 7}\n",
      "0.1161 (+/-0.0245) for {'alpha': 0.1, 'gamma': 5, 'kernel': 'rbf', 'max_iter': 100, 'n_neighbors': 11}\n",
      "0.1161 (+/-0.0245) for {'alpha': 0.1, 'gamma': 5, 'kernel': 'rbf', 'max_iter': 250, 'n_neighbors': 3}\n",
      "0.1161 (+/-0.0245) for {'alpha': 0.1, 'gamma': 5, 'kernel': 'rbf', 'max_iter': 250, 'n_neighbors': 5}\n",
      "0.1161 (+/-0.0245) for {'alpha': 0.1, 'gamma': 5, 'kernel': 'rbf', 'max_iter': 250, 'n_neighbors': 7}\n",
      "0.1161 (+/-0.0245) for {'alpha': 0.1, 'gamma': 5, 'kernel': 'rbf', 'max_iter': 250, 'n_neighbors': 11}\n",
      "0.2394 (+/-0.1086) for {'alpha': 0.1, 'gamma': 5, 'kernel': 'knn', 'max_iter': 10, 'n_neighbors': 3}\n",
      "0.2058 (+/-0.0398) for {'alpha': 0.1, 'gamma': 5, 'kernel': 'knn', 'max_iter': 10, 'n_neighbors': 5}\n",
      "0.1448 (+/-0.0763) for {'alpha': 0.1, 'gamma': 5, 'kernel': 'knn', 'max_iter': 10, 'n_neighbors': 7}\n",
      "0.0829 (+/-0.1009) for {'alpha': 0.1, 'gamma': 5, 'kernel': 'knn', 'max_iter': 10, 'n_neighbors': 11}\n",
      "0.2394 (+/-0.1086) for {'alpha': 0.1, 'gamma': 5, 'kernel': 'knn', 'max_iter': 50, 'n_neighbors': 3}\n",
      "0.2058 (+/-0.0398) for {'alpha': 0.1, 'gamma': 5, 'kernel': 'knn', 'max_iter': 50, 'n_neighbors': 5}\n",
      "0.1448 (+/-0.0763) for {'alpha': 0.1, 'gamma': 5, 'kernel': 'knn', 'max_iter': 50, 'n_neighbors': 7}\n",
      "0.0829 (+/-0.1009) for {'alpha': 0.1, 'gamma': 5, 'kernel': 'knn', 'max_iter': 50, 'n_neighbors': 11}\n",
      "0.2394 (+/-0.1086) for {'alpha': 0.1, 'gamma': 5, 'kernel': 'knn', 'max_iter': 100, 'n_neighbors': 3}\n",
      "0.2058 (+/-0.0398) for {'alpha': 0.1, 'gamma': 5, 'kernel': 'knn', 'max_iter': 100, 'n_neighbors': 5}\n",
      "0.1448 (+/-0.0763) for {'alpha': 0.1, 'gamma': 5, 'kernel': 'knn', 'max_iter': 100, 'n_neighbors': 7}\n",
      "0.0829 (+/-0.1009) for {'alpha': 0.1, 'gamma': 5, 'kernel': 'knn', 'max_iter': 100, 'n_neighbors': 11}\n",
      "0.2394 (+/-0.1086) for {'alpha': 0.1, 'gamma': 5, 'kernel': 'knn', 'max_iter': 250, 'n_neighbors': 3}\n",
      "0.2058 (+/-0.0398) for {'alpha': 0.1, 'gamma': 5, 'kernel': 'knn', 'max_iter': 250, 'n_neighbors': 5}\n",
      "0.1448 (+/-0.0763) for {'alpha': 0.1, 'gamma': 5, 'kernel': 'knn', 'max_iter': 250, 'n_neighbors': 7}\n",
      "0.0829 (+/-0.1009) for {'alpha': 0.1, 'gamma': 5, 'kernel': 'knn', 'max_iter': 250, 'n_neighbors': 11}\n",
      "0.1336 (+/-0.0417) for {'alpha': 0.1, 'gamma': 10, 'kernel': 'rbf', 'max_iter': 10, 'n_neighbors': 3}\n",
      "0.1336 (+/-0.0417) for {'alpha': 0.1, 'gamma': 10, 'kernel': 'rbf', 'max_iter': 10, 'n_neighbors': 5}\n",
      "0.1336 (+/-0.0417) for {'alpha': 0.1, 'gamma': 10, 'kernel': 'rbf', 'max_iter': 10, 'n_neighbors': 7}\n",
      "0.1336 (+/-0.0417) for {'alpha': 0.1, 'gamma': 10, 'kernel': 'rbf', 'max_iter': 10, 'n_neighbors': 11}\n",
      "0.1336 (+/-0.0417) for {'alpha': 0.1, 'gamma': 10, 'kernel': 'rbf', 'max_iter': 50, 'n_neighbors': 3}\n",
      "0.1336 (+/-0.0417) for {'alpha': 0.1, 'gamma': 10, 'kernel': 'rbf', 'max_iter': 50, 'n_neighbors': 5}\n",
      "0.1336 (+/-0.0417) for {'alpha': 0.1, 'gamma': 10, 'kernel': 'rbf', 'max_iter': 50, 'n_neighbors': 7}\n",
      "0.1336 (+/-0.0417) for {'alpha': 0.1, 'gamma': 10, 'kernel': 'rbf', 'max_iter': 50, 'n_neighbors': 11}\n",
      "0.1336 (+/-0.0417) for {'alpha': 0.1, 'gamma': 10, 'kernel': 'rbf', 'max_iter': 100, 'n_neighbors': 3}\n",
      "0.1336 (+/-0.0417) for {'alpha': 0.1, 'gamma': 10, 'kernel': 'rbf', 'max_iter': 100, 'n_neighbors': 5}\n",
      "0.1336 (+/-0.0417) for {'alpha': 0.1, 'gamma': 10, 'kernel': 'rbf', 'max_iter': 100, 'n_neighbors': 7}\n",
      "0.1336 (+/-0.0417) for {'alpha': 0.1, 'gamma': 10, 'kernel': 'rbf', 'max_iter': 100, 'n_neighbors': 11}\n",
      "0.1336 (+/-0.0417) for {'alpha': 0.1, 'gamma': 10, 'kernel': 'rbf', 'max_iter': 250, 'n_neighbors': 3}\n",
      "0.1336 (+/-0.0417) for {'alpha': 0.1, 'gamma': 10, 'kernel': 'rbf', 'max_iter': 250, 'n_neighbors': 5}\n",
      "0.1336 (+/-0.0417) for {'alpha': 0.1, 'gamma': 10, 'kernel': 'rbf', 'max_iter': 250, 'n_neighbors': 7}\n",
      "0.1336 (+/-0.0417) for {'alpha': 0.1, 'gamma': 10, 'kernel': 'rbf', 'max_iter': 250, 'n_neighbors': 11}\n",
      "0.2394 (+/-0.1086) for {'alpha': 0.1, 'gamma': 10, 'kernel': 'knn', 'max_iter': 10, 'n_neighbors': 3}\n",
      "0.2058 (+/-0.0398) for {'alpha': 0.1, 'gamma': 10, 'kernel': 'knn', 'max_iter': 10, 'n_neighbors': 5}\n",
      "0.1448 (+/-0.0763) for {'alpha': 0.1, 'gamma': 10, 'kernel': 'knn', 'max_iter': 10, 'n_neighbors': 7}\n",
      "0.0829 (+/-0.1009) for {'alpha': 0.1, 'gamma': 10, 'kernel': 'knn', 'max_iter': 10, 'n_neighbors': 11}\n",
      "0.2394 (+/-0.1086) for {'alpha': 0.1, 'gamma': 10, 'kernel': 'knn', 'max_iter': 50, 'n_neighbors': 3}\n",
      "0.2058 (+/-0.0398) for {'alpha': 0.1, 'gamma': 10, 'kernel': 'knn', 'max_iter': 50, 'n_neighbors': 5}\n",
      "0.1448 (+/-0.0763) for {'alpha': 0.1, 'gamma': 10, 'kernel': 'knn', 'max_iter': 50, 'n_neighbors': 7}\n",
      "0.0829 (+/-0.1009) for {'alpha': 0.1, 'gamma': 10, 'kernel': 'knn', 'max_iter': 50, 'n_neighbors': 11}\n",
      "0.2394 (+/-0.1086) for {'alpha': 0.1, 'gamma': 10, 'kernel': 'knn', 'max_iter': 100, 'n_neighbors': 3}\n",
      "0.2058 (+/-0.0398) for {'alpha': 0.1, 'gamma': 10, 'kernel': 'knn', 'max_iter': 100, 'n_neighbors': 5}\n",
      "0.1448 (+/-0.0763) for {'alpha': 0.1, 'gamma': 10, 'kernel': 'knn', 'max_iter': 100, 'n_neighbors': 7}\n",
      "0.0829 (+/-0.1009) for {'alpha': 0.1, 'gamma': 10, 'kernel': 'knn', 'max_iter': 100, 'n_neighbors': 11}\n",
      "0.2394 (+/-0.1086) for {'alpha': 0.1, 'gamma': 10, 'kernel': 'knn', 'max_iter': 250, 'n_neighbors': 3}\n",
      "0.2058 (+/-0.0398) for {'alpha': 0.1, 'gamma': 10, 'kernel': 'knn', 'max_iter': 250, 'n_neighbors': 5}\n",
      "0.1448 (+/-0.0763) for {'alpha': 0.1, 'gamma': 10, 'kernel': 'knn', 'max_iter': 250, 'n_neighbors': 7}\n",
      "0.0829 (+/-0.1009) for {'alpha': 0.1, 'gamma': 10, 'kernel': 'knn', 'max_iter': 250, 'n_neighbors': 11}\n",
      "0.1404 (+/-0.0498) for {'alpha': 0.1, 'gamma': 20, 'kernel': 'rbf', 'max_iter': 10, 'n_neighbors': 3}\n",
      "0.1404 (+/-0.0498) for {'alpha': 0.1, 'gamma': 20, 'kernel': 'rbf', 'max_iter': 10, 'n_neighbors': 5}\n",
      "0.1404 (+/-0.0498) for {'alpha': 0.1, 'gamma': 20, 'kernel': 'rbf', 'max_iter': 10, 'n_neighbors': 7}\n",
      "0.1404 (+/-0.0498) for {'alpha': 0.1, 'gamma': 20, 'kernel': 'rbf', 'max_iter': 10, 'n_neighbors': 11}\n",
      "0.1404 (+/-0.0498) for {'alpha': 0.1, 'gamma': 20, 'kernel': 'rbf', 'max_iter': 50, 'n_neighbors': 3}\n",
      "0.1404 (+/-0.0498) for {'alpha': 0.1, 'gamma': 20, 'kernel': 'rbf', 'max_iter': 50, 'n_neighbors': 5}\n",
      "0.1404 (+/-0.0498) for {'alpha': 0.1, 'gamma': 20, 'kernel': 'rbf', 'max_iter': 50, 'n_neighbors': 7}\n",
      "0.1404 (+/-0.0498) for {'alpha': 0.1, 'gamma': 20, 'kernel': 'rbf', 'max_iter': 50, 'n_neighbors': 11}\n",
      "0.1404 (+/-0.0498) for {'alpha': 0.1, 'gamma': 20, 'kernel': 'rbf', 'max_iter': 100, 'n_neighbors': 3}\n",
      "0.1404 (+/-0.0498) for {'alpha': 0.1, 'gamma': 20, 'kernel': 'rbf', 'max_iter': 100, 'n_neighbors': 5}\n",
      "0.1404 (+/-0.0498) for {'alpha': 0.1, 'gamma': 20, 'kernel': 'rbf', 'max_iter': 100, 'n_neighbors': 7}\n",
      "0.1404 (+/-0.0498) for {'alpha': 0.1, 'gamma': 20, 'kernel': 'rbf', 'max_iter': 100, 'n_neighbors': 11}\n",
      "0.1404 (+/-0.0498) for {'alpha': 0.1, 'gamma': 20, 'kernel': 'rbf', 'max_iter': 250, 'n_neighbors': 3}\n",
      "0.1404 (+/-0.0498) for {'alpha': 0.1, 'gamma': 20, 'kernel': 'rbf', 'max_iter': 250, 'n_neighbors': 5}\n",
      "0.1404 (+/-0.0498) for {'alpha': 0.1, 'gamma': 20, 'kernel': 'rbf', 'max_iter': 250, 'n_neighbors': 7}\n",
      "0.1404 (+/-0.0498) for {'alpha': 0.1, 'gamma': 20, 'kernel': 'rbf', 'max_iter': 250, 'n_neighbors': 11}\n",
      "0.2394 (+/-0.1086) for {'alpha': 0.1, 'gamma': 20, 'kernel': 'knn', 'max_iter': 10, 'n_neighbors': 3}\n",
      "0.2058 (+/-0.0398) for {'alpha': 0.1, 'gamma': 20, 'kernel': 'knn', 'max_iter': 10, 'n_neighbors': 5}\n",
      "0.1448 (+/-0.0763) for {'alpha': 0.1, 'gamma': 20, 'kernel': 'knn', 'max_iter': 10, 'n_neighbors': 7}\n",
      "0.0829 (+/-0.1009) for {'alpha': 0.1, 'gamma': 20, 'kernel': 'knn', 'max_iter': 10, 'n_neighbors': 11}\n",
      "0.2394 (+/-0.1086) for {'alpha': 0.1, 'gamma': 20, 'kernel': 'knn', 'max_iter': 50, 'n_neighbors': 3}\n",
      "0.2058 (+/-0.0398) for {'alpha': 0.1, 'gamma': 20, 'kernel': 'knn', 'max_iter': 50, 'n_neighbors': 5}\n",
      "0.1448 (+/-0.0763) for {'alpha': 0.1, 'gamma': 20, 'kernel': 'knn', 'max_iter': 50, 'n_neighbors': 7}\n",
      "0.0829 (+/-0.1009) for {'alpha': 0.1, 'gamma': 20, 'kernel': 'knn', 'max_iter': 50, 'n_neighbors': 11}\n",
      "0.2394 (+/-0.1086) for {'alpha': 0.1, 'gamma': 20, 'kernel': 'knn', 'max_iter': 100, 'n_neighbors': 3}\n",
      "0.2058 (+/-0.0398) for {'alpha': 0.1, 'gamma': 20, 'kernel': 'knn', 'max_iter': 100, 'n_neighbors': 5}\n",
      "0.1448 (+/-0.0763) for {'alpha': 0.1, 'gamma': 20, 'kernel': 'knn', 'max_iter': 100, 'n_neighbors': 7}\n",
      "0.0829 (+/-0.1009) for {'alpha': 0.1, 'gamma': 20, 'kernel': 'knn', 'max_iter': 100, 'n_neighbors': 11}\n",
      "0.2394 (+/-0.1086) for {'alpha': 0.1, 'gamma': 20, 'kernel': 'knn', 'max_iter': 250, 'n_neighbors': 3}\n",
      "0.2058 (+/-0.0398) for {'alpha': 0.1, 'gamma': 20, 'kernel': 'knn', 'max_iter': 250, 'n_neighbors': 5}\n",
      "0.1448 (+/-0.0763) for {'alpha': 0.1, 'gamma': 20, 'kernel': 'knn', 'max_iter': 250, 'n_neighbors': 7}\n",
      "0.0829 (+/-0.1009) for {'alpha': 0.1, 'gamma': 20, 'kernel': 'knn', 'max_iter': 250, 'n_neighbors': 11}\n",
      "0.1742 (+/-0.0607) for {'alpha': 0.1, 'gamma': 50, 'kernel': 'rbf', 'max_iter': 10, 'n_neighbors': 3}\n",
      "0.1742 (+/-0.0607) for {'alpha': 0.1, 'gamma': 50, 'kernel': 'rbf', 'max_iter': 10, 'n_neighbors': 5}\n",
      "0.1742 (+/-0.0607) for {'alpha': 0.1, 'gamma': 50, 'kernel': 'rbf', 'max_iter': 10, 'n_neighbors': 7}\n",
      "0.1742 (+/-0.0607) for {'alpha': 0.1, 'gamma': 50, 'kernel': 'rbf', 'max_iter': 10, 'n_neighbors': 11}\n",
      "0.1742 (+/-0.0607) for {'alpha': 0.1, 'gamma': 50, 'kernel': 'rbf', 'max_iter': 50, 'n_neighbors': 3}\n",
      "0.1742 (+/-0.0607) for {'alpha': 0.1, 'gamma': 50, 'kernel': 'rbf', 'max_iter': 50, 'n_neighbors': 5}\n",
      "0.1742 (+/-0.0607) for {'alpha': 0.1, 'gamma': 50, 'kernel': 'rbf', 'max_iter': 50, 'n_neighbors': 7}\n",
      "0.1742 (+/-0.0607) for {'alpha': 0.1, 'gamma': 50, 'kernel': 'rbf', 'max_iter': 50, 'n_neighbors': 11}\n",
      "0.1742 (+/-0.0607) for {'alpha': 0.1, 'gamma': 50, 'kernel': 'rbf', 'max_iter': 100, 'n_neighbors': 3}\n",
      "0.1742 (+/-0.0607) for {'alpha': 0.1, 'gamma': 50, 'kernel': 'rbf', 'max_iter': 100, 'n_neighbors': 5}\n",
      "0.1742 (+/-0.0607) for {'alpha': 0.1, 'gamma': 50, 'kernel': 'rbf', 'max_iter': 100, 'n_neighbors': 7}\n",
      "0.1742 (+/-0.0607) for {'alpha': 0.1, 'gamma': 50, 'kernel': 'rbf', 'max_iter': 100, 'n_neighbors': 11}\n",
      "0.1742 (+/-0.0607) for {'alpha': 0.1, 'gamma': 50, 'kernel': 'rbf', 'max_iter': 250, 'n_neighbors': 3}\n",
      "0.1742 (+/-0.0607) for {'alpha': 0.1, 'gamma': 50, 'kernel': 'rbf', 'max_iter': 250, 'n_neighbors': 5}\n",
      "0.1742 (+/-0.0607) for {'alpha': 0.1, 'gamma': 50, 'kernel': 'rbf', 'max_iter': 250, 'n_neighbors': 7}\n",
      "0.1742 (+/-0.0607) for {'alpha': 0.1, 'gamma': 50, 'kernel': 'rbf', 'max_iter': 250, 'n_neighbors': 11}\n",
      "0.2394 (+/-0.1086) for {'alpha': 0.1, 'gamma': 50, 'kernel': 'knn', 'max_iter': 10, 'n_neighbors': 3}\n",
      "0.2058 (+/-0.0398) for {'alpha': 0.1, 'gamma': 50, 'kernel': 'knn', 'max_iter': 10, 'n_neighbors': 5}\n",
      "0.1448 (+/-0.0763) for {'alpha': 0.1, 'gamma': 50, 'kernel': 'knn', 'max_iter': 10, 'n_neighbors': 7}\n",
      "0.0829 (+/-0.1009) for {'alpha': 0.1, 'gamma': 50, 'kernel': 'knn', 'max_iter': 10, 'n_neighbors': 11}\n",
      "0.2394 (+/-0.1086) for {'alpha': 0.1, 'gamma': 50, 'kernel': 'knn', 'max_iter': 50, 'n_neighbors': 3}\n",
      "0.2058 (+/-0.0398) for {'alpha': 0.1, 'gamma': 50, 'kernel': 'knn', 'max_iter': 50, 'n_neighbors': 5}\n",
      "0.1448 (+/-0.0763) for {'alpha': 0.1, 'gamma': 50, 'kernel': 'knn', 'max_iter': 50, 'n_neighbors': 7}\n",
      "0.0829 (+/-0.1009) for {'alpha': 0.1, 'gamma': 50, 'kernel': 'knn', 'max_iter': 50, 'n_neighbors': 11}\n",
      "0.2394 (+/-0.1086) for {'alpha': 0.1, 'gamma': 50, 'kernel': 'knn', 'max_iter': 100, 'n_neighbors': 3}\n",
      "0.2058 (+/-0.0398) for {'alpha': 0.1, 'gamma': 50, 'kernel': 'knn', 'max_iter': 100, 'n_neighbors': 5}\n",
      "0.1448 (+/-0.0763) for {'alpha': 0.1, 'gamma': 50, 'kernel': 'knn', 'max_iter': 100, 'n_neighbors': 7}\n",
      "0.0829 (+/-0.1009) for {'alpha': 0.1, 'gamma': 50, 'kernel': 'knn', 'max_iter': 100, 'n_neighbors': 11}\n",
      "0.2394 (+/-0.1086) for {'alpha': 0.1, 'gamma': 50, 'kernel': 'knn', 'max_iter': 250, 'n_neighbors': 3}\n",
      "0.2058 (+/-0.0398) for {'alpha': 0.1, 'gamma': 50, 'kernel': 'knn', 'max_iter': 250, 'n_neighbors': 5}\n",
      "0.1448 (+/-0.0763) for {'alpha': 0.1, 'gamma': 50, 'kernel': 'knn', 'max_iter': 250, 'n_neighbors': 7}\n",
      "0.0829 (+/-0.1009) for {'alpha': 0.1, 'gamma': 50, 'kernel': 'knn', 'max_iter': 250, 'n_neighbors': 11}\n",
      "0.0000 (+/-0.0000) for {'alpha': 0.2, 'gamma': 1, 'kernel': 'rbf', 'max_iter': 10, 'n_neighbors': 3}\n",
      "0.0000 (+/-0.0000) for {'alpha': 0.2, 'gamma': 1, 'kernel': 'rbf', 'max_iter': 10, 'n_neighbors': 5}\n",
      "0.0000 (+/-0.0000) for {'alpha': 0.2, 'gamma': 1, 'kernel': 'rbf', 'max_iter': 10, 'n_neighbors': 7}\n",
      "0.0000 (+/-0.0000) for {'alpha': 0.2, 'gamma': 1, 'kernel': 'rbf', 'max_iter': 10, 'n_neighbors': 11}\n",
      "0.0000 (+/-0.0000) for {'alpha': 0.2, 'gamma': 1, 'kernel': 'rbf', 'max_iter': 50, 'n_neighbors': 3}\n",
      "0.0000 (+/-0.0000) for {'alpha': 0.2, 'gamma': 1, 'kernel': 'rbf', 'max_iter': 50, 'n_neighbors': 5}\n",
      "0.0000 (+/-0.0000) for {'alpha': 0.2, 'gamma': 1, 'kernel': 'rbf', 'max_iter': 50, 'n_neighbors': 7}\n",
      "0.0000 (+/-0.0000) for {'alpha': 0.2, 'gamma': 1, 'kernel': 'rbf', 'max_iter': 50, 'n_neighbors': 11}\n",
      "0.0000 (+/-0.0000) for {'alpha': 0.2, 'gamma': 1, 'kernel': 'rbf', 'max_iter': 100, 'n_neighbors': 3}\n",
      "0.0000 (+/-0.0000) for {'alpha': 0.2, 'gamma': 1, 'kernel': 'rbf', 'max_iter': 100, 'n_neighbors': 5}\n",
      "0.0000 (+/-0.0000) for {'alpha': 0.2, 'gamma': 1, 'kernel': 'rbf', 'max_iter': 100, 'n_neighbors': 7}\n",
      "0.0000 (+/-0.0000) for {'alpha': 0.2, 'gamma': 1, 'kernel': 'rbf', 'max_iter': 100, 'n_neighbors': 11}\n",
      "0.0000 (+/-0.0000) for {'alpha': 0.2, 'gamma': 1, 'kernel': 'rbf', 'max_iter': 250, 'n_neighbors': 3}\n",
      "0.0000 (+/-0.0000) for {'alpha': 0.2, 'gamma': 1, 'kernel': 'rbf', 'max_iter': 250, 'n_neighbors': 5}\n",
      "0.0000 (+/-0.0000) for {'alpha': 0.2, 'gamma': 1, 'kernel': 'rbf', 'max_iter': 250, 'n_neighbors': 7}\n",
      "0.0000 (+/-0.0000) for {'alpha': 0.2, 'gamma': 1, 'kernel': 'rbf', 'max_iter': 250, 'n_neighbors': 11}\n",
      "0.2394 (+/-0.1086) for {'alpha': 0.2, 'gamma': 1, 'kernel': 'knn', 'max_iter': 10, 'n_neighbors': 3}\n",
      "0.1943 (+/-0.0501) for {'alpha': 0.2, 'gamma': 1, 'kernel': 'knn', 'max_iter': 10, 'n_neighbors': 5}\n",
      "0.1286 (+/-0.0215) for {'alpha': 0.2, 'gamma': 1, 'kernel': 'knn', 'max_iter': 10, 'n_neighbors': 7}\n",
      "0.0761 (+/-0.1085) for {'alpha': 0.2, 'gamma': 1, 'kernel': 'knn', 'max_iter': 10, 'n_neighbors': 11}\n",
      "0.2394 (+/-0.1086) for {'alpha': 0.2, 'gamma': 1, 'kernel': 'knn', 'max_iter': 50, 'n_neighbors': 3}\n",
      "0.1943 (+/-0.0501) for {'alpha': 0.2, 'gamma': 1, 'kernel': 'knn', 'max_iter': 50, 'n_neighbors': 5}\n",
      "0.1286 (+/-0.0215) for {'alpha': 0.2, 'gamma': 1, 'kernel': 'knn', 'max_iter': 50, 'n_neighbors': 7}\n",
      "0.0761 (+/-0.1085) for {'alpha': 0.2, 'gamma': 1, 'kernel': 'knn', 'max_iter': 50, 'n_neighbors': 11}\n",
      "0.2394 (+/-0.1086) for {'alpha': 0.2, 'gamma': 1, 'kernel': 'knn', 'max_iter': 100, 'n_neighbors': 3}\n",
      "0.1943 (+/-0.0501) for {'alpha': 0.2, 'gamma': 1, 'kernel': 'knn', 'max_iter': 100, 'n_neighbors': 5}\n",
      "0.1286 (+/-0.0215) for {'alpha': 0.2, 'gamma': 1, 'kernel': 'knn', 'max_iter': 100, 'n_neighbors': 7}\n",
      "0.0761 (+/-0.1085) for {'alpha': 0.2, 'gamma': 1, 'kernel': 'knn', 'max_iter': 100, 'n_neighbors': 11}\n",
      "0.2394 (+/-0.1086) for {'alpha': 0.2, 'gamma': 1, 'kernel': 'knn', 'max_iter': 250, 'n_neighbors': 3}\n",
      "0.1943 (+/-0.0501) for {'alpha': 0.2, 'gamma': 1, 'kernel': 'knn', 'max_iter': 250, 'n_neighbors': 5}\n",
      "0.1286 (+/-0.0215) for {'alpha': 0.2, 'gamma': 1, 'kernel': 'knn', 'max_iter': 250, 'n_neighbors': 7}\n",
      "0.0761 (+/-0.1085) for {'alpha': 0.2, 'gamma': 1, 'kernel': 'knn', 'max_iter': 250, 'n_neighbors': 11}\n",
      "0.1121 (+/-0.0320) for {'alpha': 0.2, 'gamma': 5, 'kernel': 'rbf', 'max_iter': 10, 'n_neighbors': 3}\n",
      "0.1121 (+/-0.0320) for {'alpha': 0.2, 'gamma': 5, 'kernel': 'rbf', 'max_iter': 10, 'n_neighbors': 5}\n",
      "0.1121 (+/-0.0320) for {'alpha': 0.2, 'gamma': 5, 'kernel': 'rbf', 'max_iter': 10, 'n_neighbors': 7}\n",
      "0.1121 (+/-0.0320) for {'alpha': 0.2, 'gamma': 5, 'kernel': 'rbf', 'max_iter': 10, 'n_neighbors': 11}\n",
      "0.1121 (+/-0.0320) for {'alpha': 0.2, 'gamma': 5, 'kernel': 'rbf', 'max_iter': 50, 'n_neighbors': 3}\n",
      "0.1121 (+/-0.0320) for {'alpha': 0.2, 'gamma': 5, 'kernel': 'rbf', 'max_iter': 50, 'n_neighbors': 5}\n",
      "0.1121 (+/-0.0320) for {'alpha': 0.2, 'gamma': 5, 'kernel': 'rbf', 'max_iter': 50, 'n_neighbors': 7}\n",
      "0.1121 (+/-0.0320) for {'alpha': 0.2, 'gamma': 5, 'kernel': 'rbf', 'max_iter': 50, 'n_neighbors': 11}\n",
      "0.1121 (+/-0.0320) for {'alpha': 0.2, 'gamma': 5, 'kernel': 'rbf', 'max_iter': 100, 'n_neighbors': 3}\n",
      "0.1121 (+/-0.0320) for {'alpha': 0.2, 'gamma': 5, 'kernel': 'rbf', 'max_iter': 100, 'n_neighbors': 5}\n",
      "0.1121 (+/-0.0320) for {'alpha': 0.2, 'gamma': 5, 'kernel': 'rbf', 'max_iter': 100, 'n_neighbors': 7}\n",
      "0.1121 (+/-0.0320) for {'alpha': 0.2, 'gamma': 5, 'kernel': 'rbf', 'max_iter': 100, 'n_neighbors': 11}\n",
      "0.1121 (+/-0.0320) for {'alpha': 0.2, 'gamma': 5, 'kernel': 'rbf', 'max_iter': 250, 'n_neighbors': 3}\n",
      "0.1121 (+/-0.0320) for {'alpha': 0.2, 'gamma': 5, 'kernel': 'rbf', 'max_iter': 250, 'n_neighbors': 5}\n",
      "0.1121 (+/-0.0320) for {'alpha': 0.2, 'gamma': 5, 'kernel': 'rbf', 'max_iter': 250, 'n_neighbors': 7}\n",
      "0.1121 (+/-0.0320) for {'alpha': 0.2, 'gamma': 5, 'kernel': 'rbf', 'max_iter': 250, 'n_neighbors': 11}\n",
      "0.2394 (+/-0.1086) for {'alpha': 0.2, 'gamma': 5, 'kernel': 'knn', 'max_iter': 10, 'n_neighbors': 3}\n",
      "0.1943 (+/-0.0501) for {'alpha': 0.2, 'gamma': 5, 'kernel': 'knn', 'max_iter': 10, 'n_neighbors': 5}\n",
      "0.1286 (+/-0.0215) for {'alpha': 0.2, 'gamma': 5, 'kernel': 'knn', 'max_iter': 10, 'n_neighbors': 7}\n",
      "0.0761 (+/-0.1085) for {'alpha': 0.2, 'gamma': 5, 'kernel': 'knn', 'max_iter': 10, 'n_neighbors': 11}\n",
      "0.2394 (+/-0.1086) for {'alpha': 0.2, 'gamma': 5, 'kernel': 'knn', 'max_iter': 50, 'n_neighbors': 3}\n",
      "0.1943 (+/-0.0501) for {'alpha': 0.2, 'gamma': 5, 'kernel': 'knn', 'max_iter': 50, 'n_neighbors': 5}\n",
      "0.1286 (+/-0.0215) for {'alpha': 0.2, 'gamma': 5, 'kernel': 'knn', 'max_iter': 50, 'n_neighbors': 7}\n",
      "0.0761 (+/-0.1085) for {'alpha': 0.2, 'gamma': 5, 'kernel': 'knn', 'max_iter': 50, 'n_neighbors': 11}\n",
      "0.2394 (+/-0.1086) for {'alpha': 0.2, 'gamma': 5, 'kernel': 'knn', 'max_iter': 100, 'n_neighbors': 3}\n",
      "0.1943 (+/-0.0501) for {'alpha': 0.2, 'gamma': 5, 'kernel': 'knn', 'max_iter': 100, 'n_neighbors': 5}\n",
      "0.1286 (+/-0.0215) for {'alpha': 0.2, 'gamma': 5, 'kernel': 'knn', 'max_iter': 100, 'n_neighbors': 7}\n",
      "0.0761 (+/-0.1085) for {'alpha': 0.2, 'gamma': 5, 'kernel': 'knn', 'max_iter': 100, 'n_neighbors': 11}\n",
      "0.2394 (+/-0.1086) for {'alpha': 0.2, 'gamma': 5, 'kernel': 'knn', 'max_iter': 250, 'n_neighbors': 3}\n",
      "0.1943 (+/-0.0501) for {'alpha': 0.2, 'gamma': 5, 'kernel': 'knn', 'max_iter': 250, 'n_neighbors': 5}\n",
      "0.1286 (+/-0.0215) for {'alpha': 0.2, 'gamma': 5, 'kernel': 'knn', 'max_iter': 250, 'n_neighbors': 7}\n",
      "0.0761 (+/-0.1085) for {'alpha': 0.2, 'gamma': 5, 'kernel': 'knn', 'max_iter': 250, 'n_neighbors': 11}\n",
      "0.1336 (+/-0.0417) for {'alpha': 0.2, 'gamma': 10, 'kernel': 'rbf', 'max_iter': 10, 'n_neighbors': 3}\n",
      "0.1336 (+/-0.0417) for {'alpha': 0.2, 'gamma': 10, 'kernel': 'rbf', 'max_iter': 10, 'n_neighbors': 5}\n",
      "0.1336 (+/-0.0417) for {'alpha': 0.2, 'gamma': 10, 'kernel': 'rbf', 'max_iter': 10, 'n_neighbors': 7}\n",
      "0.1336 (+/-0.0417) for {'alpha': 0.2, 'gamma': 10, 'kernel': 'rbf', 'max_iter': 10, 'n_neighbors': 11}\n",
      "0.1336 (+/-0.0417) for {'alpha': 0.2, 'gamma': 10, 'kernel': 'rbf', 'max_iter': 50, 'n_neighbors': 3}\n",
      "0.1336 (+/-0.0417) for {'alpha': 0.2, 'gamma': 10, 'kernel': 'rbf', 'max_iter': 50, 'n_neighbors': 5}\n",
      "0.1336 (+/-0.0417) for {'alpha': 0.2, 'gamma': 10, 'kernel': 'rbf', 'max_iter': 50, 'n_neighbors': 7}\n",
      "0.1336 (+/-0.0417) for {'alpha': 0.2, 'gamma': 10, 'kernel': 'rbf', 'max_iter': 50, 'n_neighbors': 11}\n",
      "0.1336 (+/-0.0417) for {'alpha': 0.2, 'gamma': 10, 'kernel': 'rbf', 'max_iter': 100, 'n_neighbors': 3}\n",
      "0.1336 (+/-0.0417) for {'alpha': 0.2, 'gamma': 10, 'kernel': 'rbf', 'max_iter': 100, 'n_neighbors': 5}\n",
      "0.1336 (+/-0.0417) for {'alpha': 0.2, 'gamma': 10, 'kernel': 'rbf', 'max_iter': 100, 'n_neighbors': 7}\n",
      "0.1336 (+/-0.0417) for {'alpha': 0.2, 'gamma': 10, 'kernel': 'rbf', 'max_iter': 100, 'n_neighbors': 11}\n",
      "0.1336 (+/-0.0417) for {'alpha': 0.2, 'gamma': 10, 'kernel': 'rbf', 'max_iter': 250, 'n_neighbors': 3}\n",
      "0.1336 (+/-0.0417) for {'alpha': 0.2, 'gamma': 10, 'kernel': 'rbf', 'max_iter': 250, 'n_neighbors': 5}\n",
      "0.1336 (+/-0.0417) for {'alpha': 0.2, 'gamma': 10, 'kernel': 'rbf', 'max_iter': 250, 'n_neighbors': 7}\n",
      "0.1336 (+/-0.0417) for {'alpha': 0.2, 'gamma': 10, 'kernel': 'rbf', 'max_iter': 250, 'n_neighbors': 11}\n",
      "0.2394 (+/-0.1086) for {'alpha': 0.2, 'gamma': 10, 'kernel': 'knn', 'max_iter': 10, 'n_neighbors': 3}\n",
      "0.1943 (+/-0.0501) for {'alpha': 0.2, 'gamma': 10, 'kernel': 'knn', 'max_iter': 10, 'n_neighbors': 5}\n",
      "0.1286 (+/-0.0215) for {'alpha': 0.2, 'gamma': 10, 'kernel': 'knn', 'max_iter': 10, 'n_neighbors': 7}\n",
      "0.0761 (+/-0.1085) for {'alpha': 0.2, 'gamma': 10, 'kernel': 'knn', 'max_iter': 10, 'n_neighbors': 11}\n",
      "0.2394 (+/-0.1086) for {'alpha': 0.2, 'gamma': 10, 'kernel': 'knn', 'max_iter': 50, 'n_neighbors': 3}\n",
      "0.1943 (+/-0.0501) for {'alpha': 0.2, 'gamma': 10, 'kernel': 'knn', 'max_iter': 50, 'n_neighbors': 5}\n",
      "0.1286 (+/-0.0215) for {'alpha': 0.2, 'gamma': 10, 'kernel': 'knn', 'max_iter': 50, 'n_neighbors': 7}\n",
      "0.0761 (+/-0.1085) for {'alpha': 0.2, 'gamma': 10, 'kernel': 'knn', 'max_iter': 50, 'n_neighbors': 11}\n",
      "0.2394 (+/-0.1086) for {'alpha': 0.2, 'gamma': 10, 'kernel': 'knn', 'max_iter': 100, 'n_neighbors': 3}\n",
      "0.1943 (+/-0.0501) for {'alpha': 0.2, 'gamma': 10, 'kernel': 'knn', 'max_iter': 100, 'n_neighbors': 5}\n",
      "0.1286 (+/-0.0215) for {'alpha': 0.2, 'gamma': 10, 'kernel': 'knn', 'max_iter': 100, 'n_neighbors': 7}\n",
      "0.0761 (+/-0.1085) for {'alpha': 0.2, 'gamma': 10, 'kernel': 'knn', 'max_iter': 100, 'n_neighbors': 11}\n",
      "0.2394 (+/-0.1086) for {'alpha': 0.2, 'gamma': 10, 'kernel': 'knn', 'max_iter': 250, 'n_neighbors': 3}\n",
      "0.1943 (+/-0.0501) for {'alpha': 0.2, 'gamma': 10, 'kernel': 'knn', 'max_iter': 250, 'n_neighbors': 5}\n",
      "0.1286 (+/-0.0215) for {'alpha': 0.2, 'gamma': 10, 'kernel': 'knn', 'max_iter': 250, 'n_neighbors': 7}\n",
      "0.0761 (+/-0.1085) for {'alpha': 0.2, 'gamma': 10, 'kernel': 'knn', 'max_iter': 250, 'n_neighbors': 11}\n",
      "0.1352 (+/-0.0420) for {'alpha': 0.2, 'gamma': 20, 'kernel': 'rbf', 'max_iter': 10, 'n_neighbors': 3}\n",
      "0.1352 (+/-0.0420) for {'alpha': 0.2, 'gamma': 20, 'kernel': 'rbf', 'max_iter': 10, 'n_neighbors': 5}\n",
      "0.1352 (+/-0.0420) for {'alpha': 0.2, 'gamma': 20, 'kernel': 'rbf', 'max_iter': 10, 'n_neighbors': 7}\n",
      "0.1352 (+/-0.0420) for {'alpha': 0.2, 'gamma': 20, 'kernel': 'rbf', 'max_iter': 10, 'n_neighbors': 11}\n",
      "0.1352 (+/-0.0420) for {'alpha': 0.2, 'gamma': 20, 'kernel': 'rbf', 'max_iter': 50, 'n_neighbors': 3}\n",
      "0.1352 (+/-0.0420) for {'alpha': 0.2, 'gamma': 20, 'kernel': 'rbf', 'max_iter': 50, 'n_neighbors': 5}\n",
      "0.1352 (+/-0.0420) for {'alpha': 0.2, 'gamma': 20, 'kernel': 'rbf', 'max_iter': 50, 'n_neighbors': 7}\n",
      "0.1352 (+/-0.0420) for {'alpha': 0.2, 'gamma': 20, 'kernel': 'rbf', 'max_iter': 50, 'n_neighbors': 11}\n",
      "0.1352 (+/-0.0420) for {'alpha': 0.2, 'gamma': 20, 'kernel': 'rbf', 'max_iter': 100, 'n_neighbors': 3}\n",
      "0.1352 (+/-0.0420) for {'alpha': 0.2, 'gamma': 20, 'kernel': 'rbf', 'max_iter': 100, 'n_neighbors': 5}\n",
      "0.1352 (+/-0.0420) for {'alpha': 0.2, 'gamma': 20, 'kernel': 'rbf', 'max_iter': 100, 'n_neighbors': 7}\n",
      "0.1352 (+/-0.0420) for {'alpha': 0.2, 'gamma': 20, 'kernel': 'rbf', 'max_iter': 100, 'n_neighbors': 11}\n",
      "0.1352 (+/-0.0420) for {'alpha': 0.2, 'gamma': 20, 'kernel': 'rbf', 'max_iter': 250, 'n_neighbors': 3}\n",
      "0.1352 (+/-0.0420) for {'alpha': 0.2, 'gamma': 20, 'kernel': 'rbf', 'max_iter': 250, 'n_neighbors': 5}\n",
      "0.1352 (+/-0.0420) for {'alpha': 0.2, 'gamma': 20, 'kernel': 'rbf', 'max_iter': 250, 'n_neighbors': 7}\n",
      "0.1352 (+/-0.0420) for {'alpha': 0.2, 'gamma': 20, 'kernel': 'rbf', 'max_iter': 250, 'n_neighbors': 11}\n",
      "0.2394 (+/-0.1086) for {'alpha': 0.2, 'gamma': 20, 'kernel': 'knn', 'max_iter': 10, 'n_neighbors': 3}\n",
      "0.1943 (+/-0.0501) for {'alpha': 0.2, 'gamma': 20, 'kernel': 'knn', 'max_iter': 10, 'n_neighbors': 5}\n",
      "0.1286 (+/-0.0215) for {'alpha': 0.2, 'gamma': 20, 'kernel': 'knn', 'max_iter': 10, 'n_neighbors': 7}\n",
      "0.0761 (+/-0.1085) for {'alpha': 0.2, 'gamma': 20, 'kernel': 'knn', 'max_iter': 10, 'n_neighbors': 11}\n",
      "0.2394 (+/-0.1086) for {'alpha': 0.2, 'gamma': 20, 'kernel': 'knn', 'max_iter': 50, 'n_neighbors': 3}\n",
      "0.1943 (+/-0.0501) for {'alpha': 0.2, 'gamma': 20, 'kernel': 'knn', 'max_iter': 50, 'n_neighbors': 5}\n",
      "0.1286 (+/-0.0215) for {'alpha': 0.2, 'gamma': 20, 'kernel': 'knn', 'max_iter': 50, 'n_neighbors': 7}\n",
      "0.0761 (+/-0.1085) for {'alpha': 0.2, 'gamma': 20, 'kernel': 'knn', 'max_iter': 50, 'n_neighbors': 11}\n",
      "0.2394 (+/-0.1086) for {'alpha': 0.2, 'gamma': 20, 'kernel': 'knn', 'max_iter': 100, 'n_neighbors': 3}\n",
      "0.1943 (+/-0.0501) for {'alpha': 0.2, 'gamma': 20, 'kernel': 'knn', 'max_iter': 100, 'n_neighbors': 5}\n",
      "0.1286 (+/-0.0215) for {'alpha': 0.2, 'gamma': 20, 'kernel': 'knn', 'max_iter': 100, 'n_neighbors': 7}\n",
      "0.0761 (+/-0.1085) for {'alpha': 0.2, 'gamma': 20, 'kernel': 'knn', 'max_iter': 100, 'n_neighbors': 11}\n",
      "0.2394 (+/-0.1086) for {'alpha': 0.2, 'gamma': 20, 'kernel': 'knn', 'max_iter': 250, 'n_neighbors': 3}\n",
      "0.1943 (+/-0.0501) for {'alpha': 0.2, 'gamma': 20, 'kernel': 'knn', 'max_iter': 250, 'n_neighbors': 5}\n",
      "0.1286 (+/-0.0215) for {'alpha': 0.2, 'gamma': 20, 'kernel': 'knn', 'max_iter': 250, 'n_neighbors': 7}\n",
      "0.0761 (+/-0.1085) for {'alpha': 0.2, 'gamma': 20, 'kernel': 'knn', 'max_iter': 250, 'n_neighbors': 11}\n",
      "0.1703 (+/-0.0656) for {'alpha': 0.2, 'gamma': 50, 'kernel': 'rbf', 'max_iter': 10, 'n_neighbors': 3}\n",
      "0.1703 (+/-0.0656) for {'alpha': 0.2, 'gamma': 50, 'kernel': 'rbf', 'max_iter': 10, 'n_neighbors': 5}\n",
      "0.1703 (+/-0.0656) for {'alpha': 0.2, 'gamma': 50, 'kernel': 'rbf', 'max_iter': 10, 'n_neighbors': 7}\n",
      "0.1703 (+/-0.0656) for {'alpha': 0.2, 'gamma': 50, 'kernel': 'rbf', 'max_iter': 10, 'n_neighbors': 11}\n",
      "0.1703 (+/-0.0656) for {'alpha': 0.2, 'gamma': 50, 'kernel': 'rbf', 'max_iter': 50, 'n_neighbors': 3}\n",
      "0.1703 (+/-0.0656) for {'alpha': 0.2, 'gamma': 50, 'kernel': 'rbf', 'max_iter': 50, 'n_neighbors': 5}\n",
      "0.1703 (+/-0.0656) for {'alpha': 0.2, 'gamma': 50, 'kernel': 'rbf', 'max_iter': 50, 'n_neighbors': 7}\n",
      "0.1703 (+/-0.0656) for {'alpha': 0.2, 'gamma': 50, 'kernel': 'rbf', 'max_iter': 50, 'n_neighbors': 11}\n",
      "0.1703 (+/-0.0656) for {'alpha': 0.2, 'gamma': 50, 'kernel': 'rbf', 'max_iter': 100, 'n_neighbors': 3}\n",
      "0.1703 (+/-0.0656) for {'alpha': 0.2, 'gamma': 50, 'kernel': 'rbf', 'max_iter': 100, 'n_neighbors': 5}\n",
      "0.1703 (+/-0.0656) for {'alpha': 0.2, 'gamma': 50, 'kernel': 'rbf', 'max_iter': 100, 'n_neighbors': 7}\n",
      "0.1703 (+/-0.0656) for {'alpha': 0.2, 'gamma': 50, 'kernel': 'rbf', 'max_iter': 100, 'n_neighbors': 11}\n",
      "0.1703 (+/-0.0656) for {'alpha': 0.2, 'gamma': 50, 'kernel': 'rbf', 'max_iter': 250, 'n_neighbors': 3}\n",
      "0.1703 (+/-0.0656) for {'alpha': 0.2, 'gamma': 50, 'kernel': 'rbf', 'max_iter': 250, 'n_neighbors': 5}\n",
      "0.1703 (+/-0.0656) for {'alpha': 0.2, 'gamma': 50, 'kernel': 'rbf', 'max_iter': 250, 'n_neighbors': 7}\n",
      "0.1703 (+/-0.0656) for {'alpha': 0.2, 'gamma': 50, 'kernel': 'rbf', 'max_iter': 250, 'n_neighbors': 11}\n",
      "0.2394 (+/-0.1086) for {'alpha': 0.2, 'gamma': 50, 'kernel': 'knn', 'max_iter': 10, 'n_neighbors': 3}\n",
      "0.1943 (+/-0.0501) for {'alpha': 0.2, 'gamma': 50, 'kernel': 'knn', 'max_iter': 10, 'n_neighbors': 5}\n",
      "0.1286 (+/-0.0215) for {'alpha': 0.2, 'gamma': 50, 'kernel': 'knn', 'max_iter': 10, 'n_neighbors': 7}\n",
      "0.0761 (+/-0.1085) for {'alpha': 0.2, 'gamma': 50, 'kernel': 'knn', 'max_iter': 10, 'n_neighbors': 11}\n",
      "0.2394 (+/-0.1086) for {'alpha': 0.2, 'gamma': 50, 'kernel': 'knn', 'max_iter': 50, 'n_neighbors': 3}\n",
      "0.1943 (+/-0.0501) for {'alpha': 0.2, 'gamma': 50, 'kernel': 'knn', 'max_iter': 50, 'n_neighbors': 5}\n",
      "0.1286 (+/-0.0215) for {'alpha': 0.2, 'gamma': 50, 'kernel': 'knn', 'max_iter': 50, 'n_neighbors': 7}\n",
      "0.0761 (+/-0.1085) for {'alpha': 0.2, 'gamma': 50, 'kernel': 'knn', 'max_iter': 50, 'n_neighbors': 11}\n",
      "0.2394 (+/-0.1086) for {'alpha': 0.2, 'gamma': 50, 'kernel': 'knn', 'max_iter': 100, 'n_neighbors': 3}\n",
      "0.1943 (+/-0.0501) for {'alpha': 0.2, 'gamma': 50, 'kernel': 'knn', 'max_iter': 100, 'n_neighbors': 5}\n",
      "0.1286 (+/-0.0215) for {'alpha': 0.2, 'gamma': 50, 'kernel': 'knn', 'max_iter': 100, 'n_neighbors': 7}\n",
      "0.0761 (+/-0.1085) for {'alpha': 0.2, 'gamma': 50, 'kernel': 'knn', 'max_iter': 100, 'n_neighbors': 11}\n",
      "0.2394 (+/-0.1086) for {'alpha': 0.2, 'gamma': 50, 'kernel': 'knn', 'max_iter': 250, 'n_neighbors': 3}\n",
      "0.1943 (+/-0.0501) for {'alpha': 0.2, 'gamma': 50, 'kernel': 'knn', 'max_iter': 250, 'n_neighbors': 5}\n",
      "0.1286 (+/-0.0215) for {'alpha': 0.2, 'gamma': 50, 'kernel': 'knn', 'max_iter': 250, 'n_neighbors': 7}\n",
      "0.0761 (+/-0.1085) for {'alpha': 0.2, 'gamma': 50, 'kernel': 'knn', 'max_iter': 250, 'n_neighbors': 11}\n",
      "0.0000 (+/-0.0000) for {'alpha': 0.5, 'gamma': 1, 'kernel': 'rbf', 'max_iter': 10, 'n_neighbors': 3}\n",
      "0.0000 (+/-0.0000) for {'alpha': 0.5, 'gamma': 1, 'kernel': 'rbf', 'max_iter': 10, 'n_neighbors': 5}\n",
      "0.0000 (+/-0.0000) for {'alpha': 0.5, 'gamma': 1, 'kernel': 'rbf', 'max_iter': 10, 'n_neighbors': 7}\n",
      "0.0000 (+/-0.0000) for {'alpha': 0.5, 'gamma': 1, 'kernel': 'rbf', 'max_iter': 10, 'n_neighbors': 11}\n",
      "0.0000 (+/-0.0000) for {'alpha': 0.5, 'gamma': 1, 'kernel': 'rbf', 'max_iter': 50, 'n_neighbors': 3}\n",
      "0.0000 (+/-0.0000) for {'alpha': 0.5, 'gamma': 1, 'kernel': 'rbf', 'max_iter': 50, 'n_neighbors': 5}\n",
      "0.0000 (+/-0.0000) for {'alpha': 0.5, 'gamma': 1, 'kernel': 'rbf', 'max_iter': 50, 'n_neighbors': 7}\n",
      "0.0000 (+/-0.0000) for {'alpha': 0.5, 'gamma': 1, 'kernel': 'rbf', 'max_iter': 50, 'n_neighbors': 11}\n",
      "0.0000 (+/-0.0000) for {'alpha': 0.5, 'gamma': 1, 'kernel': 'rbf', 'max_iter': 100, 'n_neighbors': 3}\n",
      "0.0000 (+/-0.0000) for {'alpha': 0.5, 'gamma': 1, 'kernel': 'rbf', 'max_iter': 100, 'n_neighbors': 5}\n",
      "0.0000 (+/-0.0000) for {'alpha': 0.5, 'gamma': 1, 'kernel': 'rbf', 'max_iter': 100, 'n_neighbors': 7}\n",
      "0.0000 (+/-0.0000) for {'alpha': 0.5, 'gamma': 1, 'kernel': 'rbf', 'max_iter': 100, 'n_neighbors': 11}\n",
      "0.0000 (+/-0.0000) for {'alpha': 0.5, 'gamma': 1, 'kernel': 'rbf', 'max_iter': 250, 'n_neighbors': 3}\n",
      "0.0000 (+/-0.0000) for {'alpha': 0.5, 'gamma': 1, 'kernel': 'rbf', 'max_iter': 250, 'n_neighbors': 5}\n",
      "0.0000 (+/-0.0000) for {'alpha': 0.5, 'gamma': 1, 'kernel': 'rbf', 'max_iter': 250, 'n_neighbors': 7}\n",
      "0.0000 (+/-0.0000) for {'alpha': 0.5, 'gamma': 1, 'kernel': 'rbf', 'max_iter': 250, 'n_neighbors': 11}\n",
      "0.2106 (+/-0.0890) for {'alpha': 0.5, 'gamma': 1, 'kernel': 'knn', 'max_iter': 10, 'n_neighbors': 3}\n",
      "0.1479 (+/-0.0709) for {'alpha': 0.5, 'gamma': 1, 'kernel': 'knn', 'max_iter': 10, 'n_neighbors': 5}\n",
      "0.1106 (+/-0.0466) for {'alpha': 0.5, 'gamma': 1, 'kernel': 'knn', 'max_iter': 10, 'n_neighbors': 7}\n",
      "0.0355 (+/-0.0900) for {'alpha': 0.5, 'gamma': 1, 'kernel': 'knn', 'max_iter': 10, 'n_neighbors': 11}\n",
      "0.2106 (+/-0.0890) for {'alpha': 0.5, 'gamma': 1, 'kernel': 'knn', 'max_iter': 50, 'n_neighbors': 3}\n",
      "0.1479 (+/-0.0709) for {'alpha': 0.5, 'gamma': 1, 'kernel': 'knn', 'max_iter': 50, 'n_neighbors': 5}\n",
      "0.1106 (+/-0.0466) for {'alpha': 0.5, 'gamma': 1, 'kernel': 'knn', 'max_iter': 50, 'n_neighbors': 7}\n",
      "0.0355 (+/-0.0900) for {'alpha': 0.5, 'gamma': 1, 'kernel': 'knn', 'max_iter': 50, 'n_neighbors': 11}\n",
      "0.2106 (+/-0.0890) for {'alpha': 0.5, 'gamma': 1, 'kernel': 'knn', 'max_iter': 100, 'n_neighbors': 3}\n",
      "0.1479 (+/-0.0709) for {'alpha': 0.5, 'gamma': 1, 'kernel': 'knn', 'max_iter': 100, 'n_neighbors': 5}\n",
      "0.1106 (+/-0.0466) for {'alpha': 0.5, 'gamma': 1, 'kernel': 'knn', 'max_iter': 100, 'n_neighbors': 7}\n",
      "0.0355 (+/-0.0900) for {'alpha': 0.5, 'gamma': 1, 'kernel': 'knn', 'max_iter': 100, 'n_neighbors': 11}\n",
      "0.2106 (+/-0.0890) for {'alpha': 0.5, 'gamma': 1, 'kernel': 'knn', 'max_iter': 250, 'n_neighbors': 3}\n",
      "0.1479 (+/-0.0709) for {'alpha': 0.5, 'gamma': 1, 'kernel': 'knn', 'max_iter': 250, 'n_neighbors': 5}\n",
      "0.1106 (+/-0.0466) for {'alpha': 0.5, 'gamma': 1, 'kernel': 'knn', 'max_iter': 250, 'n_neighbors': 7}\n",
      "0.0355 (+/-0.0900) for {'alpha': 0.5, 'gamma': 1, 'kernel': 'knn', 'max_iter': 250, 'n_neighbors': 11}\n",
      "0.0910 (+/-0.0534) for {'alpha': 0.5, 'gamma': 5, 'kernel': 'rbf', 'max_iter': 10, 'n_neighbors': 3}\n",
      "0.0910 (+/-0.0534) for {'alpha': 0.5, 'gamma': 5, 'kernel': 'rbf', 'max_iter': 10, 'n_neighbors': 5}\n",
      "0.0910 (+/-0.0534) for {'alpha': 0.5, 'gamma': 5, 'kernel': 'rbf', 'max_iter': 10, 'n_neighbors': 7}\n",
      "0.0910 (+/-0.0534) for {'alpha': 0.5, 'gamma': 5, 'kernel': 'rbf', 'max_iter': 10, 'n_neighbors': 11}\n",
      "0.0910 (+/-0.0534) for {'alpha': 0.5, 'gamma': 5, 'kernel': 'rbf', 'max_iter': 50, 'n_neighbors': 3}\n",
      "0.0910 (+/-0.0534) for {'alpha': 0.5, 'gamma': 5, 'kernel': 'rbf', 'max_iter': 50, 'n_neighbors': 5}\n",
      "0.0910 (+/-0.0534) for {'alpha': 0.5, 'gamma': 5, 'kernel': 'rbf', 'max_iter': 50, 'n_neighbors': 7}\n",
      "0.0910 (+/-0.0534) for {'alpha': 0.5, 'gamma': 5, 'kernel': 'rbf', 'max_iter': 50, 'n_neighbors': 11}\n",
      "0.0910 (+/-0.0534) for {'alpha': 0.5, 'gamma': 5, 'kernel': 'rbf', 'max_iter': 100, 'n_neighbors': 3}\n",
      "0.0910 (+/-0.0534) for {'alpha': 0.5, 'gamma': 5, 'kernel': 'rbf', 'max_iter': 100, 'n_neighbors': 5}\n",
      "0.0910 (+/-0.0534) for {'alpha': 0.5, 'gamma': 5, 'kernel': 'rbf', 'max_iter': 100, 'n_neighbors': 7}\n",
      "0.0910 (+/-0.0534) for {'alpha': 0.5, 'gamma': 5, 'kernel': 'rbf', 'max_iter': 100, 'n_neighbors': 11}\n",
      "0.0910 (+/-0.0534) for {'alpha': 0.5, 'gamma': 5, 'kernel': 'rbf', 'max_iter': 250, 'n_neighbors': 3}\n",
      "0.0910 (+/-0.0534) for {'alpha': 0.5, 'gamma': 5, 'kernel': 'rbf', 'max_iter': 250, 'n_neighbors': 5}\n",
      "0.0910 (+/-0.0534) for {'alpha': 0.5, 'gamma': 5, 'kernel': 'rbf', 'max_iter': 250, 'n_neighbors': 7}\n",
      "0.0910 (+/-0.0534) for {'alpha': 0.5, 'gamma': 5, 'kernel': 'rbf', 'max_iter': 250, 'n_neighbors': 11}\n",
      "0.2106 (+/-0.0890) for {'alpha': 0.5, 'gamma': 5, 'kernel': 'knn', 'max_iter': 10, 'n_neighbors': 3}\n",
      "0.1479 (+/-0.0709) for {'alpha': 0.5, 'gamma': 5, 'kernel': 'knn', 'max_iter': 10, 'n_neighbors': 5}\n",
      "0.1106 (+/-0.0466) for {'alpha': 0.5, 'gamma': 5, 'kernel': 'knn', 'max_iter': 10, 'n_neighbors': 7}\n",
      "0.0355 (+/-0.0900) for {'alpha': 0.5, 'gamma': 5, 'kernel': 'knn', 'max_iter': 10, 'n_neighbors': 11}\n",
      "0.2106 (+/-0.0890) for {'alpha': 0.5, 'gamma': 5, 'kernel': 'knn', 'max_iter': 50, 'n_neighbors': 3}\n",
      "0.1479 (+/-0.0709) for {'alpha': 0.5, 'gamma': 5, 'kernel': 'knn', 'max_iter': 50, 'n_neighbors': 5}\n",
      "0.1106 (+/-0.0466) for {'alpha': 0.5, 'gamma': 5, 'kernel': 'knn', 'max_iter': 50, 'n_neighbors': 7}\n",
      "0.0355 (+/-0.0900) for {'alpha': 0.5, 'gamma': 5, 'kernel': 'knn', 'max_iter': 50, 'n_neighbors': 11}\n",
      "0.2106 (+/-0.0890) for {'alpha': 0.5, 'gamma': 5, 'kernel': 'knn', 'max_iter': 100, 'n_neighbors': 3}\n",
      "0.1479 (+/-0.0709) for {'alpha': 0.5, 'gamma': 5, 'kernel': 'knn', 'max_iter': 100, 'n_neighbors': 5}\n",
      "0.1106 (+/-0.0466) for {'alpha': 0.5, 'gamma': 5, 'kernel': 'knn', 'max_iter': 100, 'n_neighbors': 7}\n",
      "0.0355 (+/-0.0900) for {'alpha': 0.5, 'gamma': 5, 'kernel': 'knn', 'max_iter': 100, 'n_neighbors': 11}\n",
      "0.2106 (+/-0.0890) for {'alpha': 0.5, 'gamma': 5, 'kernel': 'knn', 'max_iter': 250, 'n_neighbors': 3}\n",
      "0.1479 (+/-0.0709) for {'alpha': 0.5, 'gamma': 5, 'kernel': 'knn', 'max_iter': 250, 'n_neighbors': 5}\n",
      "0.1106 (+/-0.0466) for {'alpha': 0.5, 'gamma': 5, 'kernel': 'knn', 'max_iter': 250, 'n_neighbors': 7}\n",
      "0.0355 (+/-0.0900) for {'alpha': 0.5, 'gamma': 5, 'kernel': 'knn', 'max_iter': 250, 'n_neighbors': 11}\n",
      "0.1191 (+/-0.0523) for {'alpha': 0.5, 'gamma': 10, 'kernel': 'rbf', 'max_iter': 10, 'n_neighbors': 3}\n",
      "0.1191 (+/-0.0523) for {'alpha': 0.5, 'gamma': 10, 'kernel': 'rbf', 'max_iter': 10, 'n_neighbors': 5}\n",
      "0.1191 (+/-0.0523) for {'alpha': 0.5, 'gamma': 10, 'kernel': 'rbf', 'max_iter': 10, 'n_neighbors': 7}\n",
      "0.1191 (+/-0.0523) for {'alpha': 0.5, 'gamma': 10, 'kernel': 'rbf', 'max_iter': 10, 'n_neighbors': 11}\n",
      "0.1191 (+/-0.0523) for {'alpha': 0.5, 'gamma': 10, 'kernel': 'rbf', 'max_iter': 50, 'n_neighbors': 3}\n",
      "0.1191 (+/-0.0523) for {'alpha': 0.5, 'gamma': 10, 'kernel': 'rbf', 'max_iter': 50, 'n_neighbors': 5}\n",
      "0.1191 (+/-0.0523) for {'alpha': 0.5, 'gamma': 10, 'kernel': 'rbf', 'max_iter': 50, 'n_neighbors': 7}\n",
      "0.1191 (+/-0.0523) for {'alpha': 0.5, 'gamma': 10, 'kernel': 'rbf', 'max_iter': 50, 'n_neighbors': 11}\n",
      "0.1191 (+/-0.0523) for {'alpha': 0.5, 'gamma': 10, 'kernel': 'rbf', 'max_iter': 100, 'n_neighbors': 3}\n",
      "0.1191 (+/-0.0523) for {'alpha': 0.5, 'gamma': 10, 'kernel': 'rbf', 'max_iter': 100, 'n_neighbors': 5}\n",
      "0.1191 (+/-0.0523) for {'alpha': 0.5, 'gamma': 10, 'kernel': 'rbf', 'max_iter': 100, 'n_neighbors': 7}\n",
      "0.1191 (+/-0.0523) for {'alpha': 0.5, 'gamma': 10, 'kernel': 'rbf', 'max_iter': 100, 'n_neighbors': 11}\n",
      "0.1191 (+/-0.0523) for {'alpha': 0.5, 'gamma': 10, 'kernel': 'rbf', 'max_iter': 250, 'n_neighbors': 3}\n",
      "0.1191 (+/-0.0523) for {'alpha': 0.5, 'gamma': 10, 'kernel': 'rbf', 'max_iter': 250, 'n_neighbors': 5}\n",
      "0.1191 (+/-0.0523) for {'alpha': 0.5, 'gamma': 10, 'kernel': 'rbf', 'max_iter': 250, 'n_neighbors': 7}\n",
      "0.1191 (+/-0.0523) for {'alpha': 0.5, 'gamma': 10, 'kernel': 'rbf', 'max_iter': 250, 'n_neighbors': 11}\n",
      "0.2106 (+/-0.0890) for {'alpha': 0.5, 'gamma': 10, 'kernel': 'knn', 'max_iter': 10, 'n_neighbors': 3}\n",
      "0.1479 (+/-0.0709) for {'alpha': 0.5, 'gamma': 10, 'kernel': 'knn', 'max_iter': 10, 'n_neighbors': 5}\n",
      "0.1106 (+/-0.0466) for {'alpha': 0.5, 'gamma': 10, 'kernel': 'knn', 'max_iter': 10, 'n_neighbors': 7}\n",
      "0.0355 (+/-0.0900) for {'alpha': 0.5, 'gamma': 10, 'kernel': 'knn', 'max_iter': 10, 'n_neighbors': 11}\n",
      "0.2106 (+/-0.0890) for {'alpha': 0.5, 'gamma': 10, 'kernel': 'knn', 'max_iter': 50, 'n_neighbors': 3}\n",
      "0.1479 (+/-0.0709) for {'alpha': 0.5, 'gamma': 10, 'kernel': 'knn', 'max_iter': 50, 'n_neighbors': 5}\n",
      "0.1106 (+/-0.0466) for {'alpha': 0.5, 'gamma': 10, 'kernel': 'knn', 'max_iter': 50, 'n_neighbors': 7}\n",
      "0.0355 (+/-0.0900) for {'alpha': 0.5, 'gamma': 10, 'kernel': 'knn', 'max_iter': 50, 'n_neighbors': 11}\n",
      "0.2106 (+/-0.0890) for {'alpha': 0.5, 'gamma': 10, 'kernel': 'knn', 'max_iter': 100, 'n_neighbors': 3}\n",
      "0.1479 (+/-0.0709) for {'alpha': 0.5, 'gamma': 10, 'kernel': 'knn', 'max_iter': 100, 'n_neighbors': 5}\n",
      "0.1106 (+/-0.0466) for {'alpha': 0.5, 'gamma': 10, 'kernel': 'knn', 'max_iter': 100, 'n_neighbors': 7}\n",
      "0.0355 (+/-0.0900) for {'alpha': 0.5, 'gamma': 10, 'kernel': 'knn', 'max_iter': 100, 'n_neighbors': 11}\n",
      "0.2106 (+/-0.0890) for {'alpha': 0.5, 'gamma': 10, 'kernel': 'knn', 'max_iter': 250, 'n_neighbors': 3}\n",
      "0.1479 (+/-0.0709) for {'alpha': 0.5, 'gamma': 10, 'kernel': 'knn', 'max_iter': 250, 'n_neighbors': 5}\n",
      "0.1106 (+/-0.0466) for {'alpha': 0.5, 'gamma': 10, 'kernel': 'knn', 'max_iter': 250, 'n_neighbors': 7}\n",
      "0.0355 (+/-0.0900) for {'alpha': 0.5, 'gamma': 10, 'kernel': 'knn', 'max_iter': 250, 'n_neighbors': 11}\n",
      "0.1324 (+/-0.0411) for {'alpha': 0.5, 'gamma': 20, 'kernel': 'rbf', 'max_iter': 10, 'n_neighbors': 3}\n",
      "0.1324 (+/-0.0411) for {'alpha': 0.5, 'gamma': 20, 'kernel': 'rbf', 'max_iter': 10, 'n_neighbors': 5}\n",
      "0.1324 (+/-0.0411) for {'alpha': 0.5, 'gamma': 20, 'kernel': 'rbf', 'max_iter': 10, 'n_neighbors': 7}\n",
      "0.1324 (+/-0.0411) for {'alpha': 0.5, 'gamma': 20, 'kernel': 'rbf', 'max_iter': 10, 'n_neighbors': 11}\n",
      "0.1324 (+/-0.0411) for {'alpha': 0.5, 'gamma': 20, 'kernel': 'rbf', 'max_iter': 50, 'n_neighbors': 3}\n",
      "0.1324 (+/-0.0411) for {'alpha': 0.5, 'gamma': 20, 'kernel': 'rbf', 'max_iter': 50, 'n_neighbors': 5}\n",
      "0.1324 (+/-0.0411) for {'alpha': 0.5, 'gamma': 20, 'kernel': 'rbf', 'max_iter': 50, 'n_neighbors': 7}\n",
      "0.1324 (+/-0.0411) for {'alpha': 0.5, 'gamma': 20, 'kernel': 'rbf', 'max_iter': 50, 'n_neighbors': 11}\n",
      "0.1324 (+/-0.0411) for {'alpha': 0.5, 'gamma': 20, 'kernel': 'rbf', 'max_iter': 100, 'n_neighbors': 3}\n",
      "0.1324 (+/-0.0411) for {'alpha': 0.5, 'gamma': 20, 'kernel': 'rbf', 'max_iter': 100, 'n_neighbors': 5}\n",
      "0.1324 (+/-0.0411) for {'alpha': 0.5, 'gamma': 20, 'kernel': 'rbf', 'max_iter': 100, 'n_neighbors': 7}\n",
      "0.1324 (+/-0.0411) for {'alpha': 0.5, 'gamma': 20, 'kernel': 'rbf', 'max_iter': 100, 'n_neighbors': 11}\n",
      "0.1324 (+/-0.0411) for {'alpha': 0.5, 'gamma': 20, 'kernel': 'rbf', 'max_iter': 250, 'n_neighbors': 3}\n",
      "0.1324 (+/-0.0411) for {'alpha': 0.5, 'gamma': 20, 'kernel': 'rbf', 'max_iter': 250, 'n_neighbors': 5}\n",
      "0.1324 (+/-0.0411) for {'alpha': 0.5, 'gamma': 20, 'kernel': 'rbf', 'max_iter': 250, 'n_neighbors': 7}\n",
      "0.1324 (+/-0.0411) for {'alpha': 0.5, 'gamma': 20, 'kernel': 'rbf', 'max_iter': 250, 'n_neighbors': 11}\n",
      "0.2106 (+/-0.0890) for {'alpha': 0.5, 'gamma': 20, 'kernel': 'knn', 'max_iter': 10, 'n_neighbors': 3}\n",
      "0.1479 (+/-0.0709) for {'alpha': 0.5, 'gamma': 20, 'kernel': 'knn', 'max_iter': 10, 'n_neighbors': 5}\n",
      "0.1106 (+/-0.0466) for {'alpha': 0.5, 'gamma': 20, 'kernel': 'knn', 'max_iter': 10, 'n_neighbors': 7}\n",
      "0.0355 (+/-0.0900) for {'alpha': 0.5, 'gamma': 20, 'kernel': 'knn', 'max_iter': 10, 'n_neighbors': 11}\n",
      "0.2106 (+/-0.0890) for {'alpha': 0.5, 'gamma': 20, 'kernel': 'knn', 'max_iter': 50, 'n_neighbors': 3}\n",
      "0.1479 (+/-0.0709) for {'alpha': 0.5, 'gamma': 20, 'kernel': 'knn', 'max_iter': 50, 'n_neighbors': 5}\n",
      "0.1106 (+/-0.0466) for {'alpha': 0.5, 'gamma': 20, 'kernel': 'knn', 'max_iter': 50, 'n_neighbors': 7}\n",
      "0.0355 (+/-0.0900) for {'alpha': 0.5, 'gamma': 20, 'kernel': 'knn', 'max_iter': 50, 'n_neighbors': 11}\n",
      "0.2106 (+/-0.0890) for {'alpha': 0.5, 'gamma': 20, 'kernel': 'knn', 'max_iter': 100, 'n_neighbors': 3}\n",
      "0.1479 (+/-0.0709) for {'alpha': 0.5, 'gamma': 20, 'kernel': 'knn', 'max_iter': 100, 'n_neighbors': 5}\n",
      "0.1106 (+/-0.0466) for {'alpha': 0.5, 'gamma': 20, 'kernel': 'knn', 'max_iter': 100, 'n_neighbors': 7}\n",
      "0.0355 (+/-0.0900) for {'alpha': 0.5, 'gamma': 20, 'kernel': 'knn', 'max_iter': 100, 'n_neighbors': 11}\n",
      "0.2106 (+/-0.0890) for {'alpha': 0.5, 'gamma': 20, 'kernel': 'knn', 'max_iter': 250, 'n_neighbors': 3}\n",
      "0.1479 (+/-0.0709) for {'alpha': 0.5, 'gamma': 20, 'kernel': 'knn', 'max_iter': 250, 'n_neighbors': 5}\n",
      "0.1106 (+/-0.0466) for {'alpha': 0.5, 'gamma': 20, 'kernel': 'knn', 'max_iter': 250, 'n_neighbors': 7}\n",
      "0.0355 (+/-0.0900) for {'alpha': 0.5, 'gamma': 20, 'kernel': 'knn', 'max_iter': 250, 'n_neighbors': 11}\n",
      "0.1673 (+/-0.0601) for {'alpha': 0.5, 'gamma': 50, 'kernel': 'rbf', 'max_iter': 10, 'n_neighbors': 3}\n",
      "0.1673 (+/-0.0601) for {'alpha': 0.5, 'gamma': 50, 'kernel': 'rbf', 'max_iter': 10, 'n_neighbors': 5}\n",
      "0.1673 (+/-0.0601) for {'alpha': 0.5, 'gamma': 50, 'kernel': 'rbf', 'max_iter': 10, 'n_neighbors': 7}\n",
      "0.1673 (+/-0.0601) for {'alpha': 0.5, 'gamma': 50, 'kernel': 'rbf', 'max_iter': 10, 'n_neighbors': 11}\n",
      "0.1673 (+/-0.0601) for {'alpha': 0.5, 'gamma': 50, 'kernel': 'rbf', 'max_iter': 50, 'n_neighbors': 3}\n",
      "0.1673 (+/-0.0601) for {'alpha': 0.5, 'gamma': 50, 'kernel': 'rbf', 'max_iter': 50, 'n_neighbors': 5}\n",
      "0.1673 (+/-0.0601) for {'alpha': 0.5, 'gamma': 50, 'kernel': 'rbf', 'max_iter': 50, 'n_neighbors': 7}\n",
      "0.1673 (+/-0.0601) for {'alpha': 0.5, 'gamma': 50, 'kernel': 'rbf', 'max_iter': 50, 'n_neighbors': 11}\n",
      "0.1673 (+/-0.0601) for {'alpha': 0.5, 'gamma': 50, 'kernel': 'rbf', 'max_iter': 100, 'n_neighbors': 3}\n",
      "0.1673 (+/-0.0601) for {'alpha': 0.5, 'gamma': 50, 'kernel': 'rbf', 'max_iter': 100, 'n_neighbors': 5}\n",
      "0.1673 (+/-0.0601) for {'alpha': 0.5, 'gamma': 50, 'kernel': 'rbf', 'max_iter': 100, 'n_neighbors': 7}\n",
      "0.1673 (+/-0.0601) for {'alpha': 0.5, 'gamma': 50, 'kernel': 'rbf', 'max_iter': 100, 'n_neighbors': 11}\n",
      "0.1673 (+/-0.0601) for {'alpha': 0.5, 'gamma': 50, 'kernel': 'rbf', 'max_iter': 250, 'n_neighbors': 3}\n",
      "0.1673 (+/-0.0601) for {'alpha': 0.5, 'gamma': 50, 'kernel': 'rbf', 'max_iter': 250, 'n_neighbors': 5}\n",
      "0.1673 (+/-0.0601) for {'alpha': 0.5, 'gamma': 50, 'kernel': 'rbf', 'max_iter': 250, 'n_neighbors': 7}\n",
      "0.1673 (+/-0.0601) for {'alpha': 0.5, 'gamma': 50, 'kernel': 'rbf', 'max_iter': 250, 'n_neighbors': 11}\n",
      "0.2106 (+/-0.0890) for {'alpha': 0.5, 'gamma': 50, 'kernel': 'knn', 'max_iter': 10, 'n_neighbors': 3}\n",
      "0.1479 (+/-0.0709) for {'alpha': 0.5, 'gamma': 50, 'kernel': 'knn', 'max_iter': 10, 'n_neighbors': 5}\n",
      "0.1106 (+/-0.0466) for {'alpha': 0.5, 'gamma': 50, 'kernel': 'knn', 'max_iter': 10, 'n_neighbors': 7}\n",
      "0.0355 (+/-0.0900) for {'alpha': 0.5, 'gamma': 50, 'kernel': 'knn', 'max_iter': 10, 'n_neighbors': 11}\n",
      "0.2106 (+/-0.0890) for {'alpha': 0.5, 'gamma': 50, 'kernel': 'knn', 'max_iter': 50, 'n_neighbors': 3}\n",
      "0.1479 (+/-0.0709) for {'alpha': 0.5, 'gamma': 50, 'kernel': 'knn', 'max_iter': 50, 'n_neighbors': 5}\n",
      "0.1106 (+/-0.0466) for {'alpha': 0.5, 'gamma': 50, 'kernel': 'knn', 'max_iter': 50, 'n_neighbors': 7}\n",
      "0.0355 (+/-0.0900) for {'alpha': 0.5, 'gamma': 50, 'kernel': 'knn', 'max_iter': 50, 'n_neighbors': 11}\n",
      "0.2106 (+/-0.0890) for {'alpha': 0.5, 'gamma': 50, 'kernel': 'knn', 'max_iter': 100, 'n_neighbors': 3}\n",
      "0.1479 (+/-0.0709) for {'alpha': 0.5, 'gamma': 50, 'kernel': 'knn', 'max_iter': 100, 'n_neighbors': 5}\n",
      "0.1106 (+/-0.0466) for {'alpha': 0.5, 'gamma': 50, 'kernel': 'knn', 'max_iter': 100, 'n_neighbors': 7}\n",
      "0.0355 (+/-0.0900) for {'alpha': 0.5, 'gamma': 50, 'kernel': 'knn', 'max_iter': 100, 'n_neighbors': 11}\n",
      "0.2106 (+/-0.0890) for {'alpha': 0.5, 'gamma': 50, 'kernel': 'knn', 'max_iter': 250, 'n_neighbors': 3}\n",
      "0.1479 (+/-0.0709) for {'alpha': 0.5, 'gamma': 50, 'kernel': 'knn', 'max_iter': 250, 'n_neighbors': 5}\n",
      "0.1106 (+/-0.0466) for {'alpha': 0.5, 'gamma': 50, 'kernel': 'knn', 'max_iter': 250, 'n_neighbors': 7}\n",
      "0.0355 (+/-0.0900) for {'alpha': 0.5, 'gamma': 50, 'kernel': 'knn', 'max_iter': 250, 'n_neighbors': 11}\n",
      "Best Label Spreading Model\n",
      "{'alpha': 0.05, 'gamma': 1, 'kernel': 'knn', 'max_iter': 10, 'n_neighbors': 3}\n",
      "0.23936556274584442\n"
     ]
    }
   ],
   "source": [
    "#Grid-Search for LabelSpreading:\n",
    "from sklearn.model_selection import GridSearchCV\n",
    "from sklearn.semi_supervised import LabelSpreading\n",
    "\n",
    "tuned_parameters = [{'n_neighbors':[3,5,7,11], 'gamma':[1,5,10,20,50], 'kernel': ['rbf', 'knn'],\n",
    "              'alpha': [0.05, 0.1, 0.2, 0.5], 'max_iter': [10, 50, 100, 250]}]\n",
    "\n",
    "clf = GridSearchCV(LabelSpreading(kernel='knn'), tuned_parameters, scoring='f1')\n",
    "clf.fit(X_train[1:1601],y_train[1:1601])\n",
    "\n",
    "means = clf.cv_results_['mean_test_score']\n",
    "stds = clf.cv_results_['std_test_score']\n",
    "for mean, std, params in zip(means, stds, clf.cv_results_['params']):\n",
    "  print(\"%0.4f (+/-%0.04f) for %r\" % (mean, std * 2, params))\n",
    "\n",
    "print('Best Label Spreading Model')\n",
    "print(clf.best_params_)\n",
    "print(clf.best_score_)"
   ]
  },
  {
   "cell_type": "code",
   "execution_count": 31,
   "metadata": {
    "colab": {
     "base_uri": "https://localhost:8080/"
    },
    "executionInfo": {
     "elapsed": 1419,
     "status": "ok",
     "timestamp": 1627123547259,
     "user": {
      "displayName": "Salman",
      "photoUrl": "",
      "userId": "12336350671635365797"
     },
     "user_tz": -60
    },
    "id": "UFhzi17l2_u-",
    "outputId": "b838b395-e3cc-45f4-a8b7-3fcb2447bbce"
   },
   "outputs": [
    {
     "name": "stdout",
     "output_type": "stream",
     "text": [
      "              precision    recall  f1-score   support\n",
      "\n",
      "           0       0.92      0.95      0.93      1896\n",
      "           1       0.24      0.15      0.18       195\n",
      "\n",
      "    accuracy                           0.88      2091\n",
      "   macro avg       0.58      0.55      0.56      2091\n",
      "weighted avg       0.85      0.88      0.86      2091\n",
      "\n",
      "Accuracy = 0.8766140602582496, Precision = 0.2396694214876033, Recall = 0.14871794871794872, F1-score = 0.18354430379746836\n",
      "Confusion Matrix is:\n",
      "[[1804   92]\n",
      " [ 166   29]]\n"
     ]
    }
   ],
   "source": [
    "#Train Data -  Labeled Train + Unlabeled Train\n",
    "from sklearn.metrics import classification_report\n",
    "from sklearn.metrics import confusion_matrix\n",
    "from sklearn.metrics import accuracy_score as accuracy\n",
    "from sklearn.metrics import recall_score as recall\n",
    "from sklearn.metrics import precision_score as precision\n",
    "from sklearn.metrics import f1_score\n",
    "\n",
    "lp_model = LabelSpreading(kernel='knn',alpha=.01, n_neighbors=3)\n",
    "lp_model.fit(X_train,y_train)\n",
    "\n",
    "\n",
    "## Results on Test Set\n",
    "y_pred = lp_model.predict(X_test)\n",
    "y_true = y_test \n",
    "print(classification_report(y_true, y_pred))\n",
    "\n",
    "cmlog = confusion_matrix(y_test, y_pred)\n",
    "acc   = accuracy(y_test, y_pred)\n",
    "rec   = recall(y_test, y_pred)\n",
    "prec  = precision(y_test, y_pred)\n",
    "f1    = f1_score(y_test, y_pred)\n",
    "\n",
    "# Print the metrics, display the confusion matrix, and visualize the model\n",
    "print(f'Accuracy = {acc}, Precision = {prec}, Recall = {rec}, F1-score = {f1}')\n",
    "print('Confusion Matrix is:')\n",
    "print(cmlog)"
   ]
  },
  {
   "cell_type": "code",
   "execution_count": 32,
   "metadata": {
    "colab": {
     "base_uri": "https://localhost:8080/"
    },
    "executionInfo": {
     "elapsed": 542,
     "status": "ok",
     "timestamp": 1627123549746,
     "user": {
      "displayName": "Salman",
      "photoUrl": "",
      "userId": "12336350671635365797"
     },
     "user_tz": -60
    },
    "id": "j7IzOxzM7333",
    "outputId": "fbc1d198-c493-4fdd-f505-e9e3e1477785"
   },
   "outputs": [
    {
     "name": "stdout",
     "output_type": "stream",
     "text": [
      "              precision    recall  f1-score   support\n",
      "\n",
      "           0       0.92      0.96      0.94      1896\n",
      "           1       0.31      0.18      0.23       195\n",
      "\n",
      "    accuracy                           0.89      2091\n",
      "   macro avg       0.61      0.57      0.58      2091\n",
      "weighted avg       0.86      0.89      0.87      2091\n",
      "\n",
      "Accuracy = 0.8852223816355811, Precision = 0.3076923076923077, Recall = 0.18461538461538463, F1-score = 0.23076923076923078\n",
      "Confusion Matrix is:\n",
      "[[1815   81]\n",
      " [ 159   36]]\n"
     ]
    }
   ],
   "source": [
    "#Train Data -  Labeled Train Only\n",
    "from sklearn.metrics import classification_report\n",
    "from sklearn.metrics import confusion_matrix\n",
    "from sklearn.metrics import accuracy_score as accuracy\n",
    "from sklearn.metrics import recall_score as recall\n",
    "from sklearn.metrics import precision_score as precision\n",
    "from sklearn.metrics import f1_score\n",
    "\n",
    "lp_model = LabelSpreading(kernel='knn',alpha=.01, n_neighbors=3)\n",
    "lp_model.fit(X_train[1:1601],y_train[1:1601])\n",
    "\n",
    "\n",
    "## Results on Test Set\n",
    "y_pred = lp_model.predict(X_test)\n",
    "y_true = y_test \n",
    "print(classification_report(y_true, y_pred))\n",
    "\n",
    "cmlog = confusion_matrix(y_test, y_pred)\n",
    "acc   = accuracy(y_test, y_pred)\n",
    "rec   = recall(y_test, y_pred)\n",
    "prec  = precision(y_test, y_pred)\n",
    "f1    = f1_score(y_test, y_pred)\n",
    "\n",
    "# Print the metrics, display the confusion matrix, and visualize the model\n",
    "print(f'Accuracy = {acc}, Precision = {prec}, Recall = {rec}, F1-score = {f1}')\n",
    "print('Confusion Matrix is:')\n",
    "print(cmlog)"
   ]
  },
  {
   "cell_type": "code",
   "execution_count": 33,
   "metadata": {
    "colab": {
     "base_uri": "https://localhost:8080/"
    },
    "executionInfo": {
     "elapsed": 2084,
     "status": "ok",
     "timestamp": 1627123554263,
     "user": {
      "displayName": "Salman",
      "photoUrl": "",
      "userId": "12336350671635365797"
     },
     "user_tz": -60
    },
    "id": "1s_bfwzL8GX-",
    "outputId": "084d29bb-0f2f-4d16-acca-aae7f67278ad"
   },
   "outputs": [
    {
     "name": "stdout",
     "output_type": "stream",
     "text": [
      "              precision    recall  f1-score   support\n",
      "\n",
      "           0       0.92      0.97      0.94      1896\n",
      "           1       0.34      0.14      0.20       195\n",
      "\n",
      "    accuracy                           0.89      2091\n",
      "   macro avg       0.63      0.56      0.57      2091\n",
      "weighted avg       0.86      0.89      0.87      2091\n",
      "\n",
      "Accuracy = 0.8938307030129125, Precision = 0.3373493975903614, Recall = 0.14358974358974358, F1-score = 0.20143884892086328\n",
      "Confusion Matrix is:\n",
      "[[1841   55]\n",
      " [ 167   28]]\n"
     ]
    }
   ],
   "source": [
    "#Train Data -  Labeled Train + Unlabeled Train + Unlabeled Test\n",
    "from sklearn.metrics import classification_report\n",
    "from sklearn.metrics import confusion_matrix\n",
    "from sklearn.metrics import accuracy_score as accuracy\n",
    "from sklearn.metrics import recall_score as recall\n",
    "from sklearn.metrics import precision_score as precision\n",
    "from sklearn.metrics import f1_score\n",
    "\n",
    "lp_model = LabelSpreading(kernel='knn',alpha=.01, n_neighbors=3)\n",
    "lp_model.fit(pd.concat([X_train,X_test]), pd.concat([y_train, pd.Series(-1*np.ones(shape=(y_test.shape[0],))) ]))\n",
    "\n",
    "\n",
    "## Results on Test Set\n",
    "y_pred = lp_model.predict(X_test)\n",
    "y_true = y_test \n",
    "print(classification_report(y_true, y_pred))\n",
    "\n",
    "cmlog = confusion_matrix(y_test, y_pred)\n",
    "acc   = accuracy(y_test, y_pred)\n",
    "rec   = recall(y_test, y_pred)\n",
    "prec  = precision(y_test, y_pred)\n",
    "f1    = f1_score(y_test, y_pred)\n",
    "\n",
    "# Print the metrics, display the confusion matrix, and visualize the model\n",
    "print(f'Accuracy = {acc}, Precision = {prec}, Recall = {rec}, F1-score = {f1}')\n",
    "print('Confusion Matrix is:')\n",
    "print(cmlog)"
   ]
  },
  {
   "cell_type": "code",
   "execution_count": 35,
   "metadata": {
    "colab": {
     "base_uri": "https://localhost:8080/"
    },
    "executionInfo": {
     "elapsed": 1440,
     "status": "ok",
     "timestamp": 1627124309648,
     "user": {
      "displayName": "Salman",
      "photoUrl": "",
      "userId": "12336350671635365797"
     },
     "user_tz": -60
    },
    "id": "AzWY1grHKiK7",
    "outputId": "e58f779d-61d4-4f4d-f4d2-894cb36f6b11"
   },
   "outputs": [
    {
     "name": "stdout",
     "output_type": "stream",
     "text": [
      "              precision    recall  f1-score   support\n",
      "\n",
      "           0       0.93      0.96      0.94      1896\n",
      "           1       0.41      0.28      0.33       195\n",
      "\n",
      "    accuracy                           0.90      2091\n",
      "   macro avg       0.67      0.62      0.64      2091\n",
      "weighted avg       0.88      0.90      0.89      2091\n",
      "\n",
      "Accuracy = 0.8952654232424677, Precision = 0.41044776119402987, Recall = 0.28205128205128205, F1-score = 0.3343465045592705\n",
      "Confusion Matrix is:\n",
      "[[1817   79]\n",
      " [ 140   55]]\n"
     ]
    }
   ],
   "source": [
    "#Train Data -  Full Labeled Train \n",
    "from sklearn.metrics import classification_report\n",
    "from sklearn.metrics import confusion_matrix\n",
    "from sklearn.metrics import accuracy_score as accuracy\n",
    "from sklearn.metrics import recall_score as recall\n",
    "from sklearn.metrics import precision_score as precision\n",
    "from sklearn.metrics import f1_score\n",
    "\n",
    "lp_model = LabelSpreading(kernel='knn',alpha=.01, n_neighbors=3)\n",
    "lp_model.fit(pd.concat([X_train]), pd.concat([df_train_labeled['Revenue'],df_train_unlabeled['Revenue']]))\n",
    "\n",
    "## Results on Test Set\n",
    "y_pred = lp_model.predict(X_test)\n",
    "y_true = y_test \n",
    "print(classification_report(y_true, y_pred))\n",
    "\n",
    "cmlog = confusion_matrix(y_test, y_pred)\n",
    "acc   = accuracy(y_test, y_pred)\n",
    "rec   = recall(y_test, y_pred)\n",
    "prec  = precision(y_test, y_pred)\n",
    "f1    = f1_score(y_test, y_pred)\n",
    "\n",
    "# Print the metrics, display the confusion matrix, and visualize the model\n",
    "print(f'Accuracy = {acc}, Precision = {prec}, Recall = {rec}, F1-score = {f1}')\n",
    "print('Confusion Matrix is:')\n",
    "print(cmlog)"
   ]
  },
  {
   "cell_type": "code",
   "execution_count": 34,
   "metadata": {
    "colab": {
     "base_uri": "https://localhost:8080/"
    },
    "executionInfo": {
     "elapsed": 2085,
     "status": "ok",
     "timestamp": 1627123558817,
     "user": {
      "displayName": "Salman",
      "photoUrl": "",
      "userId": "12336350671635365797"
     },
     "user_tz": -60
    },
    "id": "PQ3DQY4I_bgZ",
    "outputId": "cb64bcae-8f30-4bda-a221-62b30682c035"
   },
   "outputs": [
    {
     "name": "stdout",
     "output_type": "stream",
     "text": [
      "              precision    recall  f1-score   support\n",
      "\n",
      "           0       0.94      0.92      0.93      1896\n",
      "           1       0.34      0.38      0.36       195\n",
      "\n",
      "    accuracy                           0.87      2091\n",
      "   macro avg       0.64      0.65      0.64      2091\n",
      "weighted avg       0.88      0.87      0.88      2091\n",
      "\n",
      "Accuracy = 0.8727881396461024, Precision = 0.3393665158371041, Recall = 0.38461538461538464, F1-score = 0.3605769230769231\n",
      "Confusion Matrix is:\n",
      "[[1750  146]\n",
      " [ 120   75]]\n"
     ]
    }
   ],
   "source": [
    "#Train Data -  Full Labeled Train +  Unlabeled Test\n",
    "from sklearn.metrics import classification_report\n",
    "from sklearn.metrics import confusion_matrix\n",
    "from sklearn.metrics import accuracy_score as accuracy\n",
    "from sklearn.metrics import recall_score as recall\n",
    "from sklearn.metrics import precision_score as precision\n",
    "from sklearn.metrics import f1_score\n",
    "\n",
    "lp_model = LabelSpreading(kernel='knn',alpha=.01, n_neighbors=3)\n",
    "lp_model.fit(pd.concat([X_train,X_test]), pd.concat([df_train_labeled['Revenue'],df_train_unlabeled['Revenue'], pd.Series(-1*np.ones(shape=(y_test.shape[0],))) ]))\n",
    "\n",
    "## Results on Test Set\n",
    "y_pred = lp_model.predict(X_test)\n",
    "y_true = y_test \n",
    "print(classification_report(y_true, y_pred))\n",
    "\n",
    "cmlog = confusion_matrix(y_test, y_pred)\n",
    "acc   = accuracy(y_test, y_pred)\n",
    "rec   = recall(y_test, y_pred)\n",
    "prec  = precision(y_test, y_pred)\n",
    "f1    = f1_score(y_test, y_pred)\n",
    "\n",
    "# Print the metrics, display the confusion matrix, and visualize the model\n",
    "print(f'Accuracy = {acc}, Precision = {prec}, Recall = {rec}, F1-score = {f1}')\n",
    "print('Confusion Matrix is:')\n",
    "print(cmlog)"
   ]
  },
  {
   "cell_type": "markdown",
   "metadata": {
    "id": "oSvYzzGnAR3S"
   },
   "source": [
    "# Task 3 - Summary\n",
    "\n",
    "Semi-supervised learning.\n",
    "\n",
    "For semi-supervised learning Label-spreading was chosed as the choice of algorithm of choice. Data was pre-processed similar to Task 2 and only features shotlisted in Task 1 were used in the predictions.\n",
    "\n",
    "Grid Search on Label Spreading yeilded n_neighbors = 3 as the best choice for the hyper-parameter.\n",
    "\n",
    "\n",
    "Semi-Supervised Learning Results:\n",
    "\n",
    "* Model 1 - Trained on Labeled Trained Data from June-Sept Only:\n",
    "   * Accuracy =  0.885,\n",
    "   * Precision = 0.308\n",
    "   * Recall = 0.185\n",
    "   * F1-score = 0.231\n",
    "   * Confusion Matrix is:[[1815   81][ 159   36]]\n",
    "\n",
    "* Model 2 -  Trained on Labeled Trained Data from June-Sept + Unlabeled Data from Oct-Nov.\n",
    "   *  Accuracy = 0.877,\n",
    "   * Precision = 0.240\n",
    "   * Recall = 0.149\n",
    "   * F1-score = 0.184\n",
    "   * Confusion Matrix is:[[1804   92][ 166   29]]\n",
    "\n",
    "\n",
    "* Model 3 - Trained on Full Labeled Trained Data from June-Dec\n",
    "\n",
    "   * Accuracy = 0.895,\n",
    "   * Precision = 0.410\n",
    "   * Recall = 0.282\n",
    "   * F1-score = 0.334\n",
    "   * Confusion Matrix is:[[1817   79][ 140   55]]\n",
    "\n",
    "* Model 4 - Trained on Full Labeled Trained Data from June-Dec + Unlabeled Data from test set.\n",
    "\n",
    "   * Accuracy = 0.873,\n",
    "   * Precision = 0.339\n",
    "   * Recall = 0.3846\n",
    "   * F1-score = 0.361\n",
    "   * Confusion Matrix is:[[1750  146] [ 120   75]]\n",
    "\n",
    "The f1-score was the choice for model selection in this problem as we wanted a trade-off beetween precision and recall. \n",
    "\n",
    "When model was trained just on labeled data from June-sept vs Model trained on labeled data from June-Sept+ unlabeled trained data, the performance was better on the supervised problem. Other semi-supervised learning techinques such as S3VM can be explored to see if semi-supervised learnig can aid this problem or not.\n",
    "\n",
    "Nevertheless Model trained with full labeled train set plus unlabeled test had a better performance (on f1-score) than model trained just on full labeled test set (Model 3 vs. Model 4). So here we do see a benfit of including unlabled test set together with full labeld trained data.\n",
    "\n"
   ]
  },
  {
   "cell_type": "markdown",
   "metadata": {
    "id": "l3rckdheLUAw"
   },
   "source": [
    "# THANKS!"
   ]
  }
 ],
 "metadata": {
  "colab": {
   "collapsed_sections": [],
   "name": "ML_for_Data_Science.ipynb",
   "provenance": [
    {
     "file_id": "1R2_su5UgZQS-9wsY2LKR7RZ-SE-xM40D",
     "timestamp": 1626623362335
    }
   ]
  },
  "kernelspec": {
   "display_name": "Python 3",
   "language": "python",
   "name": "python3"
  },
  "language_info": {
   "codemirror_mode": {
    "name": "ipython",
    "version": 3
   },
   "file_extension": ".py",
   "mimetype": "text/x-python",
   "name": "python",
   "nbconvert_exporter": "python",
   "pygments_lexer": "ipython3",
   "version": "3.8.5"
  },
  "widgets": {
   "application/vnd.jupyter.widget-state+json": {
    "06fb4fc6bf174e7ab4c99a3b687c42a9": {
     "model_module": "@jupyter-widgets/controls",
     "model_name": "DescriptionStyleModel",
     "state": {
      "_model_module": "@jupyter-widgets/controls",
      "_model_module_version": "1.5.0",
      "_model_name": "DescriptionStyleModel",
      "_view_count": null,
      "_view_module": "@jupyter-widgets/base",
      "_view_module_version": "1.2.0",
      "_view_name": "StyleView",
      "description_width": ""
     }
    },
    "26e6a06d32a343b9a2bf4319056262d4": {
     "model_module": "@jupyter-widgets/base",
     "model_name": "LayoutModel",
     "state": {
      "_model_module": "@jupyter-widgets/base",
      "_model_module_version": "1.2.0",
      "_model_name": "LayoutModel",
      "_view_count": null,
      "_view_module": "@jupyter-widgets/base",
      "_view_module_version": "1.2.0",
      "_view_name": "LayoutView",
      "align_content": null,
      "align_items": null,
      "align_self": null,
      "border": null,
      "bottom": null,
      "display": null,
      "flex": null,
      "flex_flow": null,
      "grid_area": null,
      "grid_auto_columns": null,
      "grid_auto_flow": null,
      "grid_auto_rows": null,
      "grid_column": null,
      "grid_gap": null,
      "grid_row": null,
      "grid_template_areas": null,
      "grid_template_columns": null,
      "grid_template_rows": null,
      "height": null,
      "justify_content": null,
      "justify_items": null,
      "left": null,
      "margin": null,
      "max_height": null,
      "max_width": null,
      "min_height": null,
      "min_width": null,
      "object_fit": null,
      "object_position": null,
      "order": null,
      "overflow": null,
      "overflow_x": null,
      "overflow_y": null,
      "padding": null,
      "right": null,
      "top": null,
      "visibility": null,
      "width": null
     }
    },
    "437e20613bd14a77a2b7638427b6adb1": {
     "model_module": "@jupyter-widgets/base",
     "model_name": "LayoutModel",
     "state": {
      "_model_module": "@jupyter-widgets/base",
      "_model_module_version": "1.2.0",
      "_model_name": "LayoutModel",
      "_view_count": null,
      "_view_module": "@jupyter-widgets/base",
      "_view_module_version": "1.2.0",
      "_view_name": "LayoutView",
      "align_content": null,
      "align_items": null,
      "align_self": null,
      "border": null,
      "bottom": null,
      "display": null,
      "flex": null,
      "flex_flow": null,
      "grid_area": null,
      "grid_auto_columns": null,
      "grid_auto_flow": null,
      "grid_auto_rows": null,
      "grid_column": null,
      "grid_gap": null,
      "grid_row": null,
      "grid_template_areas": null,
      "grid_template_columns": null,
      "grid_template_rows": null,
      "height": null,
      "justify_content": null,
      "justify_items": null,
      "left": null,
      "margin": null,
      "max_height": null,
      "max_width": null,
      "min_height": null,
      "min_width": null,
      "object_fit": null,
      "object_position": null,
      "order": null,
      "overflow": null,
      "overflow_x": null,
      "overflow_y": null,
      "padding": null,
      "right": null,
      "top": null,
      "visibility": null,
      "width": null
     }
    },
    "539b083b05dc47c6964892e2b8ecd26b": {
     "model_module": "@jupyter-widgets/controls",
     "model_name": "FloatProgressModel",
     "state": {
      "_dom_classes": [],
      "_model_module": "@jupyter-widgets/controls",
      "_model_module_version": "1.5.0",
      "_model_name": "FloatProgressModel",
      "_view_count": null,
      "_view_module": "@jupyter-widgets/controls",
      "_view_module_version": "1.5.0",
      "_view_name": "ProgressView",
      "bar_style": "",
      "description": "Optimization Progress: 100%",
      "description_tooltip": null,
      "layout": "IPY_MODEL_437e20613bd14a77a2b7638427b6adb1",
      "max": 120,
      "min": 0,
      "orientation": "horizontal",
      "style": "IPY_MODEL_a1e8ccb322124f3fabd68d0c6c47b5b6",
      "value": 120
     }
    },
    "a1e8ccb322124f3fabd68d0c6c47b5b6": {
     "model_module": "@jupyter-widgets/controls",
     "model_name": "ProgressStyleModel",
     "state": {
      "_model_module": "@jupyter-widgets/controls",
      "_model_module_version": "1.5.0",
      "_model_name": "ProgressStyleModel",
      "_view_count": null,
      "_view_module": "@jupyter-widgets/base",
      "_view_module_version": "1.2.0",
      "_view_name": "StyleView",
      "bar_color": null,
      "description_width": "initial"
     }
    },
    "a6c2ecb92dec45e88b429df44fcc1e36": {
     "model_module": "@jupyter-widgets/controls",
     "model_name": "HBoxModel",
     "state": {
      "_dom_classes": [],
      "_model_module": "@jupyter-widgets/controls",
      "_model_module_version": "1.5.0",
      "_model_name": "HBoxModel",
      "_view_count": null,
      "_view_module": "@jupyter-widgets/controls",
      "_view_module_version": "1.5.0",
      "_view_name": "HBoxView",
      "box_style": "",
      "children": [
       "IPY_MODEL_539b083b05dc47c6964892e2b8ecd26b",
       "IPY_MODEL_a8bb0a6a8d78473383b7442d342f2680"
      ],
      "layout": "IPY_MODEL_ba9c169b9cbe4f3c9584eacffa59b461"
     }
    },
    "a8bb0a6a8d78473383b7442d342f2680": {
     "model_module": "@jupyter-widgets/controls",
     "model_name": "HTMLModel",
     "state": {
      "_dom_classes": [],
      "_model_module": "@jupyter-widgets/controls",
      "_model_module_version": "1.5.0",
      "_model_name": "HTMLModel",
      "_view_count": null,
      "_view_module": "@jupyter-widgets/controls",
      "_view_module_version": "1.5.0",
      "_view_name": "HTMLView",
      "description": "",
      "description_tooltip": null,
      "layout": "IPY_MODEL_26e6a06d32a343b9a2bf4319056262d4",
      "placeholder": "​",
      "style": "IPY_MODEL_06fb4fc6bf174e7ab4c99a3b687c42a9",
      "value": " 120/120 [23:56&lt;00:00,  6.28s/pipeline]"
     }
    },
    "ba9c169b9cbe4f3c9584eacffa59b461": {
     "model_module": "@jupyter-widgets/base",
     "model_name": "LayoutModel",
     "state": {
      "_model_module": "@jupyter-widgets/base",
      "_model_module_version": "1.2.0",
      "_model_name": "LayoutModel",
      "_view_count": null,
      "_view_module": "@jupyter-widgets/base",
      "_view_module_version": "1.2.0",
      "_view_name": "LayoutView",
      "align_content": null,
      "align_items": null,
      "align_self": null,
      "border": null,
      "bottom": null,
      "display": null,
      "flex": null,
      "flex_flow": null,
      "grid_area": null,
      "grid_auto_columns": null,
      "grid_auto_flow": null,
      "grid_auto_rows": null,
      "grid_column": null,
      "grid_gap": null,
      "grid_row": null,
      "grid_template_areas": null,
      "grid_template_columns": null,
      "grid_template_rows": null,
      "height": null,
      "justify_content": null,
      "justify_items": null,
      "left": null,
      "margin": null,
      "max_height": null,
      "max_width": null,
      "min_height": null,
      "min_width": null,
      "object_fit": null,
      "object_position": null,
      "order": null,
      "overflow": null,
      "overflow_x": null,
      "overflow_y": null,
      "padding": null,
      "right": null,
      "top": null,
      "visibility": null,
      "width": null
     }
    }
   }
  }
 },
 "nbformat": 4,
 "nbformat_minor": 1
}
