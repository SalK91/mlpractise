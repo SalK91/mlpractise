{
 "cells": [
  {
   "cell_type": "code",
   "execution_count": null,
   "metadata": {},
   "outputs": [],
   "source": [
    "import pandas as pd\n",
    "import numpy as np\n",
    "import scipy.stats as stats\n",
    "import re\n",
    "\n",
    "nfl_df=pd.read_csv(\"assets/nfl.csv\")\n",
    "cities=pd.read_html(\"assets/wikipedia_data.html\")[1]\n",
    "cities=cities.iloc[:-1,[0,3,5,6,7,8]]\n",
    "\n",
    "def nfl_correlation(): \n",
    "    # YOUR CODE HERE\n",
    "    nhl_df1 = nfl_df[(nfl_df['year']==2018) & (nfl_df['team']!=nfl_df['L'])]\n",
    "    nhl_df1['team'] = nhl_df1['team'].str.replace(r'\\*','') \n",
    "    nhl_df1 = nhl_df1[['team','W','L']]\n",
    "    data_types_dict = {'team': str,'W' : int, 'L': int}\n",
    "    nhl_df1 = nhl_df1.astype(data_types_dict)\n",
    "    nhl_df1['ratio'] = nhl_df1['W']/(nhl_df1['W']+nhl_df1['L'])\n",
    "    nhl_df1['team'] = nhl_df1['team'].str.replace(r'[\\*]',\"\")\n",
    "    nhl_df1['team'] = nhl_df1['team'].str.replace(r'\\(\\d*\\)',\"\")\n",
    "    nhl_df1['team'] = nhl_df1['team'].str.replace(r'[\\xa0]',\"\")\n",
    "    nhl_df1['team'] = nhl_df1['team'].str.replace('\\ Sox','Sox')\n",
    "    nhl_df1['team'] = nhl_df1['team'].str.replace('[\\w.]* ','')\n",
    "    nhl_df1['team'] = nhl_df1['team'].str.replace('+','')\n",
    "\n",
    "\n",
    "    print(nhl_df1)\n",
    "    #print(nhl_df1.head(100))\n",
    "    team = cities['NFL'].str.extract('([A-Z]{0,2}[a-z0-9]*\\ [A-Z]{0,2}[a-z0-9]*|[A-Z]{0,2}[a-z0-9]*)([A-Z]{0,2}[a-z0-9]*\\ [A-Z]{0,2}[a-z0-9]*|[A-Z]{0,2}[a-z0-9]*)([A-Z]{0,2}[a-z0-9]*\\ [A-Z]{0,2}[a-z0-9]*|[A-Z]{0,2}[a-z0-9]*)')\n",
    "    team['Metropolitan area']=cities['Metropolitan area']\n",
    "    team = pd.melt(team, id_vars=['Metropolitan area']).drop(columns=['variable']).replace(\"\",np.nan).replace(\"—\",np.nan).dropna().reset_index().rename(columns = {\"value\":\"team\"})\n",
    "    team=pd.merge(team,cities,how='left',on = 'Metropolitan area').iloc[:,1:4]\n",
    "    team = team.astype({'Metropolitan area': str, 'team': str, 'Population (2016 est.)[8]': int})\n",
    "    team['team']=team['team'].str.replace('\\ Sox','Sox')\n",
    "    team['team']=team['team'].str.replace('[\\w.]*\\ ','')\n",
    "    print(team)\n",
    "\n",
    "    join = pd.merge(team, nhl_df1,how='inner', on='team')\n",
    "    \n",
    "    join1 = join.groupby('Metropolitan area').agg({'ratio':np.nanmean,'Population (2016 est.)[8]':np.nanmean})\n",
    "    population_by_region = join1['Population (2016 est.)[8]'] # pass in metropolitan area population from cities\n",
    "    win_loss_by_region = join1['ratio'] # pass in win/loss ratio from nhl_df in the same order as cities[\"Metropolitan area\"]\n",
    "     \n",
    "\n",
    "    assert len(population_by_region) == len(win_loss_by_region), \"Q4: Your lists must be the same length\"\n",
    "    assert len(population_by_region) == 29, \"Q4: There should be 29 teams being analysed for NFL\"\n",
    "\n",
    "    return stats.pearsonr(population_by_region, win_loss_by_region)[0]\n",
    "\n",
    "nfl_correlation()"
   ]
  }
 ],
 "metadata": {
  "kernelspec": {
   "display_name": "Python 3",
   "language": "python",
   "name": "python3"
  },
  "language_info": {
   "codemirror_mode": {
    "name": "ipython",
    "version": 3
   },
   "file_extension": ".py",
   "mimetype": "text/x-python",
   "name": "python",
   "nbconvert_exporter": "python",
   "pygments_lexer": "ipython3",
   "version": "3.8.5"
  }
 },
 "nbformat": 4,
 "nbformat_minor": 4
}
